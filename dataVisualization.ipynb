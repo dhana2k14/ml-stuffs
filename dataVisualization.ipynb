{
 "cells": [
  {
   "cell_type": "code",
   "execution_count": null,
   "metadata": {
    "collapsed": false
   },
   "outputs": [],
   "source": [
    "# to make IPython produces the plot\n",
    "\n",
    "%matplotlib inline "
   ]
  },
  {
   "cell_type": "code",
   "execution_count": null,
   "metadata": {
    "collapsed": false
   },
   "outputs": [],
   "source": [
    "# import dataset for analysis.\n",
    "\n",
    "import matplotlib.pyplot as plt\n",
    "import pandas as pd\n",
    "from datetime import datetime as dt\n",
    "df = pd.read_csv('C:\\eValuations\\Westonaria\\WES_SRVLDraftEmv.csv',sep=\",\",header=0,na_values=['NA'])\n",
    "fig = plt.figure() # plots in matplotlib reside within a figure object, use plt.figure to create new figure\n",
    "ax = fig.add_subplot(1,1,1) # create one or more subplots using add_subplot, because you can't crate blank figure\n",
    "ax.hist(df[\"Mo\"],bins=10)\n",
    "plt.show()"
   ]
  },
  {
   "cell_type": "code",
   "execution_count": null,
   "metadata": {
    "collapsed": false
   },
   "outputs": [],
   "source": [
    "\n",
    "# histogram\n",
    "\n",
    "fig = plt.figure() # plots in matplotlib reside within a figure object, use plt.figure to create new figure\n",
    "ax = fig.add_subplot(1,1,1) # create one or more subplots using add_subplot, because you can't crate blank figure\n",
    "ax.hist(df['Mo']) # here you can play with number of bins\n",
    "plt.title(\"Month distribution\")\n",
    "plt.xlabel(\"Month of Sale\")\n",
    "plt.ylabel(\"No of Sales\")\n",
    "plt.show()"
   ]
  },
  {
   "cell_type": "code",
   "execution_count": null,
   "metadata": {
    "collapsed": false
   },
   "outputs": [],
   "source": [
    "# Box plot\n",
    "\n",
    "import matplotlib.pyplot as plt\n",
    "import pandas as pd\n",
    "df = pd.read_csv('C:\\eValuations\\Westonaria\\WES_SRVLDraftEmv.csv',sep=\",\",header=0,na_values=['NA'])\n",
    "fig = plt.figure() # plots in matplotlib reside within a figure object, use plt.figure to create new figure\n",
    "ax = fig.add_subplot(1,1,1) # create one or more subplots using add_subplot, because you can't crate blank figure\n",
    "ax.boxplot(df[\"Yr\"])\n",
    "plt.show()\n"
   ]
  },
  {
   "cell_type": "code",
   "execution_count": null,
   "metadata": {
    "collapsed": false
   },
   "outputs": [],
   "source": [
    "df.head(10)"
   ]
  },
  {
   "cell_type": "code",
   "execution_count": null,
   "metadata": {
    "collapsed": true
   },
   "outputs": [],
   "source": []
  },
  {
   "cell_type": "code",
   "execution_count": null,
   "metadata": {
    "collapsed": false
   },
   "outputs": [],
   "source": [
    "# Violin plot\n",
    "\n",
    "import matplotlib.pyplot as plt\n",
    "import pandas as pd\n",
    "from datetime import datetime as dt\n",
    "df = pd.read_csv('C:\\eValuations\\Westonaria\\WES_SRVLDraftEmv.csv',sep=\",\",header=0,na_values=['NA'])\n",
    "\n",
    "import seaborn as sns\n",
    "sns.violinplot(df['Yr'],df['Sale']) # Variable plot\n",
    "sns.despine()\n"
   ]
  },
  {
   "cell_type": "code",
   "execution_count": null,
   "metadata": {
    "collapsed": false
   },
   "outputs": [],
   "source": [
    "# Bar chart\n",
    "\n",
    "var = df.groupby('Yr').Sale.count() # count of sales in each year\n",
    "\n",
    "fig = plt.figure()\n",
    "ax1 = fig.add_subplot(1,1,1)\n",
    "ax1.set_xlabel('Year of Sale')\n",
    "ax1.set_ylabel(\"Count of Sales\")\n",
    "ax1.set_title(\"Distribution of sales by Year\")\n",
    "var.plot(kind='bar')\n"
   ]
  },
  {
   "cell_type": "code",
   "execution_count": null,
   "metadata": {
    "collapsed": false
   },
   "outputs": [],
   "source": [
    "# Line chart\n",
    "\n",
    "var = df.groupby('Yr').Sale.count() # count of sales in each year\n",
    "\n",
    "fig = plt.figure()\n",
    "ax1 = fig.add_subplot(1,1,1)\n",
    "ax1.set_xlabel('Year of Sale')\n",
    "ax1.set_ylabel(\"Count of Sales\")\n",
    "ax1.set_title(\"Distribution of sales by Year\")\n",
    "var.plot(kind='line')\n"
   ]
  },
  {
   "cell_type": "code",
   "execution_count": null,
   "metadata": {
    "collapsed": false
   },
   "outputs": [],
   "source": [
    "# Stacked Column chart\n",
    "\n",
    "var = df.groupby(['Town','Yr']).Sale.count()\n",
    "\n",
    "var.unstack().plot(kind='bar',stacked=True,color=['red','blue'],grid=False)\n",
    "\n",
    "\n"
   ]
  },
  {
   "cell_type": "code",
   "execution_count": null,
   "metadata": {
    "collapsed": true
   },
   "outputs": [],
   "source": [
    "# Scatter plot\n",
    "\n",
    "fig = plt.figure()\n",
    "ax = fig.add_subplot(1,1,1)\n",
    "ax.scatter(df['Emv'],df['Sale']) # You can add more variables here to represent color and size\n",
    "plt.show()"
   ]
  },
  {
   "cell_type": "code",
   "execution_count": null,
   "metadata": {
    "collapsed": true
   },
   "outputs": [],
   "source": [
    "# Bubble Plot\n",
    "\n",
    "import matplotlib.pyplot as plt\n",
    "import pandas as pd\n",
    "df = pd.read_csv('C:\\eValuations\\Westonaria\\WES_SRVLDraftEmv.csv',sep=\",\",header=0,na_values=['NA'])\n",
    "\n",
    "fig = plt.figure()\n",
    "ax = fig.add_subplot(1,1,1)\n",
    "ax.scatter(df['Emv'],df['Sale'], s= df['PrevTot']) # Added third variable PrevTot as size of the bubble\n",
    "plt.show()\n"
   ]
  },
  {
   "cell_type": "code",
   "execution_count": null,
   "metadata": {
    "collapsed": false
   },
   "outputs": [],
   "source": [
    "# Pie chart\n",
    "\n",
    "import matplotlib.pyplot as plt\n",
    "\n",
    "var = df.groupby(['Yr']).count().stack()\n",
    "temp = var.unstack()\n",
    "type(temp)\n",
    "\n",
    "x_list = temp['Sale']\n",
    "label_list = temp.index\n",
    "\n",
    "plt.axis(\"equal\") # the pie chart is oval by default. To make it a circle use pyplot.axis(\"equal\")\n",
    "\n",
    "# to show the percentage of each pie slice, pass an ouput format to the autopct parameter\n",
    "\n",
    "plt.pie(x_list, labels = label_list,autopct=\"%1.1f%%\")\n",
    "plt.title(\"Distribution of sales\")\n",
    "\n",
    "plt.show()\n",
    "\n",
    "\n"
   ]
  },
  {
   "cell_type": "code",
   "execution_count": null,
   "metadata": {
    "collapsed": false
   },
   "outputs": [],
   "source": [
    "## load in-built datasets with seaborn package\n",
    "import seaborn as sns\n",
    "import numpy as np\n",
    "iris = sns.load_dataset('iris')\n",
    "flights = sns.load_dataset('flights')\n",
    "networks = sns.load_dataset(\"brain_networks\",index_col=0,header=[0,1,2])"
   ]
  },
  {
   "cell_type": "code",
   "execution_count": null,
   "metadata": {
    "collapsed": false
   },
   "outputs": [],
   "source": [
    "# Pivot table\n",
    "\n",
    "flights_rect = flights.pivot(\"month\",\"year\",\"passengers\")\n",
    "flights_rect.ix[flights.month.iloc[:12]]\n"
   ]
  },
  {
   "cell_type": "code",
   "execution_count": null,
   "metadata": {
    "collapsed": false,
    "scrolled": false
   },
   "outputs": [],
   "source": [
    "# heat map, annotate each cell with precise numeric values.\n",
    "import seaborn as sns\n",
    "sns.heatmap(flights_rect,annot = True, fmt = \"d\")\n"
   ]
  },
  {
   "cell_type": "code",
   "execution_count": null,
   "metadata": {
    "collapsed": false
   },
   "outputs": [],
   "source": [
    "# heat map, to show the trend in sale prices per township\n",
    "import pandas as pd\n",
    "df = pd.read_csv('C:\\eValuations\\Westonaria\\WES_SRVLDraftEmv.csv',sep=\",\",header=0,na_values=['NA'])\n",
    "df1 = pd.pivot_table(df[['Town','TotTla','ErfExt']],index=\"Town\")\n",
    "\n",
    "sns.heatmap(df1,annot = True)\n",
    "\n"
   ]
  },
  {
   "cell_type": "code",
   "execution_count": null,
   "metadata": {
    "collapsed": false
   },
   "outputs": [],
   "source": [
    "# clustermap - which will reorganize the heatmap so that similar entries on the rows and columns are plotted together. This can help discover the structure dataset.\n",
    "\n",
    "cg = sns.clustermap(df1)\n",
    "\n"
   ]
  },
  {
   "cell_type": "code",
   "execution_count": null,
   "metadata": {
    "collapsed": false
   },
   "outputs": [],
   "source": [
    "# Scatter plot matrix\n",
    "\n",
    "import seaborn as sns\n",
    "sns.set()\n",
    "\n",
    "df = sns.load_dataset('iris')\n",
    "sns.pairplot(df, hue = 'species')\n",
    "\n"
   ]
  },
  {
   "cell_type": "code",
   "execution_count": null,
   "metadata": {
    "collapsed": true
   },
   "outputs": [],
   "source": []
  }
 ],
 "metadata": {
  "kernelspec": {
   "display_name": "Python 2",
   "language": "python",
   "name": "python2"
  },
  "language_info": {
   "codemirror_mode": {
    "name": "ipython",
    "version": 2
   },
   "file_extension": ".py",
   "mimetype": "text/x-python",
   "name": "python",
   "nbconvert_exporter": "python",
   "pygments_lexer": "ipython2",
   "version": "2.7.9"
  }
 },
 "nbformat": 4,
 "nbformat_minor": 0
}
