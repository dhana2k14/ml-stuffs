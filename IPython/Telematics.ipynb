{
 "cells": [
  {
   "cell_type": "code",
   "execution_count": 1,
   "metadata": {
    "collapsed": true
   },
   "outputs": [],
   "source": [
    "import pandas as pd\n",
    "import sys, os"
   ]
  },
  {
   "cell_type": "code",
   "execution_count": 10,
   "metadata": {
    "collapsed": true
   },
   "outputs": [],
   "source": [
    "os.chdir(\"C:\\\\Users\\\\33093\\\\Downloads\\\\Tele\\\\Tele2\")\n",
    "path = os.getcwd()\n",
    "files = os.listdir(path)\n",
    "files_csv = [f for f in files if f[-3:] == 'csv']\n"
   ]
  },
  {
   "cell_type": "code",
   "execution_count": 11,
   "metadata": {
    "collapsed": true
   },
   "outputs": [],
   "source": [
    "## merging set of csv files into one data frame\n",
    "df = pd.DataFrame() ## an empty data frame\n",
    "for f in files_csv:\n",
    "    data = pd.read_csv(f, sep = \",\", parse_dates = True)\n",
    "    data['asset_name'] = 'Hyundai Creta'\n",
    "    df = df.append(data)"
   ]
  },
  {
   "cell_type": "code",
   "execution_count": 86,
   "metadata": {
    "collapsed": true
   },
   "outputs": [],
   "source": [
    "df = pd.DataFrame()\n",
    "for f in files_csv:\n",
    "    data = pd.read_csv(f, sep = \",\", parse_dates = True)\n",
    "    data['med_speed'] = data['Speed'].median()\n",
    "    data = data.iloc[[0,-1]]\n",
    "    df = df.append(data)"
   ]
  },
  {
   "cell_type": "code",
   "execution_count": 9,
   "metadata": {
    "collapsed": true
   },
   "outputs": [],
   "source": [
    "df_Gt = df"
   ]
  },
  {
   "cell_type": "code",
   "execution_count": 13,
   "metadata": {
    "collapsed": true
   },
   "outputs": [],
   "source": [
    "df_Gt = df_Gt.append(df)"
   ]
  },
  {
   "cell_type": "code",
   "execution_count": 14,
   "metadata": {
    "collapsed": true
   },
   "outputs": [],
   "source": [
    "df_Gt.to_csv(\".\\Consolidated_Tele_Creta.csv\", index = False)"
   ]
  },
  {
   "cell_type": "code",
   "execution_count": 20,
   "metadata": {},
   "outputs": [
    {
     "data": {
      "text/plain": [
       "Accuracy            6698\n",
       "Active              6698\n",
       "Altitude            6698\n",
       "Date                6698\n",
       "Heading             6698\n",
       "Lat                 6698\n",
       "Linked              6698\n",
       "Location            6697\n",
       "Lon                 6698\n",
       "Received            6698\n",
       "SpdLimit            5115\n",
       "SpdLimitMax         5156\n",
       "Speed               6698\n",
       "acc_pos             6698\n",
       "acc_speed           6698\n",
       "analog_03           6698\n",
       "analog_04           6698\n",
       "analog_05           6698\n",
       "battery_low          807\n",
       "battery_voltage     6698\n",
       "digital_01          6698\n",
       "harsh_accel            1\n",
       "harsh_brake            3\n",
       "hours_00_counter    6698\n",
       "idle_counter        6698\n",
       "ignition            6698\n",
       "log_reason          6698\n",
       "nudge                 65\n",
       "odo_counter         6698\n",
       "output_01           6698\n",
       "overspeed             58\n",
       "parts                  0\n",
       "pdop                6698\n",
       "power_disconnect    1098\n",
       "power_voltage       6698\n",
       "seq                 6698\n",
       "temp_01             6698\n",
       "dtype: int64"
      ]
     },
     "execution_count": 20,
     "metadata": {},
     "output_type": "execute_result"
    }
   ],
   "source": [
    "df.count()"
   ]
  },
  {
   "cell_type": "code",
   "execution_count": null,
   "metadata": {
    "collapsed": true
   },
   "outputs": [],
   "source": [
    "pd.read_csv()"
   ]
  },
  {
   "cell_type": "code",
   "execution_count": 11,
   "metadata": {
    "collapsed": true
   },
   "outputs": [],
   "source": [
    "df1 = pd.read_csv('C:\\\\Users\\\\33093\\\\Desktop\\\\Telemetry_Feb1_Feb28_2017.csv')"
   ]
  },
  {
   "cell_type": "code",
   "execution_count": 12,
   "metadata": {
    "collapsed": true
   },
   "outputs": [],
   "source": [
    "df2 = pd.read_csv('D:\\\\IoT\\\\Git\\\\fleet-management-data-processing-and-analysis\\\\sample_file.csv')"
   ]
  },
  {
   "cell_type": "code",
   "execution_count": 13,
   "metadata": {
    "collapsed": true
   },
   "outputs": [],
   "source": [
    "df1 = df1.append(df2)"
   ]
  },
  {
   "cell_type": "code",
   "execution_count": 15,
   "metadata": {
    "collapsed": true
   },
   "outputs": [],
   "source": [
    "df1.to_csv('C:\\\\Users\\\\33093\\\\Desktop\\\\Telemetry_Feb1_Apr30_2017.csv', index = False)"
   ]
  },
  {
   "cell_type": "code",
   "execution_count": null,
   "metadata": {
    "collapsed": true
   },
   "outputs": [],
   "source": []
  }
 ],
 "metadata": {
  "kernelspec": {
   "display_name": "Python 2",
   "language": "python",
   "name": "python2"
  },
  "language_info": {
   "codemirror_mode": {
    "name": "ipython",
    "version": 2
   },
   "file_extension": ".py",
   "mimetype": "text/x-python",
   "name": "python",
   "nbconvert_exporter": "python",
   "pygments_lexer": "ipython2",
   "version": "2.7.14"
  }
 },
 "nbformat": 4,
 "nbformat_minor": 1
}
