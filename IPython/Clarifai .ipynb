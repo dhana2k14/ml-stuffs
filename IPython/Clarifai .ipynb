{
 "cells": [
  {
   "cell_type": "code",
   "execution_count": 22,
   "metadata": {
    "collapsed": true,
    "scrolled": false
   },
   "outputs": [],
   "source": [
    "import pandas as pd\n",
    "from clarifai.client import ClarifaiApi\n",
    "import PIL, os"
   ]
  },
  {
   "cell_type": "code",
   "execution_count": 5,
   "metadata": {
    "collapsed": true,
    "scrolled": false
   },
   "outputs": [],
   "source": [
    "from bson import json_util, ObjectId\n",
    "from pandas.io.json import json_normalize\n",
    "import json"
   ]
  },
  {
   "cell_type": "code",
   "execution_count": 6,
   "metadata": {
    "collapsed": false
   },
   "outputs": [],
   "source": [
    "import itertools\n",
    "from pandas import DataFrame"
   ]
  },
  {
   "cell_type": "code",
   "execution_count": 7,
   "metadata": {
    "collapsed": false,
    "scrolled": false
   },
   "outputs": [],
   "source": [
    "clarifai_api = ClarifaiApi('T3DIgYtEokkSCQnGMNpd58cofZZJ123zmpJpbiHy','LgpBH4KHlSx0MVtu1dte-N10eIxlBwm_HPhW627z')"
   ]
  },
  {
   "cell_type": "code",
   "execution_count": 8,
   "metadata": {
    "collapsed": true
   },
   "outputs": [],
   "source": [
    "os.chdir('D:/Kaggle/Two Sigma Connect/images_sample/6811997/')"
   ]
  },
  {
   "cell_type": "code",
   "execution_count": 15,
   "metadata": {
    "collapsed": true
   },
   "outputs": [],
   "source": [
    "result = clarifai_api.tag_images(open('6811997_42f7bca780fc9e542e0d6cb3548e5f9d.jpg', 'rb'))"
   ]
  },
  {
   "cell_type": "code",
   "execution_count": 14,
   "metadata": {
    "collapsed": false
   },
   "outputs": [],
   "source": [
    "result = json.loads(json_util.dumps(result['results']))"
   ]
  },
  {
   "cell_type": "code",
   "execution_count": 11,
   "metadata": {
    "collapsed": false
   },
   "outputs": [],
   "source": [
    "result_normal = json_normalize(result)\n",
    "df = pd.DataFrame(result_normal)"
   ]
  },
  {
   "cell_type": "code",
   "execution_count": 25,
   "metadata": {
    "collapsed": true
   },
   "outputs": [],
   "source": [
    "res = df.to_dict()\n",
    "data = []\n",
    "\n",
    "for x in res['docid'].keys():\n",
    "    data.append(itertools.izip_longest([res['docid_str'][x]],  res['result.tag.classes'][x], res['result.tag.concept_ids'][x], res['result.tag.probs'][x], fillvalue = res['docid_str'][x]))\n",
    "\n",
    "new_data = list(itertools.chain.from_iterable(data))\n",
    "df3 = DataFrame(new_data, columns = ['docid_str', 'tag_class', 'tag_concept', 'tag_probs'])\n",
    "df3.to_csv('image_tags.csv', index = False)"
   ]
  },
  {
   "cell_type": "code",
   "execution_count": 21,
   "metadata": {
    "collapsed": false,
    "scrolled": false
   },
   "outputs": [],
   "source": [
    "result = clarifai_api.tag_images([open('D:\\\\Kaggle\\\\OCR\\\\Watermark\\\\1.jpg', 'rb'), \n",
    "                                  open('D:\\\\Kaggle\\\\OCR\\\\Watermark\\\\2.jpg', 'rb'),\n",
    "                                  open('D:\\\\Kaggle\\\\OCR\\\\train_cleaned\\\\2.png', 'rb')])"
   ]
  },
  {
   "cell_type": "code",
   "execution_count": 16,
   "metadata": {
    "collapsed": false,
    "scrolled": false
   },
   "outputs": [],
   "source": [
    "sanitized = json.loads(json_util.dumps(result['results']))"
   ]
  },
  {
   "cell_type": "code",
   "execution_count": 17,
   "metadata": {
    "collapsed": false,
    "scrolled": false
   },
   "outputs": [],
   "source": [
    "normalized = json_normalize(sanitized)"
   ]
  },
  {
   "cell_type": "code",
   "execution_count": 18,
   "metadata": {
    "collapsed": false,
    "scrolled": false
   },
   "outputs": [],
   "source": [
    "df = pd.DataFrame(normalized)"
   ]
  },
  {
   "cell_type": "code",
   "execution_count": 19,
   "metadata": {
    "collapsed": false,
    "scrolled": false
   },
   "outputs": [],
   "source": [
    "res = df.to_dict()\n",
    "data = []"
   ]
  },
  {
   "cell_type": "code",
   "execution_count": 21,
   "metadata": {
    "collapsed": false,
    "scrolled": false
   },
   "outputs": [
    {
     "name": "stdout",
     "output_type": "stream",
     "text": [
      "                          docid_str        tag_class  tag_concept  tag_probs\n",
      "0  2da49fc8cf5aa7fdd3216851e41b21c1          indoors  ai_Pf2b7clG   0.999729\n",
      "1  2da49fc8cf5aa7fdd3216851e41b21c1           window  ai_VTlCx2f2   0.993174\n",
      "2  2da49fc8cf5aa7fdd3216851e41b21c1             room  ai_pPxqdnP5   0.992829\n",
      "3  2da49fc8cf5aa7fdd3216851e41b21c1        furniture  ai_c9n7SB25   0.990809\n",
      "4  2da49fc8cf5aa7fdd3216851e41b21c1  interior design  ai_lWJnj5XV   0.990606\n"
     ]
    }
   ],
   "source": [
    "for x in res['docid'].keys():\n",
    "    data.append(itertools.izip_longest([res['docid_str'][x]],  res['result.tag.classes'][x], res['result.tag.concept_ids'][x], res['result.tag.probs'][x], fillvalue = res['docid_str'][x]))\n",
    "\n",
    "new_data = list(itertools.chain.from_iterable(data))\n",
    "df3 = DataFrame(new_data, columns = ['docid_str', 'tag_class', 'tag_concept', 'tag_probs'])\n",
    "print df3.head(5)"
   ]
  },
  {
   "cell_type": "code",
   "execution_count": null,
   "metadata": {
    "collapsed": false,
    "scrolled": false
   },
   "outputs": [],
   "source": [
    "def splitRows(x):\n",
    "    tag_class = x['result.tag.classes'].iloc[0]\n",
    "    a_lst = list()\n",
    "    for i, val in enumerate(tag_class):\n",
    "        tagRow = dict()\n",
    "        #tagRow['docid'] = x['docid'][k]\n",
    "        tagRow['index'] = i\n",
    "        tagRow['tag_class'] = val\n",
    "        a_lst.append(tagRow)\n",
    "    a_lst = pd.DataFrame(a_lst)\n",
    "        \n",
    "    tag_concept = x['result.tag.concept_ids'].iloc[0]\n",
    "    b_lst = list()\n",
    "    for i, val in enumerate(tag_concept):\n",
    "        conceptRow = dict()\n",
    "        #conceptRow['docid'] = x['docid'][k]\n",
    "        conceptRow['index'] = i\n",
    "        conceptRow['tag_concept'] = val\n",
    "        b_lst.append(conceptRow)\n",
    "    b_lst = pd.DataFrame(b_lst)\n",
    "        \n",
    "    tag_probs = x['result.tag.probs'].iloc[0]\n",
    "    c_lst = list()\n",
    "    for i, val in enumerate(tag_probs):\n",
    "        probRow = dict()\n",
    "        #probRow['docid'] = x['docid'][k]\n",
    "        probRow['index'] = i\n",
    "        probRow['tag_probs'] = val\n",
    "        c_lst.append(probRow)\n",
    "    c_lst = pd.DataFrame(c_lst)\n",
    "    \n",
    "    return c_lst"
   ]
  },
  {
   "cell_type": "code",
   "execution_count": null,
   "metadata": {
    "collapsed": false,
    "scrolled": false
   },
   "outputs": [],
   "source": [
    "def splitRows(x):\n",
    "    result = pd.DataFrame()\n",
    "    a_lst = list()\n",
    "    b_lst = list()\n",
    "    c_lst = list()\n",
    "    tagRow = dict()\n",
    "    conceptRow = dict()\n",
    "    probRow = dict()\n",
    "    for k in range(len(x['docid'])):\n",
    "        tag_class = x['result.tag.classes'].iloc[0]\n",
    "        a_lst = a_lst\n",
    "        for i, val in enumerate(tag_class):\n",
    "            tagRow = tagRow\n",
    "            tagRow['docid'] = x['docid'][k]\n",
    "            tagRow['index'] = i\n",
    "            tagRow['tag_class'] = val\n",
    "            a_lst.append(tagRow)\n",
    "        \n",
    "        tag_concept = x['result.tag.concept_ids'].iloc[0]\n",
    "        b_lst = b_lst\n",
    "        for i, val in enumerate(tag_concept):\n",
    "            #conceptRow['docid'] = x['docid'][k]\n",
    "            conceptRow = conceptRow\n",
    "            conceptRow['index'] = i\n",
    "            conceptRow['tag_concept'] = val\n",
    "            b_lst.append(conceptRow)\n",
    "        b_lst = pd.DataFrame(b_lst)\n",
    "        \n",
    "        tag_probs = x['result.tag.probs'].iloc[0]\n",
    "        c_lst = c_lst\n",
    "        for i, val in enumerate(tag_probs):\n",
    "            #probRow['docid'] = x['docid'][k]\n",
    "            probRow = probRow\n",
    "            probRow['index'] = i\n",
    "            probRow['tag_probs'] = val\n",
    "            c_lst.append(probRow)\n",
    "        c_lst = pd.DataFrame(c_lst)\n",
    "        \n",
    "    return pd.DataFrame(a_lst)"
   ]
  },
  {
   "cell_type": "code",
   "execution_count": null,
   "metadata": {
    "collapsed": false,
    "scrolled": false
   },
   "outputs": [],
   "source": [
    "splitRows(df)"
   ]
  },
  {
   "cell_type": "code",
   "execution_count": 50,
   "metadata": {
    "collapsed": false,
    "scrolled": false
   },
   "outputs": [],
   "source": [
    "for x in res['docid'].keys():\n",
    "    data_2.append(itertools.izip_longest([res['docid'][x]], res['result.tag.classes'][x], fillvalue = res['docid'][x]))   "
   ]
  },
  {
   "cell_type": "code",
   "execution_count": null,
   "metadata": {
    "collapsed": false,
    "scrolled": true
   },
   "outputs": [],
   "source": [
    "new_data_2 = list(itertools.chain.from_iterable(data_2))\n",
    "df2 = DataFrame(new_data_2, columns = ['docid', 'tag_class'])\n",
    "print df2"
   ]
  },
  {
   "cell_type": "code",
   "execution_count": 60,
   "metadata": {
    "collapsed": false
   },
   "outputs": [
    {
     "data": {
      "text/html": [
       "<div>\n",
       "<table border=\"1\" class=\"dataframe\">\n",
       "  <thead>\n",
       "    <tr style=\"text-align: right;\">\n",
       "      <th></th>\n",
       "      <th>docid</th>\n",
       "      <th>tag_class</th>\n",
       "    </tr>\n",
       "  </thead>\n",
       "  <tbody>\n",
       "    <tr>\n",
       "      <th>0</th>\n",
       "      <td>66791324612043802057720989927037183929</td>\n",
       "      <td>dark</td>\n",
       "    </tr>\n",
       "    <tr>\n",
       "      <th>1</th>\n",
       "      <td>66791324612043802057720989927037183929</td>\n",
       "      <td>exploration</td>\n",
       "    </tr>\n",
       "    <tr>\n",
       "      <th>2</th>\n",
       "      <td>66791324612043802057720989927037183929</td>\n",
       "      <td>light</td>\n",
       "    </tr>\n",
       "    <tr>\n",
       "      <th>3</th>\n",
       "      <td>66791324612043802057720989927037183929</td>\n",
       "      <td>science</td>\n",
       "    </tr>\n",
       "    <tr>\n",
       "      <th>4</th>\n",
       "      <td>66791324612043802057720989927037183929</td>\n",
       "      <td>astronomy</td>\n",
       "    </tr>\n",
       "  </tbody>\n",
       "</table>\n",
       "</div>"
      ],
      "text/plain": [
       "                                    docid    tag_class\n",
       "0  66791324612043802057720989927037183929         dark\n",
       "1  66791324612043802057720989927037183929  exploration\n",
       "2  66791324612043802057720989927037183929        light\n",
       "3  66791324612043802057720989927037183929      science\n",
       "4  66791324612043802057720989927037183929    astronomy"
      ]
     },
     "execution_count": 60,
     "metadata": {},
     "output_type": "execute_result"
    }
   ],
   "source": [
    "df2.head()"
   ]
  },
  {
   "cell_type": "code",
   "execution_count": null,
   "metadata": {
    "collapsed": true
   },
   "outputs": [],
   "source": []
  }
 ],
 "metadata": {
  "kernelspec": {
   "display_name": "Python 2",
   "language": "python",
   "name": "python2"
  },
  "language_info": {
   "codemirror_mode": {
    "name": "ipython",
    "version": 2
   },
   "file_extension": ".py",
   "mimetype": "text/x-python",
   "name": "python",
   "nbconvert_exporter": "python",
   "pygments_lexer": "ipython2",
   "version": "2.7.12"
  }
 },
 "nbformat": 4,
 "nbformat_minor": 0
}
