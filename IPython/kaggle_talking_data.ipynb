{
 "cells": [
  {
   "cell_type": "code",
   "execution_count": 213,
   "metadata": {
    "collapsed": true
   },
   "outputs": [],
   "source": [
    "# Reading all the data given in CSVs.\n",
    "import pandas as pd, numpy as np, scipy as sp\n",
    "import datetime as dt, os, sys\n",
    "%matplotlib inline"
   ]
  },
  {
   "cell_type": "code",
   "execution_count": 2,
   "metadata": {
    "collapsed": true
   },
   "outputs": [],
   "source": [
    "from sqlalchemy import create_engine\n",
    "from IPython.display import display"
   ]
  },
  {
   "cell_type": "code",
   "execution_count": null,
   "metadata": {
    "collapsed": false
   },
   "outputs": [],
   "source": [
    "os.chdir('D:\\Kaggle\\\\TalkingData')\n",
    "path = os.getcwd()\n",
    "app_events = pd.read_csv('app_events.csv', sep = ',')\n",
    "app_labels = pd.read_csv('app_labels.csv', sep = ',')\n",
    "events = pd.read_csv('events.csv', sep = ',')\n",
    "# gender_age_test = pd.read_csv('gender_age_test.csv', sep = ',')\n",
    "gender_age_train = pd.read_csv('gender_age_train.csv', sep = ',')\n",
    "label_categories = pd.read_csv('label_categories.csv', sep = ',')\n",
    "phone_brand_device_model = pd.read_csv('phone_brand_device_model.csv', sep = ',')\n",
    "# sample_submission = pd.read_csv('sample_submission.csv', sep = ',')"
   ]
  },
  {
   "cell_type": "code",
   "execution_count": null,
   "metadata": {
    "collapsed": false
   },
   "outputs": [],
   "source": [
    "# dropping duplicate device_id's from phone model\n",
    "phone_brand_device_model.drop_duplicates('device_id', inplace = True)"
   ]
  },
  {
   "cell_type": "code",
   "execution_count": null,
   "metadata": {
    "collapsed": false
   },
   "outputs": [],
   "source": [
    "# Transform the phone_brand names in chinese to english\n",
    "phone_brand_device_model['phone_brand_name'] = phone_brand_device_model.phone_brand.map(\n",
    "{'三星':'samsung','天语':'Ktouch','海信':'hisense','联想':'lenovo','欧比':'obi','爱派尔':'ipair','努比亚':'nubia','优米':'youmi',\n",
    "'朵唯':'dowe','黑米':'heymi','锤子':'hammer','酷比魔方':'koobee','美图':'meitu','尼比鲁':'nibilu','一加':'oneplus','优购':'yougo',\n",
    "'诺基亚':'nokia','糖葫芦':'candy','中国移动':'ccmc','语信':'yuxin','基伍':'kiwu','青橙':'greeno','华硕':'asus','夏新':'panasonic',\n",
    "'维图':'weitu','艾优尼':'aiyouni','摩托罗拉':'moto','乡米':'xiangmi','米奇':'micky','大可乐':'bigcola','沃普丰':'wpf','神舟':'hasse',\n",
    "'摩乐':'mole','飞秒':'fs','米歌':'mige','富可视':'fks','德赛':'desci','梦米':'mengmi','乐视':'Ishi','小杨树':'smallt','纽曼':'newman',\n",
    "'邦华':'banghua','E派':'epai','易派':'epai','普耐尔':'pner','欧新':'ouxin','西米':'ximi','海尔':'haier','波导':'bodao','糯米':'nuomi',\n",
    "'唯米':'weimi','酷珀':'kupo','谷歌':'google','昂达':'ada','聆韵':'lingyun'})"
   ]
  },
  {
   "cell_type": "code",
   "execution_count": null,
   "metadata": {
    "collapsed": false
   },
   "outputs": [],
   "source": [
    "phone_brand_device_model = phone_brand_device_model.drop(['phone_brand','device_model','device_model_name'], axis =1)\n",
    "gender_age_train = gender_age_train.merge(phone_brand_device_model, on = 'device_id', how = 'left')"
   ]
  },
  {
   "cell_type": "code",
   "execution_count": null,
   "metadata": {
    "collapsed": true
   },
   "outputs": [],
   "source": [
    "# merge category to app_labels data set by label_id\n",
    "app_labels = app_labels.merge(label_categories, on = 'label_id', how = 'left')"
   ]
  },
  {
   "cell_type": "code",
   "execution_count": null,
   "metadata": {
    "collapsed": false
   },
   "outputs": [],
   "source": [
    "# count labels or categories per app_id and add it to app_events data set\n",
    "agg = pd.DataFrame(app_labels.groupby('app_id', as_index = False).category.count())\n",
    "agg = agg.rename(columns = {'category':'category_count'})\n",
    "app_events = app_events.merge(agg, on = 'app_id', how = 'left')\n",
    "print app_events.head()"
   ]
  },
  {
   "cell_type": "code",
   "execution_count": null,
   "metadata": {
    "collapsed": false
   },
   "outputs": [],
   "source": [
    "app_events[app_events.app_id == 5927333115845830913].head()"
   ]
  },
  {
   "cell_type": "code",
   "execution_count": null,
   "metadata": {
    "collapsed": true
   },
   "outputs": [],
   "source": []
  }
 ],
 "metadata": {
  "kernelspec": {
   "display_name": "Python 2",
   "language": "python",
   "name": "python2"
  },
  "language_info": {
   "codemirror_mode": {
    "name": "ipython",
    "version": 2
   },
   "file_extension": ".py",
   "mimetype": "text/x-python",
   "name": "python",
   "nbconvert_exporter": "python",
   "pygments_lexer": "ipython2",
   "version": "2.7.12"
  }
 },
 "nbformat": 4,
 "nbformat_minor": 0
}
