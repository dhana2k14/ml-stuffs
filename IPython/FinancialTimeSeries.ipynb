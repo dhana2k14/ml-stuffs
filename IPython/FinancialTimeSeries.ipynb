{
 "cells": [
  {
   "cell_type": "markdown",
   "metadata": {},
   "source": [
    "# Financial time series with python\n"
   ]
  },
  {
   "cell_type": "code",
   "execution_count": 21,
   "metadata": {},
   "outputs": [],
   "source": [
    "# Import relevant packages\n",
    "import pandas as pd\n",
    "import numpy as np\n",
    "import os, itertools, sys\n",
    "import matplotlib.pylab as plt\n",
    "from matplotlib.gridspec import GridSpec\n",
    "\n",
    "from pandas.io.data import DataReader\n",
    "from datetime import datetime"
   ]
  },
  {
   "cell_type": "markdown",
   "metadata": {},
   "source": [
    "Now we are going to load stock data using yahoo finance.  \n",
    "We load Microsoft and Apples's adjusted close.\n",
    "\n",
    ">Adjusted close price : A stock's closing price on any given day of trading that has been amended to include any distributions and corporate actions that occurred at any time prior to the next day's open. The adjusted closing price is often used when examining historical returns or performing a detailed analysis on historical returns.\n",
    "\n"
   ]
  },
  {
   "cell_type": "code",
   "execution_count": 22,
   "metadata": {},
   "outputs": [],
   "source": [
    "# Syntax : stock_symbol, data_source\n",
    "# so if we write 'AAPL',  'yahoo'\n",
    "# we get Apple stocks from yahoo finance\n",
    "# we can also specify dates between which to take the stocks\n",
    "\n",
    "apple = DataReader('AAPL',  'yahoo')\n",
    "MSFT = DataReader('MSFT',  'yahoo')"
   ]
  },
  {
   "cell_type": "markdown",
   "metadata": {},
   "source": [
    "#### Let's have a look at this data frame"
   ]
  },
  {
   "cell_type": "code",
   "execution_count": 23,
   "metadata": {
    "scrolled": true
   },
   "outputs": [
    {
     "name": "stdout",
     "output_type": "stream",
     "text": [
      "                  Open        High         Low       Close     Volume  \\\n",
      "Date                                                                    \n",
      "2010-01-04  213.429998  214.499996  212.380001  214.009998  123432400   \n",
      "2010-01-05  214.599998  215.589994  213.249994  214.379993  150476200   \n",
      "2010-01-06  214.379993  215.230000  210.750004  210.969995  138040000   \n",
      "2010-01-07  211.750000  212.000006  209.050005  210.580000  119282800   \n",
      "2010-01-08  210.299994  212.000006  209.060005  211.980005  111902700   \n",
      "2010-01-11  212.799997  213.000002  208.450005  210.110003  115557400   \n",
      "2010-01-12  209.189995  209.769995  206.419998  207.720001  148614900   \n",
      "2010-01-13  207.870005  210.929995  204.099998  210.650002  151473000   \n",
      "2010-01-14  210.110003  210.459997  209.020004  209.430000  108223500   \n",
      "2010-01-15  210.929995  211.599997  205.869999  205.930000  148516900   \n",
      "\n",
      "            Adj Close  \n",
      "Date                   \n",
      "2010-01-04  28.466830  \n",
      "2010-01-05  28.516046  \n",
      "2010-01-06  28.062460  \n",
      "2010-01-07  28.010584  \n",
      "2010-01-08  28.196808  \n",
      "2010-01-11  27.948067  \n",
      "2010-01-12  27.630158  \n",
      "2010-01-13  28.019896  \n",
      "2010-01-14  27.857616  \n",
      "2010-01-15  27.392058  \n"
     ]
    }
   ],
   "source": [
    "# Print columns names\n",
    "print apple.iloc[:10, :] # show the first 10 entries"
   ]
  },
  {
   "cell_type": "markdown",
   "metadata": {},
   "source": [
    "We see that we do not have a Data column : the Date is the index.\n",
    "Let's rearrange the data frame, it will be easier :\n",
    "\n",
    "- We'll move the current index to a new column called \"Data\"\n",
    "- And we'll reset the existing index to 0, 1, .... number of days\n",
    "\n",
    "This can be done in a single pandas command :"
   ]
  },
  {
   "cell_type": "code",
   "execution_count": 24,
   "metadata": {
    "collapsed": true
   },
   "outputs": [],
   "source": [
    "# Let's do it for both dataframes\n",
    "apple.reset_index(level=0, inplace=True) # inplace means we do not create a new data frame object\n",
    "MSFT.reset_index(level=0, inplace=True)"
   ]
  },
  {
   "cell_type": "markdown",
   "metadata": {},
   "source": [
    "#### Let's check the results :"
   ]
  },
  {
   "cell_type": "code",
   "execution_count": 25,
   "metadata": {},
   "outputs": [
    {
     "name": "stdout",
     "output_type": "stream",
     "text": [
      "        Date        Open        High         Low       Close     Volume  \\\n",
      "0 2010-01-04  213.429998  214.499996  212.380001  214.009998  123432400   \n",
      "1 2010-01-05  214.599998  215.589994  213.249994  214.379993  150476200   \n",
      "2 2010-01-06  214.379993  215.230000  210.750004  210.969995  138040000   \n",
      "3 2010-01-07  211.750000  212.000006  209.050005  210.580000  119282800   \n",
      "4 2010-01-08  210.299994  212.000006  209.060005  211.980005  111902700   \n",
      "5 2010-01-11  212.799997  213.000002  208.450005  210.110003  115557400   \n",
      "6 2010-01-12  209.189995  209.769995  206.419998  207.720001  148614900   \n",
      "7 2010-01-13  207.870005  210.929995  204.099998  210.650002  151473000   \n",
      "8 2010-01-14  210.110003  210.459997  209.020004  209.430000  108223500   \n",
      "9 2010-01-15  210.929995  211.599997  205.869999  205.930000  148516900   \n",
      "\n",
      "   Adj Close  \n",
      "0  28.466830  \n",
      "1  28.516046  \n",
      "2  28.062460  \n",
      "3  28.010584  \n",
      "4  28.196808  \n",
      "5  27.948067  \n",
      "6  27.630158  \n",
      "7  28.019896  \n",
      "8  27.857616  \n",
      "9  27.392058  \n",
      "1519 1519\n",
      "        Date       Open       High        Low      Close    Volume  Adj Close\n",
      "0 2010-01-04  30.620001  31.100000  30.590000  30.950001  38409100  26.415914\n",
      "1 2010-01-05  30.850000  31.100000  30.639999  30.959999  49749600  26.424448\n",
      "2 2010-01-06  30.879999  31.080000  30.520000  30.770000  58182400  26.262284\n",
      "3 2010-01-07  30.629999  30.700001  30.190001  30.450001  50559700  25.989163\n",
      "4 2010-01-08  30.280001  30.879999  30.240000  30.660000  51197400  26.168398\n",
      "5 2010-01-11  30.709999  30.760000  30.120001  30.270000  68754700  25.835532\n",
      "6 2010-01-12  30.150000  30.400000  29.910000  30.070000  65912100  25.664831\n",
      "7 2010-01-13  30.260000  30.520000  30.010000  30.350000  51863500  25.903812\n",
      "8 2010-01-14  30.309999  31.100000  30.260000  30.959999  63228100  26.424448\n",
      "9 2010-01-15  31.080000  31.240000  30.709999  30.860001  79913200  26.339099\n"
     ]
    }
   ],
   "source": [
    "print apple.iloc[:10,:]\n",
    "\n",
    "print len(apple), len(MSFT)\n",
    "print MSFT.iloc[:10,:]\n",
    "\n",
    "# We may also want to get the time difference between contiguous points\n",
    "# the line below shows how to do so\n",
    "#print apple[\"Date\"].diff().astype('timedelta64[D]')"
   ]
  },
  {
   "cell_type": "markdown",
   "metadata": {},
   "source": [
    "Success !  \n",
    "\n",
    "Now we are going to monitor the evolution of the opening stock price over time for both companies.  \n",
    "So let's merge both data sets.\n",
    "\n",
    "Our code will do the following operation :\n",
    "\n",
    "- Rename Adj Close in the Apple dataframe to Adj CloseAAPL\n",
    "- Rename Adj Close in the MSFT dataframe to Adj CloseMSFT\n",
    "- Check that the Date column in both dataframes are equal\n",
    "- Create a new dataframe with columns Date, Adj CloseAAPL and Adj CloseMSFT\n"
   ]
  },
  {
   "cell_type": "code",
   "execution_count": 26,
   "metadata": {},
   "outputs": [
    {
     "name": "stdout",
     "output_type": "stream",
     "text": [
      "[]\n"
     ]
    }
   ],
   "source": [
    "# First let's check that the series have the same length\n",
    "assert(len(apple) == len(MSFT))\n",
    "\n",
    "# Then check if series are sampled identically\n",
    "arr =  apple[\"Date\"].values == MSFT[\"Date\"].values\n",
    "# Let's see if this condition is violated :\n",
    "\n",
    "l_uneq = np.where(arr == False)[0]\n",
    "print l_uneq\n",
    "\n",
    "assert(len(l_uneq) == 0)"
   ]
  },
  {
   "cell_type": "markdown",
   "metadata": {},
   "source": [
    "So far, so good, the data frames are sampled at the same points in time !  \n",
    "Let's carry on with the merge."
   ]
  },
  {
   "cell_type": "code",
   "execution_count": 28,
   "metadata": {},
   "outputs": [
    {
     "name": "stdout",
     "output_type": "stream",
     "text": [
      "        Date  Adj CloseAAPL  Adj CloseMSFT\n",
      "0 2010-01-04      28.466830      26.415914\n",
      "1 2010-01-05      28.516046      26.424448\n",
      "2 2010-01-06      28.062460      26.262284\n",
      "3 2010-01-07      28.010584      25.989163\n",
      "4 2010-01-08      28.196808      26.168398\n",
      "5 2010-01-11      27.948067      25.835532\n",
      "6 2010-01-12      27.630158      25.664831\n",
      "7 2010-01-13      28.019896      25.903812\n",
      "8 2010-01-14      27.857616      26.424448\n",
      "9 2010-01-15      27.392058      26.339099\n"
     ]
    }
   ],
   "source": [
    "# First let's rename the columns to avoid confusion.\n",
    "apple.columns = [\"Date\", \"Open\", \"High\", \"Low\", \"Close\", \"Volume\" , \"Adj CloseAAPL\"]\n",
    "MSFT.columns = [\"Date\", \"Open\", \"High\", \"Low\", \"Close\", \"Volume\", \"Adj CloseMSFT\"]\n",
    "\n",
    "# We will only use one Date column, since we've seen the two were the same\n",
    "\n",
    "# Now merge the data sets so that they are side by side.\n",
    "stocks = pd.concat([apple[[\"Date\", \"Adj CloseAAPL\"]], MSFT[[\"Adj CloseMSFT\"]]], axis =1) # use axis =1 to concat side by side\n",
    "\n",
    "# Let's inspect the results :\n",
    "\n",
    "print stocks.iloc[:10,:]"
   ]
  },
  {
   "cell_type": "markdown",
   "metadata": {},
   "source": [
    "Now let's plot the stock price at the opening :"
   ]
  },
  {
   "cell_type": "code",
   "execution_count": 30,
   "metadata": {},
   "outputs": [],
   "source": [
    "# Create a plot and a grid\n",
    "fig = plt.figure(figsize=(15, 15))\n",
    "gs = GridSpec(2, 1, bottom=0.18, left=0.18, right=0.88)\n",
    "\n",
    "axAPPLE = fig.add_subplot(gs[0])\n",
    "axMSFT = fig.add_subplot(gs[1])\n",
    "\n",
    "# Get time axis in days\n",
    "# Subtract first sample and convert time to minutes\n",
    "x_day = stocks[\"Date\"]\n",
    "# Get the Open values for both stock\n",
    "y_APPL, y_MSFT = stocks[\"Adj CloseAAPL\"].values, stocks[\"Adj CloseMSFT\"].values\n",
    "\n",
    "# Plot Open\n",
    "axAPPLE.plot(x_day, y_MSFT, \"k\", label=\"MSFT Adj Close\", linewidth=1.5)\n",
    "axMSFT.plot(x_day, y_APPL, \"r\", label=\"APPLE Adj Close\", linewidth=1.5)\n",
    "\n",
    "\n",
    "#####################\n",
    "# Figure cosmetics\n",
    "#####################\n",
    "\n",
    "# Axis labels, legend and formatting\n",
    "axAPPLE.set_xlabel(\"time\", fontsize=22)\n",
    "axAPPLE.set_ylabel(\"Open\", fontsize=22)\n",
    "axAPPLE.legend(loc=\"best\", fontsize=22)\n",
    "\n",
    "axMSFT.set_xlabel(\"time\", fontsize=22)\n",
    "axMSFT.set_ylabel(\"Open\", fontsize=22)\n",
    "axMSFT.legend(loc=\"best\", fontsize=22)\n",
    "\n",
    "plt.show()"
   ]
  },
  {
   "cell_type": "markdown",
   "metadata": {},
   "source": [
    "Now I'm going to show captures of the same type of data from YAHOO finance\n",
    "\n",
    "Apple:\n",
    "\n",
    "![AAPL](AAPL.png)\n",
    "\n",
    "Microsoft :\n",
    "\n",
    "![MSFT](MSFT.png)"
   ]
  },
  {
   "cell_type": "markdown",
   "metadata": {},
   "source": [
    "We see that we get the same curves (up to some smoothing) !"
   ]
  }
 ],
 "metadata": {
  "kernelspec": {
   "display_name": "Python 2",
   "language": "python",
   "name": "python2"
  },
  "language_info": {
   "codemirror_mode": {
    "name": "ipython",
    "version": 2
   },
   "file_extension": ".py",
   "mimetype": "text/x-python",
   "name": "python",
   "nbconvert_exporter": "python",
   "pygments_lexer": "ipython2",
   "version": "2.7.14"
  }
 },
 "nbformat": 4,
 "nbformat_minor": 1
}
