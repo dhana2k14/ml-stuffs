{
 "cells": [
  {
   "cell_type": "code",
   "execution_count": null,
   "metadata": {
    "collapsed": true
   },
   "outputs": [],
   "source": [
    "# Talking Data - https://www.kaggle.com/beyondbeneath/talkingdata-mobile-user-demographics/geolocation-visualisations/notebook"
   ]
  },
  {
   "cell_type": "code",
   "execution_count": 3,
   "metadata": {
    "collapsed": false
   },
   "outputs": [],
   "source": [
    "import pandas as pd\n",
    "import numpy as np\n",
    "import os\n",
    "import matplotlib.pyplot as plt\n",
    "import seaborn as sns\n",
    "from mpl_toolkits.basemap import Basemap\n",
    "%matplotlib inline"
   ]
  },
  {
   "cell_type": "code",
   "execution_count": 7,
   "metadata": {
    "collapsed": false
   },
   "outputs": [],
   "source": [
    "os.chdir('D:\\Kaggle\\TalkingData')"
   ]
  },
  {
   "cell_type": "code",
   "execution_count": 8,
   "metadata": {
    "collapsed": false
   },
   "outputs": [
    {
     "data": {
      "text/html": [
       "<div>\n",
       "<table border=\"1\" class=\"dataframe\">\n",
       "  <thead>\n",
       "    <tr style=\"text-align: right;\">\n",
       "      <th></th>\n",
       "      <th>event_id</th>\n",
       "      <th>device_id</th>\n",
       "      <th>timestamp</th>\n",
       "      <th>longitude</th>\n",
       "      <th>latitude</th>\n",
       "    </tr>\n",
       "  </thead>\n",
       "  <tbody>\n",
       "    <tr>\n",
       "      <th>0</th>\n",
       "      <td>1</td>\n",
       "      <td>29182687948017175</td>\n",
       "      <td>2016-05-01 00:55:25</td>\n",
       "      <td>121.38</td>\n",
       "      <td>31.24</td>\n",
       "    </tr>\n",
       "    <tr>\n",
       "      <th>1</th>\n",
       "      <td>2</td>\n",
       "      <td>-6401643145415154744</td>\n",
       "      <td>2016-05-01 00:54:12</td>\n",
       "      <td>103.65</td>\n",
       "      <td>30.97</td>\n",
       "    </tr>\n",
       "    <tr>\n",
       "      <th>2</th>\n",
       "      <td>3</td>\n",
       "      <td>-4833982096941402721</td>\n",
       "      <td>2016-05-01 00:08:05</td>\n",
       "      <td>106.60</td>\n",
       "      <td>29.70</td>\n",
       "    </tr>\n",
       "    <tr>\n",
       "      <th>3</th>\n",
       "      <td>4</td>\n",
       "      <td>-6815121365017318426</td>\n",
       "      <td>2016-05-01 00:06:40</td>\n",
       "      <td>104.27</td>\n",
       "      <td>23.28</td>\n",
       "    </tr>\n",
       "    <tr>\n",
       "      <th>4</th>\n",
       "      <td>5</td>\n",
       "      <td>-5373797595892518570</td>\n",
       "      <td>2016-05-01 00:07:18</td>\n",
       "      <td>115.88</td>\n",
       "      <td>28.66</td>\n",
       "    </tr>\n",
       "  </tbody>\n",
       "</table>\n",
       "</div>"
      ],
      "text/plain": [
       "   event_id             device_id            timestamp  longitude  latitude\n",
       "0         1     29182687948017175  2016-05-01 00:55:25     121.38     31.24\n",
       "1         2  -6401643145415154744  2016-05-01 00:54:12     103.65     30.97\n",
       "2         3  -4833982096941402721  2016-05-01 00:08:05     106.60     29.70\n",
       "3         4  -6815121365017318426  2016-05-01 00:06:40     104.27     23.28\n",
       "4         5  -5373797595892518570  2016-05-01 00:07:18     115.88     28.66"
      ]
     },
     "execution_count": 8,
     "metadata": {},
     "output_type": "execute_result"
    }
   ],
   "source": [
    "df_events = pd.read_csv('events.csv', dtype = {'device_id':np.str})\n",
    "df_events.head()"
   ]
  },
  {
   "cell_type": "code",
   "execution_count": 10,
   "metadata": {
    "collapsed": false
   },
   "outputs": [
    {
     "data": {
      "text/plain": [
       "<matplotlib.figure.Figure at 0xb92b9b0>"
      ]
     },
     "execution_count": 10,
     "metadata": {},
     "output_type": "execute_result"
    },
    {
     "data": {
      "text/plain": [
       "<matplotlib.figure.Figure at 0xb92b9b0>"
      ]
     },
     "metadata": {},
     "output_type": "display_data"
    }
   ],
   "source": [
    "df_events_sample = df_events.sample(n=100000)\n",
    "plt.figure(1, figsize = (12,6))"
   ]
  },
  {
   "cell_type": "code",
   "execution_count": 11,
   "metadata": {
    "collapsed": false
   },
   "outputs": [
    {
     "data": {
      "image/png": "[encoded data removed]",
      "text/plain": [
       "<matplotlib.figure.Figure at 0xb93ae80>"
      ]
     },
     "metadata": {},
     "output_type": "display_data"
    }
   ],
   "source": [
    "# Mercator of World\n",
    "m1 = Basemap(projection='merc',\n",
    "             llcrnrlat=-60,\n",
    "             urcrnrlat=65,\n",
    "             llcrnrlon=-180,\n",
    "             urcrnrlon=180,\n",
    "             lat_ts=0,\n",
    "             resolution='c')\n",
    "\n",
    "m1.fillcontinents(color='#191919',lake_color='#000000') # dark grey land, black lakes\n",
    "m1.drawmapboundary(fill_color='#000000')                # black background\n",
    "m1.drawcountries(linewidth=0.1, color=\"w\")              # thin white line for country borders\n",
    "\n",
    "# Plot the data\n",
    "mxy = m1(df_events_sample[\"longitude\"].tolist(), df_events_sample[\"latitude\"].tolist())\n",
    "m1.scatter(mxy[0], mxy[1], s=3, c=\"#1292db\", lw=0, alpha=1, zorder=5)\n",
    "\n",
    "plt.title(\"Global view of events\")\n",
    "plt.show()"
   ]
  },
  {
   "cell_type": "code",
   "execution_count": 45,
   "metadata": {
    "collapsed": false
   },
   "outputs": [],
   "source": [
    "pd.set_option('display.max_columns', 100)"
   ]
  },
  {
   "cell_type": "code",
   "execution_count": 49,
   "metadata": {
    "collapsed": false
   },
   "outputs": [],
   "source": [
    "df_events['lon_round'] = df_events['longitude'].round(decimals = 2)\n",
    "df_events['lat_round'] = df_events['latitude'].round(decimals = 2)"
   ]
  },
  {
   "cell_type": "code",
   "execution_count": 99,
   "metadata": {
    "collapsed": false
   },
   "outputs": [],
   "source": [
    "# extract beijing region\n",
    "lon_min, lon_max = 116, 117\n",
    "lat_min, lat_max = 39.75,40.25\n",
    "\n",
    "idx_beijing = (df_events['longitude']>lon_min) & \\\n",
    "             (df_events['longitude']<lon_max) &\\\n",
    "             (df_events['latitude']>lat_min) &\\\n",
    "             (df_events['latitude']>lat_max) \n",
    "            \n",
    "df_events_beijing = df_events[idx_beijing]            "
   ]
  },
  {
   "cell_type": "code",
   "execution_count": 100,
   "metadata": {
    "collapsed": true
   },
   "outputs": [],
   "source": [
    "# load the train data\n",
    "df_train = pd.read_csv('gender_age_train.csv', dtype= {'device_id':np.str})"
   ]
  },
  {
   "cell_type": "code",
   "execution_count": 101,
   "metadata": {
    "collapsed": false
   },
   "outputs": [],
   "source": [
    "df_plot = pd.merge(df_train, df_events_beijing, on = 'device_id', how = 'inner')"
   ]
  },
  {
   "cell_type": "code",
   "execution_count": 102,
   "metadata": {
    "collapsed": true
   },
   "outputs": [],
   "source": [
    "df_age = pd.pivot_table(df_plot, \\\n",
    "                       values = 'age', \\\n",
    "                       index = 'lon_round', \\\n",
    "                       columns = 'lat_round', \\\n",
    "                       aggfunc = np.mean)"
   ]
  },
  {
   "cell_type": "code",
   "execution_count": 103,
   "metadata": {
    "collapsed": false
   },
   "outputs": [],
   "source": [
    "df_count = pd.pivot_table(df_plot, \\\n",
    "                         values = 'age',\\\n",
    "                         index = 'lon_round',\\\n",
    "                         columns = 'lat_round',\\\n",
    "                         aggfunc = 'count')"
   ]
  },
  {
   "cell_type": "code",
   "execution_count": 108,
   "metadata": {
    "collapsed": false
   },
   "outputs": [
    {
     "data": {
      "image/png": "[encoded data removed]",
      "text/plain": [
       "<matplotlib.figure.Figure at 0x255ff828>"
      ]
     },
     "metadata": {},
     "output_type": "display_data"
    }
   ],
   "source": [
    "import numpy.ma as ma\n",
    "plt.figure(5, figsize = (12,6))\n",
    "\n",
    "plt.subplot(121)\n",
    "\n",
    "m5a = Basemap(projection = 'merc', \n",
    "              llcrnrlat = lat_min,\n",
    "              urcrnrlat = lat_max, \n",
    "              llcrnrlon = lon_min, \n",
    "              urcrnrlon = lon_max, \n",
    "              lat_ts = 35, \n",
    "              resolution = 'c')\n",
    "\n",
    "# construct a heatmap\n",
    "\n",
    "lons = df_age.index.values\n",
    "lats = df_age.columns.values\n",
    "\n",
    "x, y = np.meshgrid(lons, lats)\n",
    "px,py = m5a(x,y)\n",
    "\n",
    "data_values = df_age.values\n",
    "masked_data = np.ma.masked_invalid(data_values.T)\n",
    "\n",
    "cmap = plt.cm.viridis\n",
    "cmap.set_bad(color = '#191919')\n",
    "\n",
    "m5a.pcolormesh(px, py, masked_data, cmap = cmap, zorder = 5)\n",
    "m5a.colorbar().set_label('avg age')\n",
    "plt.title('avg age per grid area in beijing')\n",
    "\n",
    "# plot count per grid\n",
    "\n",
    "plt.subplot(122)\n",
    "\n",
    "m5b = Basemap(projection = 'merc', \n",
    "              llcrnrlat = lat_min,\n",
    "              urcrnrlat = lat_max, \n",
    "              llcrnrlon = lon_min, \n",
    "              urcrnrlon = lon_max, \n",
    "              lat_ts = 35, \n",
    "              resolution = 'c')\n",
    "\n",
    "# construct a heatmap\n",
    "\n",
    "data_values = df_count.values\n",
    "masked_data = np.ma.masked_invalid(data_values.T)\n",
    "\n",
    "cmap = plt.cm.viridis\n",
    "cmap.set_bad(color = '#191919')\n",
    "\n",
    "# plot the heatmap\n",
    "m5b.pcolormesh(px,py,masked_data, cmap = cmap, zorder = 5)\n",
    "m5b.colorbar().set_label('count')\n",
    "plt.title('event count per grid area in beijing')\n",
    "\n",
    "plt.show()"
   ]
  },
  {
   "cell_type": "code",
   "execution_count": null,
   "metadata": {
    "collapsed": false
   },
   "outputs": [],
   "source": [
    "print df_age"
   ]
  },
  {
   "cell_type": "code",
   "execution_count": null,
   "metadata": {
    "collapsed": false
   },
   "outputs": [],
   "source": [
    "df_trip = pd.read_csv('D:\\\\IoT\\\\telemetry-pologt-20160829.csv')\n",
    "df_trip.head(2)"
   ]
  },
  {
   "cell_type": "code",
   "execution_count": 79,
   "metadata": {
    "collapsed": false
   },
   "outputs": [
    {
     "name": "stdout",
     "output_type": "stream",
     "text": [
      "[[ nan  nan  nan ...,  nan  nan  nan]\n",
      " [ nan  nan  nan ...,  nan  nan  nan]\n",
      " [ nan  nan  nan ...,  nan  nan  nan]\n",
      " ..., \n",
      " [ nan  nan  nan ...,  nan  nan  nan]\n",
      " [ nan  nan  nan ...,  nan  nan  nan]\n",
      " [ nan  38.  nan ...,  nan  nan  nan]]\n"
     ]
    }
   ],
   "source": [
    "data_values = df_age.values\n",
    "print data_values.T"
   ]
  },
  {
   "cell_type": "code",
   "execution_count": null,
   "metadata": {
    "collapsed": true
   },
   "outputs": [],
   "source": []
  },
  {
   "cell_type": "code",
   "execution_count": null,
   "metadata": {
    "collapsed": true
   },
   "outputs": [],
   "source": []
  },
  {
   "cell_type": "code",
   "execution_count": null,
   "metadata": {
    "collapsed": true
   },
   "outputs": [],
   "source": []
  },
  {
   "cell_type": "code",
   "execution_count": null,
   "metadata": {
    "collapsed": true
   },
   "outputs": [],
   "source": []
  },
  {
   "cell_type": "code",
   "execution_count": 43,
   "metadata": {
    "collapsed": false
   },
   "outputs": [
    {
     "data": {
      "image/png": "[encoded data removed]",
      "text/plain": [
       "<matplotlib.figure.Figure at 0x24e415f8>"
      ]
     },
     "metadata": {},
     "output_type": "display_data"
    }
   ],
   "source": [
    "m1 = Basemap(projection='merc',\n",
    "             llcrnrlat=-60,\n",
    "             urcrnrlat=65,\n",
    "             llcrnrlon=-180,\n",
    "             urcrnrlon=180,\n",
    "             lat_ts=0,\n",
    "             resolution='c')\n",
    "\n",
    "m1.fillcontinents(color='#191919',lake_color='#000000') # dark grey land, black lakes\n",
    "m1.drawmapboundary(fill_color='#000000')                # black background\n",
    "m1.drawcountries(linewidth=0.1, color=\"w\")              # thin white line for country borders\n",
    "\n",
    "# Plot the data\n",
    "mxy = m1(df_trip[\"Lon\"].tolist(), df_trip[\"Lat\"].tolist())\n",
    "m1.scatter(mxy[0], mxy[1], s=3, c=\"#1292db\", lw=0, alpha=1, zorder=5)\n",
    "\n",
    "plt.title(\"Global view of events\")\n",
    "plt.show()"
   ]
  },
  {
   "cell_type": "code",
   "execution_count": null,
   "metadata": {
    "collapsed": true
   },
   "outputs": [],
   "source": []
  }
 ],
 "metadata": {
  "kernelspec": {
   "display_name": "Python 2",
   "language": "python",
   "name": "python2"
  },
  "language_info": {
   "codemirror_mode": {
    "name": "ipython",
    "version": 2
   },
   "file_extension": ".py",
   "mimetype": "text/x-python",
   "name": "python",
   "nbconvert_exporter": "python",
   "pygments_lexer": "ipython2",
   "version": "2.7.12"
  }
 },
 "nbformat": 4,
 "nbformat_minor": 0
}
