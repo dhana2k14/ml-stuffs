{
 "cells": [
  {
   "cell_type": "code",
   "execution_count": null,
   "metadata": {
    "collapsed": false
   },
   "outputs": [],
   "source": [
    "# Install and load necessary R packages\n",
    "library(dplyr)\n",
    "# library(e1071)\n",
    "library(randomForest)\n",
    "library(ggplot2)\n",
    "library(stringr)"
   ]
  },
  {
   "cell_type": "code",
   "execution_count": null,
   "metadata": {
    "collapsed": true
   },
   "outputs": [],
   "source": [
    "setwd(\"D:\\\\Kaggle\\\\Titanic\")\n",
    "train <- read.csv(\"train.csv\", sep =\",\", stringsAsFactors = FALSE)\n",
    "test <- read.csv(\"test.csv\", sep =\",\", stringsAsFactors = FALSE)"
   ]
  },
  {
   "cell_type": "code",
   "execution_count": null,
   "metadata": {
    "collapsed": false
   },
   "outputs": [],
   "source": [
    "boxplot(tmp$Fare1 ~ tmp$Age)"
   ]
  },
  {
   "cell_type": "code",
   "execution_count": null,
   "metadata": {
    "collapsed": false
   },
   "outputs": [],
   "source": [
    "# Split the name and create Salutation.\n",
    "\n",
    "train$Salutation <- ifelse(grepl('Mr.',train$Name), 'Mr', \n",
    "                           ifelse(grepl('Mrs.', train$Name), 'Mrs', \n",
    "                                  ifelse(grepl('Miss.', train$Name), 'Miss', ifelse(grepl('Master.', train$Name), 'Master', 'Others'))))\n",
    "\n",
    "temp1 <- train[,c(3,5,6,13)]\n",
    "temp1 <- temp1 %>% \n",
    "  group_by(Pclass, Sex, Salutation) %>%\n",
    "  summarise(medAge = round(median(Age, na.rm = TRUE),0))\n",
    "\n",
    "train <- train %>%\n",
    "left_join(temp1, by = c('Pclass', 'Sex' ,'Salutation')) \n",
    "\n",
    "train$Age <- ifelse(is.na(train$Age), train$medAge, train$Age)"
   ]
  },
  {
   "cell_type": "code",
   "execution_count": null,
   "metadata": {
    "collapsed": false
   },
   "outputs": [],
   "source": [
    "train %>% filter(Fare ) %>% nrow()"
   ]
  },
  {
   "cell_type": "code",
   "execution_count": null,
   "metadata": {
    "collapsed": false
   },
   "outputs": [],
   "source": [
    "# Replace the outlier fare value with a median fare value\n",
    "\n",
    "temp2<- train %>%\n",
    "  filter(Pclass == 1) %>%\n",
    "  select(Pclass, Fare) %>%\n",
    "  group_by(Pclass) %>%\n",
    "  mutate(medFare = median(Fare))\n",
    "\n",
    "#train$Fare <- ifelse(train$Fare > 400 | train$Fare == 0, 84.15469, train$Fare)"
   ]
  },
  {
   "cell_type": "code",
   "execution_count": null,
   "metadata": {
    "collapsed": false
   },
   "outputs": [],
   "source": [
    "# Detect numeric or alpha-numeric values in Ticket column \n",
    "train$fctrTicket <- ifelse(str_detect(train$Ticket, '[a-zA-Z]') == 1, '1', '0')\n",
    "train$fctrTicket <- as.factor(train$fctrTicket)"
   ]
  },
  {
   "cell_type": "code",
   "execution_count": null,
   "metadata": {
    "collapsed": true
   },
   "outputs": [],
   "source": [
    "# Convert character to factor\n",
    "train$Gender <- ifelse(train$Sex == 'male', '1', '0')\n",
    "train$Survived <- as.factor(train$Survived)\n",
    "train$Pclass <- as.factor(train$Pclass)\n",
    "train$Gender <- as.factor(train$Gender)"
   ]
  },
  {
   "cell_type": "code",
   "execution_count": null,
   "metadata": {
    "collapsed": false
   },
   "outputs": [],
   "source": [
    "# Assumption 1: \n",
    "train$sRate <- ifelse(train$Pclass == '1' & train$Gender == '0', '1', '0')\n",
    "train$sRate <- as.factor(train$sRate)\n",
    "\n",
    "# Assumption 2:\n",
    "train$psrFamily <- ifelse(train$SibSp > 0 | train$Parch > 0, '1','0')\n",
    "train$psrFamily <- as.factor(train$psrFamily)\n",
    "\n",
    "# Assumption 3:\n",
    "\n",
    "train$sRate1 <- '0'\n",
    "train$sRate1[train$Embarked == 'C'] <- '0'\n",
    "train$sRate1[train$Embarked == 'Q'] <- '0'\n",
    "train$sRate1[train$Embarked == 'S'] <- '0.5'\n",
    "train$sRate1 <- as.factor(train$sRate1)\n",
    "\n",
    "# Assumption 4:\n",
    "\n",
    "train$ageBin = 0\n",
    "train$ageBin[train$Age <= 10] = 1\n",
    "train$ageBin[train$Age > 10 & train$Age <= 20] = 2\n",
    "train$ageBin[train$Age > 20 & train$Age <= 30] = 3\n",
    "train$ageBin[train$Age > 30 & train$Age <= 40] = 4\n",
    "train$ageBin[train$Age > 40 & train$Age <= 50] = 5\n",
    "train$ageBin[train$Age > 50] = 6 \n",
    "\n",
    "train$ageBin <- as.factor(train$ageBin)\n",
    "\n",
    "# Assumption 5:\n",
    "train$sRate2 <- 0\n",
    "train$sRate2[train$fctrTicket == 0] <- 1"
   ]
  },
  {
   "cell_type": "code",
   "execution_count": null,
   "metadata": {
    "collapsed": false
   },
   "outputs": [],
   "source": [
    "head(train)"
   ]
  },
  {
   "cell_type": "code",
   "execution_count": null,
   "metadata": {
    "collapsed": false
   },
   "outputs": [],
   "source": [
    "## fit a model using Random Forest\n",
    "rf.fit <- randomForest(Survived ~ Pclass + Age + SibSp + Parch + Fare + sRate + psrFamily + \n",
    "                         ageBin + sRate1 + fctrTicket, data = train, importance = TRUE, ntree = 100)\n",
    "\n",
    "pred <- predict(rf.fit, train)\n",
    "table(pred, train$Survived)"
   ]
  },
  {
   "cell_type": "code",
   "execution_count": null,
   "metadata": {
    "collapsed": false
   },
   "outputs": [],
   "source": [
    "train %>% \n",
    "group_by(Pclass, fctrTicket) %>%\n",
    "tally()"
   ]
  },
  {
   "cell_type": "code",
   "execution_count": null,
   "metadata": {
    "collapsed": true
   },
   "outputs": [],
   "source": []
  }
 ],
 "metadata": {
  "kernelspec": {
   "display_name": "R",
   "language": "R",
   "name": "ir"
  },
  "language_info": {
   "codemirror_mode": "r",
   "file_extension": ".r",
   "mimetype": "text/x-r-source",
   "name": "R",
   "pygments_lexer": "r",
   "version": "3.1.3"
  }
 },
 "nbformat": 4,
 "nbformat_minor": 0
}
