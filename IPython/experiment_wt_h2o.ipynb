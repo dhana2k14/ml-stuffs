{
 "cells": [
  {
   "cell_type": "code",
   "execution_count": 1,
   "metadata": {
    "collapsed": true
   },
   "outputs": [],
   "source": [
    "import h2o"
   ]
  },
  {
   "cell_type": "code",
   "execution_count": 6,
   "metadata": {},
   "outputs": [
    {
     "name": "stdout",
     "output_type": "stream",
     "text": [
      "Checking whether there is an H2O instance running at http://localhost:54321. connected.\n"
     ]
    },
    {
     "data": {
      "text/html": [
       "<div style=\"overflow:auto\"><table style=\"width:50%\"><tr><td>H2O cluster uptime:</td>\n",
       "<td>24 mins 19 secs</td></tr>\n",
       "<tr><td>H2O cluster version:</td>\n",
       "<td>3.10.0.10</td></tr>\n",
       "<tr><td>H2O cluster version age:</td>\n",
       "<td>2 months and 11 days </td></tr>\n",
       "<tr><td>H2O cluster name:</td>\n",
       "<td>H2O_from_python_33093_gxc1su</td></tr>\n",
       "<tr><td>H2O cluster total nodes:</td>\n",
       "<td>1</td></tr>\n",
       "<tr><td>H2O cluster free memory:</td>\n",
       "<td>1.747 Gb</td></tr>\n",
       "<tr><td>H2O cluster total cores:</td>\n",
       "<td>4</td></tr>\n",
       "<tr><td>H2O cluster allowed cores:</td>\n",
       "<td>4</td></tr>\n",
       "<tr><td>H2O cluster status:</td>\n",
       "<td>locked, healthy</td></tr>\n",
       "<tr><td>H2O connection url:</td>\n",
       "<td>http://localhost:54321</td></tr>\n",
       "<tr><td>H2O connection proxy:</td>\n",
       "<td>None</td></tr>\n",
       "<tr><td>Python version:</td>\n",
       "<td>2.7.12 final</td></tr></table></div>"
      ],
      "text/plain": [
       "--------------------------  ----------------------------\n",
       "H2O cluster uptime:         24 mins 19 secs\n",
       "H2O cluster version:        3.10.0.10\n",
       "H2O cluster version age:    2 months and 11 days\n",
       "H2O cluster name:           H2O_from_python_33093_gxc1su\n",
       "H2O cluster total nodes:    1\n",
       "H2O cluster free memory:    1.747 Gb\n",
       "H2O cluster total cores:    4\n",
       "H2O cluster allowed cores:  4\n",
       "H2O cluster status:         locked, healthy\n",
       "H2O connection url:         http://localhost:54321\n",
       "H2O connection proxy:\n",
       "Python version:             2.7.12 final\n",
       "--------------------------  ----------------------------"
      ]
     },
     "metadata": {},
     "output_type": "display_data"
    }
   ],
   "source": [
    "h2o.init()"
   ]
  },
  {
   "cell_type": "code",
   "execution_count": 9,
   "metadata": {},
   "outputs": [
    {
     "name": "stdout",
     "output_type": "stream",
     "text": [
      "Parse progress: |█████████████████████████████████████████████████████████| 100%\n"
     ]
    }
   ],
   "source": [
    "tr_num = h2o.import_file(path = 'D:/Kaggle/Walmart/train.csv')"
   ]
  },
  {
   "cell_type": "code",
   "execution_count": 10,
   "metadata": {},
   "outputs": [
    {
     "data": {
      "text/html": [
       "<table>\n",
       "<thead>\n",
       "<tr><th style=\"text-align: right;\">  TripType</th><th style=\"text-align: right;\">  VisitNumber</th><th>Weekday  </th><th style=\"text-align: right;\">        Upc</th><th style=\"text-align: right;\">  ScanCount</th><th>DepartmentDescription  </th><th style=\"text-align: right;\">  FinelineNumber</th></tr>\n",
       "</thead>\n",
       "<tbody>\n",
       "<tr><td style=\"text-align: right;\">       999</td><td style=\"text-align: right;\">            5</td><td>Friday   </td><td style=\"text-align: right;\">6.81132e+10</td><td style=\"text-align: right;\">         -1</td><td>FINANCIAL SERVICES     </td><td style=\"text-align: right;\">            1000</td></tr>\n",
       "<tr><td style=\"text-align: right;\">        30</td><td style=\"text-align: right;\">            7</td><td>Friday   </td><td style=\"text-align: right;\">6.05388e+10</td><td style=\"text-align: right;\">          1</td><td>SHOES                  </td><td style=\"text-align: right;\">            8931</td></tr>\n",
       "<tr><td style=\"text-align: right;\">        30</td><td style=\"text-align: right;\">            7</td><td>Friday   </td><td style=\"text-align: right;\">7.41081e+09</td><td style=\"text-align: right;\">          1</td><td>PERSONAL CARE          </td><td style=\"text-align: right;\">            4504</td></tr>\n",
       "<tr><td style=\"text-align: right;\">        26</td><td style=\"text-align: right;\">            8</td><td>Friday   </td><td style=\"text-align: right;\">2.2384e+09 </td><td style=\"text-align: right;\">          2</td><td>PAINT AND ACCESSORIES  </td><td style=\"text-align: right;\">            3565</td></tr>\n",
       "<tr><td style=\"text-align: right;\">        26</td><td style=\"text-align: right;\">            8</td><td>Friday   </td><td style=\"text-align: right;\">2.00661e+09</td><td style=\"text-align: right;\">          2</td><td>PAINT AND ACCESSORIES  </td><td style=\"text-align: right;\">            1017</td></tr>\n",
       "<tr><td style=\"text-align: right;\">        26</td><td style=\"text-align: right;\">            8</td><td>Friday   </td><td style=\"text-align: right;\">2.00662e+09</td><td style=\"text-align: right;\">          2</td><td>PAINT AND ACCESSORIES  </td><td style=\"text-align: right;\">            1017</td></tr>\n",
       "<tr><td style=\"text-align: right;\">        26</td><td style=\"text-align: right;\">            8</td><td>Friday   </td><td style=\"text-align: right;\">2.00661e+09</td><td style=\"text-align: right;\">          1</td><td>PAINT AND ACCESSORIES  </td><td style=\"text-align: right;\">            1017</td></tr>\n",
       "<tr><td style=\"text-align: right;\">        26</td><td style=\"text-align: right;\">            8</td><td>Friday   </td><td style=\"text-align: right;\">7.0048e+09 </td><td style=\"text-align: right;\">          1</td><td>PAINT AND ACCESSORIES  </td><td style=\"text-align: right;\">            2802</td></tr>\n",
       "<tr><td style=\"text-align: right;\">        26</td><td style=\"text-align: right;\">            8</td><td>Friday   </td><td style=\"text-align: right;\">2.2385e+09 </td><td style=\"text-align: right;\">          1</td><td>PAINT AND ACCESSORIES  </td><td style=\"text-align: right;\">            4501</td></tr>\n",
       "<tr><td style=\"text-align: right;\">        26</td><td style=\"text-align: right;\">            8</td><td>Friday   </td><td style=\"text-align: right;\">2.2384e+09 </td><td style=\"text-align: right;\">         -1</td><td>PAINT AND ACCESSORIES  </td><td style=\"text-align: right;\">            3565</td></tr>\n",
       "</tbody>\n",
       "</table>"
      ]
     },
     "metadata": {},
     "output_type": "display_data"
    },
    {
     "data": {
      "text/plain": []
     },
     "execution_count": 10,
     "metadata": {},
     "output_type": "execute_result"
    }
   ],
   "source": [
    "tr_num.head()"
   ]
  },
  {
   "cell_type": "code",
   "execution_count": null,
   "metadata": {
    "collapsed": true
   },
   "outputs": [],
   "source": []
  }
 ],
 "metadata": {
  "kernelspec": {
   "display_name": "Python 2",
   "language": "python",
   "name": "python2"
  },
  "language_info": {
   "codemirror_mode": {
    "name": "ipython",
    "version": 2
   },
   "file_extension": ".py",
   "mimetype": "text/x-python",
   "name": "python",
   "nbconvert_exporter": "python",
   "pygments_lexer": "ipython2",
   "version": "2.7.14"
  }
 },
 "nbformat": 4,
 "nbformat_minor": 1
}
