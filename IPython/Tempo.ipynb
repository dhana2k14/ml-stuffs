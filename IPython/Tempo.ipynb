{
 "cells": [
  {
   "cell_type": "code",
   "execution_count": 2,
   "metadata": {
    "collapsed": false
   },
   "outputs": [],
   "source": [
    "import pandas as pd\n",
    "import numpy as np\n",
    "from pandas import DatetimeIndex\n",
    "import datetime, time"
   ]
  },
  {
   "cell_type": "code",
   "execution_count": null,
   "metadata": {
    "collapsed": false
   },
   "outputs": [],
   "source": [
    "df = pd.read_csv('D:\\\\trip_number_automation.csv')\n",
    "\n",
    "#df['Odometer'] = df['Odometer'].apply(lambda x: x.round(decimals = 0))"
   ]
  },
  {
   "cell_type": "code",
   "execution_count": 7,
   "metadata": {
    "collapsed": false
   },
   "outputs": [
    {
     "name": "stdout",
     "output_type": "stream",
     "text": [
      "2016-11-04 09:47:10\n"
     ]
    }
   ],
   "source": [
    "from time import gmtime, strftime\n",
    "\n",
    "curr_time_gmt = strftime('%Y-%m-%d %H:%M:%S', gmtime())\n",
    "\n",
    "print curr_time_gmt"
   ]
  },
  {
   "cell_type": "code",
   "execution_count": 12,
   "metadata": {
    "collapsed": false,
    "scrolled": true
   },
   "outputs": [
    {
     "name": "stdout",
     "output_type": "stream",
     "text": [
      "2016-12-18T12:25:52.082000\n"
     ]
    }
   ],
   "source": [
    "print (datetime.datetime.utcnow() - datetime.timedelta(1)).isoformat()\n",
    "# print pd.datetime(dt).isoformat()"
   ]
  },
  {
   "cell_type": "code",
   "execution_count": 22,
   "metadata": {
    "collapsed": false
   },
   "outputs": [
    {
     "name": "stdout",
     "output_type": "stream",
     "text": [
      "10\n",
      "11\n",
      "2016\n"
     ]
    },
    {
     "ename": "NameError",
     "evalue": "name 'ObjectId' is not defined",
     "output_type": "error",
     "traceback": [
      "\u001b[0;31m---------------------------------------------------------------------------\u001b[0m",
      "\u001b[0;31mNameError\u001b[0m                                 Traceback (most recent call last)",
      "\u001b[0;32m<ipython-input-22-4d5799e14dd7>\u001b[0m in \u001b[0;36m<module>\u001b[0;34m()\u001b[0m\n\u001b[1;32m     10\u001b[0m \u001b[0;34m\u001b[0m\u001b[0m\n\u001b[1;32m     11\u001b[0m \u001b[0mt\u001b[0m \u001b[0;34m=\u001b[0m \u001b[0mpd\u001b[0m\u001b[0;34m.\u001b[0m\u001b[0mdatetime\u001b[0m\u001b[0;34m(\u001b[0m\u001b[0myear\u001b[0m\u001b[0;34m,\u001b[0m \u001b[0mmonth\u001b[0m\u001b[0;34m,\u001b[0m \u001b[0mday\u001b[0m\u001b[0;34m)\u001b[0m\u001b[0;34m\u001b[0m\u001b[0m\n\u001b[0;32m---> 12\u001b[0;31m \u001b[0mt1\u001b[0m \u001b[0;34m=\u001b[0m \u001b[0mObjectId\u001b[0m\u001b[0;34m.\u001b[0m\u001b[0mfrom_datetime\u001b[0m\u001b[0;34m(\u001b[0m\u001b[0mt\u001b[0m\u001b[0;34m)\u001b[0m\u001b[0;34m\u001b[0m\u001b[0m\n\u001b[0m\u001b[1;32m     13\u001b[0m \u001b[0;32mprint\u001b[0m \u001b[0mt1\u001b[0m\u001b[0;34m\u001b[0m\u001b[0m\n\u001b[1;32m     14\u001b[0m \u001b[0;34m\u001b[0m\u001b[0m\n",
      "\u001b[0;31mNameError\u001b[0m: name 'ObjectId' is not defined"
     ]
    }
   ],
   "source": [
    "day = (datetime.datetime.now() - datetime.timedelta(1)).day\n",
    "month = (datetime.datetime.now() - datetime.timedelta(1)).month\n",
    "year = (datetime.datetime.now()- datetime.timedelta(1)).year\n",
    "\n",
    "print day\n",
    "print month\n",
    "print year\n",
    "\n",
    "# pd.to_datetime(pd.datetime(year, month, day, 18, 30, 0, 0).isoformat())\n",
    "\n",
    "t = pd.datetime(year, month, day)\n",
    "t1 = ObjectId.from_datetime(t)\n",
    "print t1\n",
    "\n",
    "\n"
   ]
  },
  {
   "cell_type": "code",
   "execution_count": 16,
   "metadata": {
    "collapsed": false
   },
   "outputs": [
    {
     "data": {
      "text/plain": [
       "datetime.time(15, 26, 32, 589000)"
      ]
     },
     "execution_count": 16,
     "metadata": {},
     "output_type": "execute_result"
    }
   ],
   "source": [
    "(datetime.datetime.now() - datetime.timedelta(1)).time()\n"
   ]
  },
  {
   "cell_type": "code",
   "execution_count": 10,
   "metadata": {
    "collapsed": false
   },
   "outputs": [
    {
     "data": {
      "text/plain": [
       "'2017-05-14T09:54:55.643000'"
      ]
     },
     "execution_count": 10,
     "metadata": {},
     "output_type": "execute_result"
    }
   ],
   "source": [
    "(datetime.datetime.utcnow() - datetime.timedelta(1)).isoformat()"
   ]
  },
  {
   "cell_type": "code",
   "execution_count": 3,
   "metadata": {
    "collapsed": false
   },
   "outputs": [
    {
     "data": {
      "text/plain": [
       "'ISODate(2017-05-15T09:52:55.874000)'"
      ]
     },
     "execution_count": 3,
     "metadata": {},
     "output_type": "execute_result"
    }
   ],
   "source": [
    "'ISODate('+ datetime.datetime.utcnow().isoformat()+')'"
   ]
  },
  {
   "cell_type": "code",
   "execution_count": 148,
   "metadata": {
    "collapsed": false
   },
   "outputs": [
    {
     "name": "stdout",
     "output_type": "stream",
     "text": [
      "2016-11-08 09:24:31.600000\n",
      "<type 'datetime.datetime'>\n"
     ]
    }
   ],
   "source": [
    "import datetime\n",
    "import dateutil.parser\n",
    "\n",
    "def getDateTimeFromISO8601String(s):\n",
    "    d = dateutil.parser.parse(s)\n",
    "    print d\n",
    "    print type(d)\n",
    "\n",
    "\n",
    "getDateTimeFromISO8601String('2016-11-08T09:24:31.600000')\n",
    "\n",
    "\n"
   ]
  },
  {
   "cell_type": "code",
   "execution_count": 11,
   "metadata": {
    "collapsed": false
   },
   "outputs": [],
   "source": [
    "import os\n",
    "from django.utils import timezone\n",
    "from datetime import datetime\n",
    "import pytz"
   ]
  },
  {
   "cell_type": "code",
   "execution_count": 13,
   "metadata": {
    "collapsed": false
   },
   "outputs": [
    {
     "ename": "NameError",
     "evalue": "name 'timezone' is not defined",
     "output_type": "error",
     "traceback": [
      "\u001b[0;31m---------------------------------------------------------------------------\u001b[0m",
      "\u001b[0;31mNameError\u001b[0m                                 Traceback (most recent call last)",
      "\u001b[0;32m<ipython-input-13-bec195b930d8>\u001b[0m in \u001b[0;36m<module>\u001b[0;34m()\u001b[0m\n\u001b[0;32m----> 1\u001b[0;31m \u001b[0mdt\u001b[0m \u001b[0;34m=\u001b[0m \u001b[0mdatetime\u001b[0m\u001b[0;34m.\u001b[0m\u001b[0mdatetime\u001b[0m\u001b[0;34m(\u001b[0m\u001b[0;34m'2016-11-08'\u001b[0m\u001b[0;34m,\u001b[0m \u001b[0mtimezone\u001b[0m\u001b[0;34m.\u001b[0m\u001b[0mutc\u001b[0m\u001b[0;34m)\u001b[0m\u001b[0;34m\u001b[0m\u001b[0m\n\u001b[0m\u001b[1;32m      2\u001b[0m \u001b[0;32mprint\u001b[0m \u001b[0mdt\u001b[0m\u001b[0;34m\u001b[0m\u001b[0m\n",
      "\u001b[0;31mNameError\u001b[0m: name 'timezone' is not defined"
     ]
    }
   ],
   "source": [
    "dt = datetime.datetime('2016-11-08', timezone.utc)\n",
    "print dt"
   ]
  },
  {
   "cell_type": "code",
   "execution_count": 91,
   "metadata": {
    "collapsed": false
   },
   "outputs": [],
   "source": [
    "grouped = df.groupby(['assetName','date_use','trip'])\n",
    "\n",
    "# pd.DataFrame(g.size().reset_index(name = 'group')).group[0] - pd.DataFrame(g.size().reset_index(name = 'group')).group[1]\n",
    "\n"
   ]
  },
  {
   "cell_type": "code",
   "execution_count": 111,
   "metadata": {
    "collapsed": false
   },
   "outputs": [
    {
     "name": "stdout",
     "output_type": "stream",
     "text": [
      "17778.3\n",
      "Hyundai Creta 2016-10-25 1.0 17778.3 -51.0\n",
      "Hyundai Creta 2016-10-25 1.0 17829.3\n",
      "17829.3\n",
      "Hyundai Creta 2016-10-25 2.0 17829.3 -6.0\n",
      "Hyundai Creta 2016-10-25 2.0 17835.3\n",
      "17835.3\n",
      "Hyundai Creta 2016-10-25 3.0 17835.3 -4.0\n",
      "Hyundai Creta 2016-10-25 3.0 17839.3\n",
      "17840.3\n",
      "Hyundai Creta 2016-10-25 4.0 17840.3 -57.0\n",
      "Hyundai Creta 2016-10-25 4.0 17897.3\n",
      "20544.47\n",
      "Polo GT 2016-10-25 1.0 20544.47 -3.25\n",
      "Polo GT 2016-10-25 1.0 20547.72\n",
      "20547.83\n",
      "Polo GT 2016-10-25 2.0 20547.83 -13.44\n",
      "Polo GT 2016-10-25 2.0 20561.27\n",
      "20561.27\n",
      "Polo GT 2016-10-25 3.0 20561.27 -14.41\n",
      "Polo GT 2016-10-25 3.0 20575.68\n"
     ]
    }
   ],
   "source": [
    "for name, group in grouped:\n",
    "    \n",
    "    g = pd.DataFrame(group)\n",
    "    \n",
    "    \n",
    "    print g['Odometer'].iloc[0]\n",
    "    \n",
    "    \n",
    "    print g['assetName'].iloc[0], g['date_use'].iloc[0], g['trip'].iloc[0], g['Odometer'].iloc[0], g['Odometer'].iloc[0] - g['Odometer'].iloc[-1]\n",
    "    print g['assetName'].iloc[-1], g['date_use'].iloc[-1], g['trip'].iloc[-1], g['Odometer'].iloc[-1]\n",
    "    \n",
    "#     for index, row in group.iterrows():\n",
    "        \n",
    "        \n",
    "    "
   ]
  },
  {
   "cell_type": "code",
   "execution_count": null,
   "metadata": {
    "collapsed": false
   },
   "outputs": [],
   "source": [
    "# remove telematics data points sent when vehicle was idle or switched off\n",
    "\n",
    "df['dup_loc'] = df.groupby(['customData_date','lat', 'lon', 'speed','Odometer']).cumcount().apply(lambda x: x + 1)\n",
    "df_base = df.loc[(df['assetName'] == 'Polo GT') & (df['dup_loc'] == 1), :].copy()\n",
    "df = df_base.reset_index(drop = True)"
   ]
  },
  {
   "cell_type": "code",
   "execution_count": 111,
   "metadata": {
    "collapsed": false
   },
   "outputs": [],
   "source": [
    "df_base['date_utc'] = pd.to_datetime(df_base['date']).dt.tz_localize('UTC').dt.tz_convert('Asia/Kolkata').dt.tz_localize(None)"
   ]
  },
  {
   "cell_type": "code",
   "execution_count": 129,
   "metadata": {
    "collapsed": false
   },
   "outputs": [],
   "source": [
    "df_base['date_use'] = df_base['date_utc'].apply(lambda x : x.strftime('%Y-%m-%d'))"
   ]
  },
  {
   "cell_type": "code",
   "execution_count": 130,
   "metadata": {
    "collapsed": false
   },
   "outputs": [
    {
     "data": {
      "text/plain": [
       "0    2016-09-19\n",
       "1    2016-09-19\n",
       "2    2016-09-19\n",
       "3    2016-09-19\n",
       "4    2016-09-19\n",
       "Name: date_use, dtype: object"
      ]
     },
     "execution_count": 130,
     "metadata": {},
     "output_type": "execute_result"
    }
   ],
   "source": [
    "df_base.date_use.head()"
   ]
  },
  {
   "cell_type": "code",
   "execution_count": 112,
   "metadata": {
    "collapsed": false
   },
   "outputs": [],
   "source": [
    "group_by_date = df_base.groupby('customData_date')\n",
    "\n",
    "for name in group_by_date:\n",
    "    df_base['time_diff'] = (df_base['date_utc'] - df_base['date_utc'].shift(1)).apply(lambda x: x/np.timedelta64(1, 'm'))"
   ]
  },
  {
   "cell_type": "code",
   "execution_count": 113,
   "metadata": {
    "collapsed": false
   },
   "outputs": [],
   "source": [
    "df_base['row_num']  = df_base.groupby('customData_date').cumcount().apply(lambda x : x + 1)\n",
    "\n",
    "for name, group in df_base.groupby(['customData_date']):\n",
    "    for index, row in df_base.iterrows():\n",
    "        if df_base.loc[index, 'row_num'] == 1:\n",
    "            df_base.loc[index, 'trip'] = 1\n",
    "        else:\n",
    "            if df_base.loc[index, 'time_diff'] > 20.0:\n",
    "                df_base.loc[index, 'trip'] = df_base.loc[index-1, 'trip'] + 1\n",
    "            else:\n",
    "                df_base.loc[index,'trip'] = df_base.loc[index-1, 'trip']\n",
    "                "
   ]
  },
  {
   "cell_type": "code",
   "execution_count": 114,
   "metadata": {
    "collapsed": false
   },
   "outputs": [],
   "source": [
    "df_base[['customData_date','date_utc', 'time_diff', 'row_num', 'trip']].to_csv('D:\\\\temp.csv', index = False)"
   ]
  },
  {
   "cell_type": "code",
   "execution_count": 12,
   "metadata": {
    "collapsed": false
   },
   "outputs": [],
   "source": [
    "crime_df = pd.read_csv('https://data.cityofchicago.org/api/views/ijzp-q8t2/rows.csv?accessType=DOWNLOAD', nrows = 50000)\n",
    "crime_df.to_csv('D:\\\\crime_mongo_sample.csv', index = False)"
   ]
  },
  {
   "cell_type": "code",
   "execution_count": null,
   "metadata": {
    "collapsed": true
   },
   "outputs": [],
   "source": []
  }
 ],
 "metadata": {
  "kernelspec": {
   "display_name": "Python 2",
   "language": "python",
   "name": "python2"
  },
  "language_info": {
   "codemirror_mode": {
    "name": "ipython",
    "version": 2
   },
   "file_extension": ".py",
   "mimetype": "text/x-python",
   "name": "python",
   "nbconvert_exporter": "python",
   "pygments_lexer": "ipython2",
   "version": "2.7.12"
  }
 },
 "nbformat": 4,
 "nbformat_minor": 0
}
