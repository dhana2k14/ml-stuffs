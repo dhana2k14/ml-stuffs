{
 "cells": [
  {
   "cell_type": "code",
   "execution_count": 1,
   "metadata": {
    "collapsed": true
   },
   "outputs": [],
   "source": [
    "import pandas as pd, os, sys"
   ]
  },
  {
   "cell_type": "code",
   "execution_count": 3,
   "metadata": {},
   "outputs": [],
   "source": [
    "os.chdir('D:\\\\IoT')"
   ]
  },
  {
   "cell_type": "code",
   "execution_count": 12,
   "metadata": {},
   "outputs": [],
   "source": [
    "df = pd.read_csv('tele_history_Sep20_Oct13.csv')"
   ]
  },
  {
   "cell_type": "code",
   "execution_count": 45,
   "metadata": {},
   "outputs": [
    {
     "data": {
      "text/plain": [
       "Index([u'customData_createdOn', u'customData_date', u'customData_latitude',\n",
       "       u'customData_longitude', u'customData_time', u'active', u'assetName',\n",
       "       u'date', u'accuracy', u'address', u'age', u'altitude', u'heading',\n",
       "       u'lat', u'lon', u'speed', u'received', u'Business/Private',\n",
       "       u'Engine Temp', u'Fuel Used', u'Odometer', u'RPM', u'airflow',\n",
       "       u'battery_voltage', u'engine', u'fuel_level_02', u'harsh_accel',\n",
       "       u'harsh_brake', u'harsh_corner', u'hdop', u'hours_00_counter',\n",
       "       u'idle_counter', u'ignition', u'impact', u'intake_temp', u'mil_status',\n",
       "       u'moving', u'nudge', u'overspeed', u'power_voltage', u'roaming', u'rsq',\n",
       "       u'throttle'],\n",
       "      dtype='object')"
      ]
     },
     "execution_count": 45,
     "metadata": {},
     "output_type": "execute_result"
    }
   ],
   "source": [
    "df.columns"
   ]
  },
  {
   "cell_type": "code",
   "execution_count": 14,
   "metadata": {},
   "outputs": [],
   "source": [
    "# replace 'str' and missing values \n",
    "\n",
    "df.columns = df.columns.str.replace('customData.','customData_')\n",
    "df.customData_date.fillna(df.customData_Date, inplace = True)\n",
    "df.customData_time.fillna(df.customData_Time, inplace = True)\n",
    "df.customData_latitude.fillna(df.lat, inplace = True)\n",
    "df.customData_longitude.fillna(df.lon, inplace = True)\n",
    "df = df.drop(['customData_Date','customData_Time','customData_Latitude','customData_Longitude'], axis = 1)"
   ]
  },
  {
   "cell_type": "code",
   "execution_count": 16,
   "metadata": {},
   "outputs": [],
   "source": [
    "df.to_csv('D:\\\\IoT\\\\tele_history_Sep20_Oct13_Updated.csv', index = False)"
   ]
  },
  {
   "cell_type": "code",
   "execution_count": 22,
   "metadata": {},
   "outputs": [],
   "source": [
    "df_base = pd.read_csv('tele_history_Jul4_Sep19.csv')\n",
    "df_base.columns = df_base.columns.str.replace('Date', 'customData_date')\n",
    "df_base.columns = df_base.columns.str.replace('Time', 'customData_time')"
   ]
  },
  {
   "cell_type": "code",
   "execution_count": 23,
   "metadata": {
    "collapsed": true
   },
   "outputs": [],
   "source": [
    "# append\n",
    "df_base = df_base.append(df)"
   ]
  },
  {
   "cell_type": "code",
   "execution_count": 28,
   "metadata": {
    "collapsed": true
   },
   "outputs": [],
   "source": [
    "pd.set_option('display.max_rows',10000)"
   ]
  },
  {
   "cell_type": "code",
   "execution_count": 34,
   "metadata": {
    "collapsed": true
   },
   "outputs": [],
   "source": [
    "df_base.lat.fillna(df_base.customData_latitude, inplace = True)\n",
    "df_base.lon.fillna(df_base.customData_longitude, inplace = True)\n",
    "df_base = df_base.drop(['customData_latitude','customData_longitude'], axis = 1)"
   ]
  },
  {
   "cell_type": "code",
   "execution_count": 64,
   "metadata": {},
   "outputs": [],
   "source": [
    "df_base.to_csv('D:\\\\IoT\\\\tele_history_merged_Updated.csv', index = False)"
   ]
  },
  {
   "cell_type": "code",
   "execution_count": 37,
   "metadata": {},
   "outputs": [],
   "source": [
    "df_base.sort_index(axis = 1, inplace = True)"
   ]
  },
  {
   "cell_type": "code",
   "execution_count": 38,
   "metadata": {},
   "outputs": [
    {
     "data": {
      "text/plain": [
       "Index([u'Business/Private', u'Engine Temp', u'Fuel Used', u'Odometer', u'RPM',\n",
       "       u'accuracy', u'active', u'address', u'age', u'airflow', u'altitude',\n",
       "       u'assetName', u'battery_voltage', u'createdOn', u'customData_createdOn',\n",
       "       u'customData_date', u'customData_time', u'date', u'engine',\n",
       "       u'fuel_level_02', u'harsh_accel', u'harsh_brake', u'harsh_corner',\n",
       "       u'hdop', u'heading', u'hours_00_counter', u'idle_counter', u'ignition',\n",
       "       u'impact', u'intake_temp', u'lat', u'lon', u'mil_status', u'moving',\n",
       "       u'nudge', u'overspeed', u'power_voltage', u'received', u'roaming',\n",
       "       u'rsq', u'speed', u'throttle'],\n",
       "      dtype='object')"
      ]
     },
     "execution_count": 38,
     "metadata": {},
     "output_type": "execute_result"
    }
   ],
   "source": [
    "df_base.columns"
   ]
  },
  {
   "cell_type": "code",
   "execution_count": 48,
   "metadata": {},
   "outputs": [],
   "source": [
    "# split and substring\n",
    "df_1 = df['received'].str.extract('(../../....)', expand = True)\n",
    "df['received'].str.split(' ').str[1]"
   ]
  },
  {
   "cell_type": "code",
   "execution_count": 61,
   "metadata": {
    "collapsed": true
   },
   "outputs": [],
   "source": [
    "df_3 = pd.read_csv('tele_history_Jun_Jul4.csv')"
   ]
  },
  {
   "cell_type": "code",
   "execution_count": 62,
   "metadata": {
    "collapsed": true
   },
   "outputs": [],
   "source": [
    "df_base = df_base.append(df_3)"
   ]
  },
  {
   "cell_type": "code",
   "execution_count": 63,
   "metadata": {},
   "outputs": [
    {
     "data": {
      "text/plain": [
       "Index([u'Business/Private', u'Engine Temp', u'Fuel Used', u'Odometer', u'RPM',\n",
       "       u'accuracy', u'active', u'address', u'age', u'airflow', u'altitude',\n",
       "       u'assetName', u'battery_voltage', u'createdOn', u'customData_createdOn',\n",
       "       u'customData_date', u'customData_time', u'date', u'engine',\n",
       "       u'fuel_level_02', u'harsh_accel', u'harsh_brake', u'harsh_corner',\n",
       "       u'hdop', u'heading', u'hours_00_counter', u'idle_counter', u'ignition',\n",
       "       u'impact', u'intake_temp', u'lat', u'lon', u'mil_status', u'moving',\n",
       "       u'nudge', u'overspeed', u'power_voltage', u'received', u'roaming',\n",
       "       u'rsq', u'speed', u'throttle'],\n",
       "      dtype='object')"
      ]
     },
     "execution_count": 63,
     "metadata": {},
     "output_type": "execute_result"
    }
   ],
   "source": [
    "df_base.columns"
   ]
  },
  {
   "cell_type": "code",
   "execution_count": 65,
   "metadata": {
    "collapsed": true
   },
   "outputs": [],
   "source": [
    "df_base_polo = df_base.query(\"assetName == 'Polo GT'\")"
   ]
  },
  {
   "cell_type": "code",
   "execution_count": null,
   "metadata": {},
   "outputs": [],
   "source": [
    "df_base_polo['date_use'] = pd.to_datetime(df_base_polo['date'])"
   ]
  },
  {
   "cell_type": "code",
   "execution_count": null,
   "metadata": {},
   "outputs": [],
   "source": [
    "df_base_polo['data_lag'] = df_base_polo.groupby('customData_date')['date_use'].shift(1)"
   ]
  },
  {
   "cell_type": "code",
   "execution_count": null,
   "metadata": {},
   "outputs": [],
   "source": [
    "df_base_polo.head(500)"
   ]
  },
  {
   "cell_type": "code",
   "execution_count": null,
   "metadata": {
    "collapsed": true
   },
   "outputs": [],
   "source": []
  }
 ],
 "metadata": {
  "kernelspec": {
   "display_name": "Python 2",
   "language": "python",
   "name": "python2"
  },
  "language_info": {
   "codemirror_mode": {
    "name": "ipython",
    "version": 2
   },
   "file_extension": ".py",
   "mimetype": "text/x-python",
   "name": "python",
   "nbconvert_exporter": "python",
   "pygments_lexer": "ipython2",
   "version": "2.7.14"
  }
 },
 "nbformat": 4,
 "nbformat_minor": 1
}
