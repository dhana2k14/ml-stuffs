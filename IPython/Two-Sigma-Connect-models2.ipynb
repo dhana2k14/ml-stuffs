{
 "cells": [
  {
   "cell_type": "code",
   "execution_count": 72,
   "metadata": {
    "collapsed": true
   },
   "outputs": [],
   "source": [
    "import pandas as pd\n",
    "import numpy as np\n",
    "import json, os\n",
    "from pandas.io.json import json_normalize\n",
    "import missingno as msno\n",
    "import seaborn as sn\n",
    "from scipy import stats, sparse\n",
    "import datetime as dt\n",
    "import matplotlib.pyplot as plt\n",
    "from sklearn import preprocessing\n",
    "%matplotlib inline"
   ]
  },
  {
   "cell_type": "code",
   "execution_count": 73,
   "metadata": {
    "collapsed": true
   },
   "outputs": [],
   "source": [
    "os.chdir('D:/Kaggle/Two Sigma Connect')\n",
    "pd.set_option('max_columns', 200)\n",
    "pd.set_option('max_colwidth', 200)"
   ]
  },
  {
   "cell_type": "code",
   "execution_count": 74,
   "metadata": {
    "collapsed": false
   },
   "outputs": [],
   "source": [
    "tr_df = pd.read_json('train.json')\n",
    "te_df = pd.read_json('test.json')"
   ]
  },
  {
   "cell_type": "code",
   "execution_count": 75,
   "metadata": {
    "collapsed": false
   },
   "outputs": [],
   "source": [
    "# count number of photos\n",
    "\n",
    "tr_df['num_photos'] = tr_df['photos'].apply(lambda x: len(x))\n",
    "te_df['num_photos'] = te_df['photos'].apply(lambda x: len(x))\n",
    "\n",
    "tr_df['num_features'] = tr_df['features'].apply(lambda x: len(x))\n",
    "te_df['num_features'] = te_df['features'].apply(lambda x: len(x))"
   ]
  },
  {
   "cell_type": "code",
   "execution_count": 76,
   "metadata": {
    "collapsed": true
   },
   "outputs": [],
   "source": [
    "feature_to_use = ['price', 'num_photos', 'num_features', 'bedrooms', 'bathrooms']"
   ]
  },
  {
   "cell_type": "code",
   "execution_count": 77,
   "metadata": {
    "collapsed": false
   },
   "outputs": [],
   "source": [
    "fs = ['manager_id', 'building_id', 'street_address', 'display_address']\n",
    "\n",
    "for f in fs:\n",
    "    if tr_df[f].dtype == 'object':\n",
    "        le = preprocessing.LabelEncoder()\n",
    "        le.fit(list(tr_df[f].values) + list(te_df[f].values))\n",
    "        tr_df[f] = le.transform(list(tr_df[f].values))\n",
    "        te_df[f] = le.transform(list(te_df[f].values))\n",
    "        feature_to_use.append(f)"
   ]
  },
  {
   "cell_type": "code",
   "execution_count": 79,
   "metadata": {
    "collapsed": false
   },
   "outputs": [],
   "source": [
    "#print tr_df.columns\n",
    "feature_to_use.append('price_diff')"
   ]
  },
  {
   "cell_type": "code",
   "execution_count": 80,
   "metadata": {
    "collapsed": false
   },
   "outputs": [
    {
     "name": "stdout",
     "output_type": "stream",
     "text": [
      "['price', 'num_photos', 'num_features', 'bedrooms', 'bathrooms', 'manager_id', 'building_id', 'street_address', 'display_address', 'price_diff']\n"
     ]
    }
   ],
   "source": [
    "print feature_to_use"
   ]
  },
  {
   "cell_type": "code",
   "execution_count": 81,
   "metadata": {
    "collapsed": true
   },
   "outputs": [],
   "source": [
    "from sklearn.feature_extraction.text import CountVectorizer, TfidfVectorizer\n",
    "from scipy.sparse import hstack"
   ]
  },
  {
   "cell_type": "code",
   "execution_count": 83,
   "metadata": {
    "collapsed": true
   },
   "outputs": [],
   "source": [
    "tr_df['features'] = tr_df['features'].apply(lambda x: \" \".join([\"_\".join(i.split(\" \")) for i in x]))\n",
    "te_df['features'] = te_df['features'].apply(lambda x: \" \".join([\"_\".join(i.split(\" \")) for i in x]))"
   ]
  },
  {
   "cell_type": "code",
   "execution_count": 84,
   "metadata": {
    "collapsed": false
   },
   "outputs": [],
   "source": [
    "tfidf = CountVectorizer(stop_words = 'english', max_features = 200)\n",
    "tr_sparse = tfidf.fit_transform(tr_df['features'])\n",
    "te_sparse = tfidf.fit_transform(te_df['features'])"
   ]
  },
  {
   "cell_type": "code",
   "execution_count": 95,
   "metadata": {
    "collapsed": false
   },
   "outputs": [
    {
     "name": "stdout",
     "output_type": "stream",
     "text": [
      "['price', 'num_photos', 'num_features', 'bedrooms', 'bathrooms', 'manager_id', 'building_id', 'street_address', 'display_address', 'price_diff']\n"
     ]
    }
   ],
   "source": [
    "print feature_to_use"
   ]
  },
  {
   "cell_type": "code",
   "execution_count": 87,
   "metadata": {
    "collapsed": false
   },
   "outputs": [],
   "source": [
    "tr_X = sparse.hstack([tr_df[feature_to_use], tr_sparse]).tocsr()\n",
    "#te_X = sparse.hstack([te_df[feature_to_use], te_sparse]).tocsr()"
   ]
  },
  {
   "cell_type": "code",
   "execution_count": 88,
   "metadata": {
    "collapsed": false
   },
   "outputs": [
    {
     "name": "stdout",
     "output_type": "stream",
     "text": [
      "((49352, 210), (49352L,))\n"
     ]
    }
   ],
   "source": [
    "# numbering target variable \n",
    "\n",
    "target_var_map = {'high':0, 'medium':1, 'low':2}\n",
    "tr_y = np.array(tr_df['interest_level'].apply(lambda x : target_var_map[x]))\n",
    "print (tr_X.shape, tr_y.shape)"
   ]
  },
  {
   "cell_type": "code",
   "execution_count": 99,
   "metadata": {
    "collapsed": false
   },
   "outputs": [],
   "source": [
    "tr_X_df = pd.SparseDataFrame([ pd.SparseSeries(tr_X[i].toarray().ravel()) for i in np.arange(tr_X.shape[0])])"
   ]
  },
  {
   "cell_type": "code",
   "execution_count": 25,
   "metadata": {
    "collapsed": true
   },
   "outputs": [],
   "source": [
    "# test set\n",
    "\n",
    "te_X_df = pd.SparseDataFrame([ pd.SparseSeries(te_X[i].toarray().ravel()) for i in np.arange(te_X.shape[0])])\n",
    "te_X_df = te_X_df.iloc[:,0:9]\n",
    "te_X_df.columns = feature_to_use"
   ]
  },
  {
   "cell_type": "code",
   "execution_count": 100,
   "metadata": {
    "collapsed": false
   },
   "outputs": [],
   "source": [
    "tr_y_df = pd.DataFrame(tr_y.ravel())\n",
    "tr_y_df.columns = ['target']"
   ]
  },
  {
   "cell_type": "code",
   "execution_count": 101,
   "metadata": {
    "collapsed": false
   },
   "outputs": [],
   "source": [
    "tr_X_df = tr_X_df.iloc[:,0:10]\n",
    "tr_X_df.columns = feature_to_use"
   ]
  },
  {
   "cell_type": "code",
   "execution_count": 102,
   "metadata": {
    "collapsed": false
   },
   "outputs": [
    {
     "name": "stdout",
     "output_type": "stream",
     "text": [
      "    price  num_photos  num_features  bedrooms  bathrooms  manager_id  \\\n",
      "0  3000.0         5.0           0.0       3.0        1.5      1568.0   \n",
      "1  5465.0        11.0           5.0       2.0        1.0      1988.0   \n",
      "2  2850.0         8.0           4.0       1.0        1.0      3733.0   \n",
      "3  3275.0         3.0           2.0       1.0        1.0       282.0   \n",
      "4  3350.0         3.0           1.0       4.0        1.0      2618.0   \n",
      "\n",
      "   building_id  street_address  display_address  price_diff  \n",
      "0       3797.0         23484.0          12282.0      -150.0  \n",
      "1       8986.0         23680.0           9080.0      1295.0  \n",
      "2       8889.0          9827.0          13719.0       150.0  \n",
      "3       1848.0         14237.0          10866.0      -895.0  \n",
      "4          0.0         19227.0          15072.0      -820.0  \n"
     ]
    }
   ],
   "source": [
    "print tr_X_df.head()"
   ]
  },
  {
   "cell_type": "code",
   "execution_count": 103,
   "metadata": {
    "collapsed": true
   },
   "outputs": [],
   "source": [
    "from sklearn.ensemble import GradientBoostingClassifier, RandomForestClassifier"
   ]
  },
  {
   "cell_type": "code",
   "execution_count": 275,
   "metadata": {
    "collapsed": false,
    "scrolled": true
   },
   "outputs": [
    {
     "name": "stderr",
     "output_type": "stream",
     "text": [
      "d:\\anaconda\\lib\\site-packages\\sklearn\\utils\\validation.py:515: DataConversionWarning: A column-vector y was passed when a 1d array was expected. Please change the shape of y to (n_samples, ), for example using ravel().\n",
      "  y = column_or_1d(y, warn=True)\n"
     ]
    },
    {
     "data": {
      "text/plain": [
       "GradientBoostingClassifier(init=None, learning_rate=0.1, loss='deviance',\n",
       "              max_depth=3, max_features=None, max_leaf_nodes=None,\n",
       "              min_samples_leaf=1, min_samples_split=2,\n",
       "              min_weight_fraction_leaf=0.0, n_estimators=100,\n",
       "              presort='auto', random_state=None, subsample=1.0, verbose=0,\n",
       "              warm_start=False)"
      ]
     },
     "execution_count": 275,
     "metadata": {},
     "output_type": "execute_result"
    }
   ],
   "source": [
    "est = GradientBoostingClassifier(n_estimators = 100)\n",
    "est.fit(tr_X_df, tr_y_df)"
   ]
  },
  {
   "cell_type": "code",
   "execution_count": 279,
   "metadata": {
    "collapsed": true
   },
   "outputs": [],
   "source": [
    "pred_tr_X = est.predict(tr_X_df)"
   ]
  },
  {
   "cell_type": "code",
   "execution_count": 105,
   "metadata": {
    "collapsed": false
   },
   "outputs": [],
   "source": [
    "from sklearn.grid_search import GridSearchCV"
   ]
  },
  {
   "cell_type": "code",
   "execution_count": 30,
   "metadata": {
    "collapsed": true
   },
   "outputs": [],
   "source": [
    "# convert to array\n",
    "\n",
    "tr_X_arr = tr_X.toarray()"
   ]
  },
  {
   "cell_type": "code",
   "execution_count": 49,
   "metadata": {
    "collapsed": false
   },
   "outputs": [
    {
     "name": "stdout",
     "output_type": "stream",
     "text": [
      "{'max_depth': 8}\n"
     ]
    }
   ],
   "source": [
    "# Perform a grid search to fine tune with the parameters \n",
    "\n",
    "param_grid = {'max_depth':[4, 6, 8]}\n",
    "\n",
    "est = RandomForestClassifier(n_estimators = 500)\n",
    "gs_cv = GridSearchCV(est, param_grid).fit(tr_X_arr, tr_y)\n",
    "print gs_cv.best_params_"
   ]
  },
  {
   "cell_type": "code",
   "execution_count": null,
   "metadata": {
    "collapsed": false
   },
   "outputs": [],
   "source": [
    "# apply model based on GridSearch \n",
    "\n",
    "est = RandomForestClassifier(n_estimators = 500, max_depth = 8)\n",
    "rfc = est.fit(tr_X_arr, tr_y)\n",
    "print rfc.feature_importances_"
   ]
  },
  {
   "cell_type": "code",
   "execution_count": 51,
   "metadata": {
    "collapsed": true
   },
   "outputs": [],
   "source": [
    "pred_X = rfc.predict(tr_X_arr)"
   ]
  },
  {
   "cell_type": "code",
   "execution_count": 39,
   "metadata": {
    "collapsed": true
   },
   "outputs": [],
   "source": [
    "from sklearn.metrics import confusion_matrix"
   ]
  },
  {
   "cell_type": "code",
   "execution_count": 44,
   "metadata": {
    "collapsed": false
   },
   "outputs": [
    {
     "name": "stdout",
     "output_type": "stream",
     "text": [
      "[[    0     0     0]\n",
      " [   15    58    23]\n",
      " [ 3824 11171 34261]]\n"
     ]
    }
   ],
   "source": [
    "print confusion_matrix(pred_X, tr_y)"
   ]
  },
  {
   "cell_type": "code",
   "execution_count": 52,
   "metadata": {
    "collapsed": false
   },
   "outputs": [
    {
     "name": "stdout",
     "output_type": "stream",
     "text": [
      "[[    2     0     0]\n",
      " [   17    61    24]\n",
      " [ 3820 11168 34260]]\n"
     ]
    }
   ],
   "source": [
    "print confusion_matrix(pred_X, tr_y)"
   ]
  },
  {
   "cell_type": "code",
   "execution_count": 53,
   "metadata": {
    "collapsed": true
   },
   "outputs": [],
   "source": [
    "pred_te = rfc.predict_proba(te_X)"
   ]
  },
  {
   "cell_type": "code",
   "execution_count": 54,
   "metadata": {
    "collapsed": false
   },
   "outputs": [
    {
     "name": "stdout",
     "output_type": "stream",
     "text": [
      "       high    medium       low\n",
      "0  0.077023  0.232660  0.690317\n",
      "1  0.049802  0.150708  0.799490\n",
      "2  0.091516  0.231357  0.677127\n",
      "3  0.096610  0.254462  0.648928\n",
      "4  0.059139  0.219749  0.721112\n"
     ]
    }
   ],
   "source": [
    "pred_df = pd.DataFrame(pred_te, columns = ('high', 'medium', 'low'))\n",
    "print pred_df.head()"
   ]
  },
  {
   "cell_type": "code",
   "execution_count": 55,
   "metadata": {
    "collapsed": true
   },
   "outputs": [],
   "source": [
    "pred_df['listing_id'] = te_df.listing_id.values\n",
    "pred_df.to_csv('submission4_RF_500_8.csv', index = False)"
   ]
  }
 ],
 "metadata": {
  "kernelspec": {
   "display_name": "Python 2",
   "language": "python",
   "name": "python2"
  },
  "language_info": {
   "codemirror_mode": {
    "name": "ipython",
    "version": 2
   },
   "file_extension": ".py",
   "mimetype": "text/x-python",
   "name": "python",
   "nbconvert_exporter": "python",
   "pygments_lexer": "ipython2",
   "version": "2.7.12"
  }
 },
 "nbformat": 4,
 "nbformat_minor": 0
}
