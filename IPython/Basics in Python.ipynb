{
 "cells": [
  {
   "cell_type": "code",
   "execution_count": 102,
   "metadata": {
    "collapsed": true
   },
   "outputs": [],
   "source": [
    "import sys\n",
    "%matplotlib inline "
   ]
  },
  {
   "cell_type": "code",
   "execution_count": null,
   "metadata": {
    "collapsed": true
   },
   "outputs": [],
   "source": [
    "def hello(name):\n",
    "    if name == 'Alice':\n",
    "        name = name + '???'\n",
    "    else:\n",
    "        print \"Else\"\n",
    "    name = name + '!!!!'\n",
    "    print \"Hello\", name\n",
    "    \n",
    "## define a main() function that prints a message\n",
    "\n",
    "def main():\n",
    "    print sys.argv\n",
    "    \n",
    "    \n",
    "# this is the standard boilerplate that calls the main function.\n",
    "if __name__ == '__main__':\n",
    "    main()"
   ]
  },
  {
   "cell_type": "code",
   "execution_count": null,
   "metadata": {
    "collapsed": true
   },
   "outputs": [],
   "source": [
    "import sys\n",
    "\n",
    "def hello(name):\n",
    "    name = name + '!!!!'\n",
    "    print \"Hello\", name\n",
    "    \n",
    "## define a main() function that prints a message.\n",
    "\n",
    "def main():\n",
    "   hello(sys.argv[1])\n",
    "    \n",
    "# this is the standard boilerplate that calls the main function.\n",
    "if __name__ == '__main__':\n",
    "    main()"
   ]
  },
  {
   "cell_type": "code",
   "execution_count": null,
   "metadata": {
    "collapsed": true
   },
   "outputs": [],
   "source": [
    "def cat(filename):\n",
    "    f = open(filename, 'rU')\n",
    "    for file in f:\n",
    "        print file\n",
    "    f.close()"
   ]
  },
  {
   "cell_type": "code",
   "execution_count": null,
   "metadata": {
    "collapsed": true
   },
   "outputs": [],
   "source": [
    "import sys\n",
    "\n",
    "def cat(filename):\n",
    "    f = open(filename, 'rU')\n",
    "    for file in f:\n",
    "        print file,\n",
    "    f.close()\n",
    "\n",
    "## define a main() function that prints a message\n",
    "\n",
    "def main():\n",
    "    cat(sys.argv[1])\n",
    "    \n",
    "    \n",
    "# this is the standard boilerplate that calls the main function.\n",
    "if __name__ == '__main__':\n",
    "    main()"
   ]
  },
  {
   "cell_type": "code",
   "execution_count": null,
   "metadata": {
    "collapsed": true
   },
   "outputs": [],
   "source": [
    "var = 6\n",
    "del var ## var no more!"
   ]
  },
  {
   "cell_type": "code",
   "execution_count": null,
   "metadata": {
    "collapsed": true
   },
   "outputs": [],
   "source": [
    "print var"
   ]
  },
  {
   "cell_type": "code",
   "execution_count": null,
   "metadata": {
    "collapsed": true
   },
   "outputs": [],
   "source": [
    "list = ['a','b','c','d']\n",
    "del list[0] ## removes first element\n",
    "del list[-2:] ## removes last two elements\n",
    "print list"
   ]
  },
  {
   "cell_type": "code",
   "execution_count": null,
   "metadata": {
    "collapsed": true
   },
   "outputs": [],
   "source": [
    "d = {'a':1,'b':2,'c':3,'d':4}\n",
    "del d['b'] ## removes 'b' entry\n",
    "print d"
   ]
  },
  {
   "cell_type": "code",
   "execution_count": null,
   "metadata": {
    "collapsed": true
   },
   "outputs": [],
   "source": [
    "print d"
   ]
  },
  {
   "cell_type": "code",
   "execution_count": 2,
   "metadata": {
    "collapsed": true
   },
   "outputs": [],
   "source": [
    "# Customarily, we import as follows\n",
    "import pandas as pd\n",
    "import numpy as np"
   ]
  },
  {
   "cell_type": "code",
   "execution_count": null,
   "metadata": {
    "collapsed": true
   },
   "outputs": [],
   "source": [
    "s = pd.Series([1,3,5,np.nan,8,6])\n",
    "print s"
   ]
  },
  {
   "cell_type": "code",
   "execution_count": 19,
   "metadata": {},
   "outputs": [
    {
     "name": "stdout",
     "output_type": "stream",
     "text": [
      "DatetimeIndex(['2013-01-01', '2013-01-02', '2013-01-03', '2013-01-04',\n",
      "               '2013-01-05', '2013-01-06'],\n",
      "              dtype='datetime64[ns]', freq='D', tz=None)\n"
     ]
    }
   ],
   "source": [
    "# Creating a DataFrame by passing numpy array, with datetime index and labeled columns\n",
    "dates = pd.date_range('2013-01-01', periods = 6)\n",
    "print dates"
   ]
  },
  {
   "cell_type": "code",
   "execution_count": 20,
   "metadata": {},
   "outputs": [
    {
     "name": "stdout",
     "output_type": "stream",
     "text": [
      "                   A         B         C         D\n",
      "2013-01-01  2.246199 -0.266124 -0.097995  1.228712\n",
      "2013-01-02 -1.784726 -0.922270  0.001491  2.177525\n",
      "2013-01-03  1.825031  0.903084 -0.599820 -0.127092\n",
      "2013-01-04  1.086530  1.389384 -0.644488  0.546462\n",
      "2013-01-05 -1.743320 -1.600939  0.551148 -0.864175\n",
      "2013-01-06 -0.998768  1.470552 -0.795765  1.083857\n"
     ]
    }
   ],
   "source": [
    "df = pd.DataFrame(np.random.randn(6,4), index = dates, columns = list('ABCD'))\n",
    "print df"
   ]
  },
  {
   "cell_type": "code",
   "execution_count": 28,
   "metadata": {
    "collapsed": true
   },
   "outputs": [],
   "source": [
    "df1 = pd.DataFrame({'A':1,\n",
    "                  'B': pd.Timestamp('20130102'),\n",
    "                  'C': pd.Series(1, index = list(range(4)), dtype = 'float32'),\n",
    "                  'D': np.array([3] * 4, dtype = 'int32'),\n",
    "                  'E': pd.Categorical(['train','test', 'train', 'test']),\n",
    "                  'F': 'food'})\n"
   ]
  },
  {
   "cell_type": "code",
   "execution_count": 29,
   "metadata": {},
   "outputs": [
    {
     "name": "stdout",
     "output_type": "stream",
     "text": [
      "   A          B  C  D      E     F\n",
      "0  1 2013-01-02  1  3  train  food\n",
      "1  1 2013-01-02  1  3   test  food\n",
      "2  1 2013-01-02  1  3  train  food\n",
      "3  1 2013-01-02  1  3   test  food\n"
     ]
    }
   ],
   "source": [
    "print df1"
   ]
  },
  {
   "cell_type": "code",
   "execution_count": null,
   "metadata": {
    "collapsed": true
   },
   "outputs": [],
   "source": [
    "df1.sort_index(axis =1 , ascending = False)"
   ]
  },
  {
   "cell_type": "code",
   "execution_count": null,
   "metadata": {
    "collapsed": true
   },
   "outputs": [],
   "source": [
    "df1.loc[:,['A','B']] # select by label, all rows but col A and B"
   ]
  },
  {
   "cell_type": "code",
   "execution_count": null,
   "metadata": {
    "collapsed": true
   },
   "outputs": [],
   "source": [
    "df1.iloc[0:3,:] # select by position, 1st row to 3rd row, all cols"
   ]
  },
  {
   "cell_type": "code",
   "execution_count": null,
   "metadata": {
    "collapsed": true
   },
   "outputs": [],
   "source": [
    "df1.iloc[[0,3],[0,3]] ## 4th row, 1st & 4th col"
   ]
  },
  {
   "cell_type": "code",
   "execution_count": null,
   "metadata": {
    "collapsed": true
   },
   "outputs": [],
   "source": [
    "df1.iloc[0,4] ## return a value explicitly"
   ]
  },
  {
   "cell_type": "code",
   "execution_count": null,
   "metadata": {
    "collapsed": true
   },
   "outputs": [],
   "source": [
    "df1[df1.E == 'train'] ## boolean indexing"
   ]
  },
  {
   "cell_type": "code",
   "execution_count": null,
   "metadata": {
    "collapsed": true
   },
   "outputs": [],
   "source": [
    "df1[df1['E'].isin(['test'])] ## filter"
   ]
  },
  {
   "cell_type": "code",
   "execution_count": 76,
   "metadata": {},
   "outputs": [
    {
     "name": "stdout",
     "output_type": "stream",
     "text": [
      "2013-01-01    1\n",
      "2013-01-02    2\n",
      "2013-01-03    3\n",
      "2013-01-04    4\n",
      "2013-01-05    5\n",
      "2013-01-06    6\n",
      "Freq: D, dtype: int64\n",
      "                   A         B         C         D  E\n",
      "2013-01-01 -0.075441 -0.636921 -0.692458  0.847508  1\n",
      "2013-01-02  1.771813  0.299223  1.439366 -0.198127  2\n",
      "2013-01-03 -0.265093  2.834907 -1.288796 -0.850259  3\n",
      "2013-01-04 -0.006461 -0.253736 -0.287093 -0.038670  4\n",
      "2013-01-05 -0.354682 -1.544841 -0.378719  0.001504  5\n",
      "2013-01-06  0.294062 -1.042555  0.021590 -0.788563  6\n",
      "                   A         B         C         D  E\n",
      "2013-01-01 -0.075441 -0.636921 -0.692458  0.847508  1\n",
      "2013-01-02  1.771813  0.299223  1.439366 -0.198127  2\n",
      "2013-01-03 -0.265093  2.834907 -1.288796 -0.850259  3\n",
      "2013-01-04 -0.006461 -0.253736 -0.287093 -0.038670  4\n",
      "2013-01-05 -0.354682 -1.544841 -0.378719  0.001504  5\n",
      "2013-01-06  0.294062 -1.042555  0.021590 -0.788563  6\n"
     ]
    }
   ],
   "source": [
    "s = pd.Series([1,2,3,4,5,6], index = pd.date_range('20130101', periods = 6)) ## setting a new col and merge by indexes\n",
    "print s\n",
    "print df\n",
    "df['E'] = s\n",
    "print df ## col E is added by index"
   ]
  },
  {
   "cell_type": "code",
   "execution_count": 79,
   "metadata": {},
   "outputs": [
    {
     "name": "stdout",
     "output_type": "stream",
     "text": [
      "                   A         B         C         D  E\n",
      "2013-01-01  0.000000  0.000000 -0.692458  0.847508  1\n",
      "2013-01-02  0.000000  0.000000  1.439366 -0.198127  2\n",
      "2013-01-03 -0.265093  2.834907 -1.288796 -0.850259  3\n",
      "2013-01-04 -0.006461 -0.253736 -0.287093 -0.038670  4\n",
      "2013-01-05 -0.354682 -1.544841 -0.378719  0.001504  5\n",
      "2013-01-06  0.294062 -1.042555  0.021590 -0.788563  6\n"
     ]
    }
   ],
   "source": [
    "df.at[dates[0:2],['A','B']] = 0 ## setting value by label\n",
    "print df"
   ]
  },
  {
   "cell_type": "code",
   "execution_count": 85,
   "metadata": {},
   "outputs": [
    {
     "name": "stdout",
     "output_type": "stream",
     "text": [
      "                   A         B         C         D  E\n",
      "2013-01-01  0.000000  0.000000 -0.692458  0.847508  1\n",
      "2013-01-02  0.000000  0.000000  1.439366 -0.198127  2\n",
      "2013-01-03 -0.265093  2.834907 -1.288796 -0.850259  3\n",
      "2013-01-04 -0.006461 -0.253736 -0.287093 -0.038670  4\n",
      "2013-01-05 -0.354682  0.000000 -0.378719  0.001504  5\n",
      "2013-01-06  0.294062 -1.042555  0.021590 -0.788563  6\n"
     ]
    }
   ],
   "source": [
    "df.iat[4,1] = 0 ## setting value by position\n",
    "print df"
   ]
  },
  {
   "cell_type": "code",
   "execution_count": 86,
   "metadata": {},
   "outputs": [
    {
     "name": "stdout",
     "output_type": "stream",
     "text": [
      "                   A         B         C         D  E\n",
      "2013-01-01  0.000000  0.000000 -0.692458  0.847508  5\n",
      "2013-01-02  0.000000  0.000000  1.439366 -0.198127  5\n",
      "2013-01-03 -0.265093  2.834907 -1.288796 -0.850259  5\n",
      "2013-01-04 -0.006461 -0.253736 -0.287093 -0.038670  5\n",
      "2013-01-05 -0.354682  0.000000 -0.378719  0.001504  5\n",
      "2013-01-06  0.294062 -1.042555  0.021590 -0.788563  5\n"
     ]
    }
   ],
   "source": [
    "df.loc[:,'E'] = np.array([5] * len(df)) ## setting a value by assiging numpy array\n",
    "print df"
   ]
  },
  {
   "cell_type": "code",
   "execution_count": 92,
   "metadata": {},
   "outputs": [
    {
     "name": "stdout",
     "output_type": "stream",
     "text": [
      "                   A         B         C         D  E\n",
      "2013-01-01  0.000000  0.000000 -0.692458 -0.847508 -5\n",
      "2013-01-02  0.000000  0.000000 -1.439366 -0.198127 -5\n",
      "2013-01-03 -0.265093 -2.834907 -1.288796 -0.850259 -5\n",
      "2013-01-04 -0.006461 -0.253736 -0.287093 -0.038670 -5\n",
      "2013-01-05 -0.354682  0.000000 -0.378719 -0.001504 -5\n",
      "2013-01-06 -0.294062 -1.042555 -0.021590 -0.788563 -5\n"
     ]
    }
   ],
   "source": [
    "df2 = df.copy() ## setting value with 'where'\n",
    "df2[df2 > 0] = -df2\n",
    "print df2"
   ]
  },
  {
   "cell_type": "code",
   "execution_count": 93,
   "metadata": {},
   "outputs": [
    {
     "name": "stdout",
     "output_type": "stream",
     "text": [
      "                   A         B         C         D  E   F\n",
      "2013-01-01  0.000000  0.000000 -0.692458  0.847508  5   1\n",
      "2013-01-02  0.000000  0.000000  1.439366 -0.198127  5   1\n",
      "2013-01-03 -0.265093  2.834907 -1.288796 -0.850259  5   1\n",
      "2013-01-04 -0.006461 -0.253736 -0.287093 -0.038670  5 NaN\n"
     ]
    }
   ],
   "source": [
    "# Missing Data\n",
    "## Reindexing allows you to add/delete/change the index on a specified axis, this returns a copy of data\n",
    "\n",
    "df1 = df.reindex(index = dates[0:4], columns = list(df.columns) + ['F'])\n",
    "df1.loc[dates[0]:dates[2], 'F'] = 1\n",
    "print df1"
   ]
  },
  {
   "cell_type": "code",
   "execution_count": 94,
   "metadata": {},
   "outputs": [
    {
     "data": {
      "text/html": [
       "<div>\n",
       "<table border=\"1\" class=\"dataframe\">\n",
       "  <thead>\n",
       "    <tr style=\"text-align: right;\">\n",
       "      <th></th>\n",
       "      <th>A</th>\n",
       "      <th>B</th>\n",
       "      <th>C</th>\n",
       "      <th>D</th>\n",
       "      <th>E</th>\n",
       "      <th>F</th>\n",
       "    </tr>\n",
       "  </thead>\n",
       "  <tbody>\n",
       "    <tr>\n",
       "      <th>2013-01-01</th>\n",
       "      <td>0.000000</td>\n",
       "      <td>0.000000</td>\n",
       "      <td>-0.692458</td>\n",
       "      <td>0.847508</td>\n",
       "      <td>5</td>\n",
       "      <td>1</td>\n",
       "    </tr>\n",
       "    <tr>\n",
       "      <th>2013-01-02</th>\n",
       "      <td>0.000000</td>\n",
       "      <td>0.000000</td>\n",
       "      <td>1.439366</td>\n",
       "      <td>-0.198127</td>\n",
       "      <td>5</td>\n",
       "      <td>1</td>\n",
       "    </tr>\n",
       "    <tr>\n",
       "      <th>2013-01-03</th>\n",
       "      <td>-0.265093</td>\n",
       "      <td>2.834907</td>\n",
       "      <td>-1.288796</td>\n",
       "      <td>-0.850259</td>\n",
       "      <td>5</td>\n",
       "      <td>1</td>\n",
       "    </tr>\n",
       "    <tr>\n",
       "      <th>2013-01-04</th>\n",
       "      <td>-0.006461</td>\n",
       "      <td>-0.253736</td>\n",
       "      <td>-0.287093</td>\n",
       "      <td>-0.038670</td>\n",
       "      <td>5</td>\n",
       "      <td>NaN</td>\n",
       "    </tr>\n",
       "  </tbody>\n",
       "</table>\n",
       "</div>"
      ],
      "text/plain": [
       "                   A         B         C         D  E   F\n",
       "2013-01-01  0.000000  0.000000 -0.692458  0.847508  5   1\n",
       "2013-01-02  0.000000  0.000000  1.439366 -0.198127  5   1\n",
       "2013-01-03 -0.265093  2.834907 -1.288796 -0.850259  5   1\n",
       "2013-01-04 -0.006461 -0.253736 -0.287093 -0.038670  5 NaN"
      ]
     },
     "execution_count": 94,
     "metadata": {},
     "output_type": "execute_result"
    }
   ],
   "source": [
    "df1.dropna(how = 'all') # 'all' - if all values are NA, drop that label, 'any' - if any value is NA, drop that label"
   ]
  },
  {
   "cell_type": "code",
   "execution_count": 95,
   "metadata": {},
   "outputs": [
    {
     "data": {
      "text/html": [
       "<div>\n",
       "<table border=\"1\" class=\"dataframe\">\n",
       "  <thead>\n",
       "    <tr style=\"text-align: right;\">\n",
       "      <th></th>\n",
       "      <th>A</th>\n",
       "      <th>B</th>\n",
       "      <th>C</th>\n",
       "      <th>D</th>\n",
       "      <th>E</th>\n",
       "      <th>F</th>\n",
       "    </tr>\n",
       "  </thead>\n",
       "  <tbody>\n",
       "    <tr>\n",
       "      <th>2013-01-01</th>\n",
       "      <td>0.000000</td>\n",
       "      <td>0.000000</td>\n",
       "      <td>-0.692458</td>\n",
       "      <td>0.847508</td>\n",
       "      <td>5</td>\n",
       "      <td>1</td>\n",
       "    </tr>\n",
       "    <tr>\n",
       "      <th>2013-01-02</th>\n",
       "      <td>0.000000</td>\n",
       "      <td>0.000000</td>\n",
       "      <td>1.439366</td>\n",
       "      <td>-0.198127</td>\n",
       "      <td>5</td>\n",
       "      <td>1</td>\n",
       "    </tr>\n",
       "    <tr>\n",
       "      <th>2013-01-03</th>\n",
       "      <td>-0.265093</td>\n",
       "      <td>2.834907</td>\n",
       "      <td>-1.288796</td>\n",
       "      <td>-0.850259</td>\n",
       "      <td>5</td>\n",
       "      <td>1</td>\n",
       "    </tr>\n",
       "    <tr>\n",
       "      <th>2013-01-04</th>\n",
       "      <td>-0.006461</td>\n",
       "      <td>-0.253736</td>\n",
       "      <td>-0.287093</td>\n",
       "      <td>-0.038670</td>\n",
       "      <td>5</td>\n",
       "      <td>5</td>\n",
       "    </tr>\n",
       "  </tbody>\n",
       "</table>\n",
       "</div>"
      ],
      "text/plain": [
       "                   A         B         C         D  E  F\n",
       "2013-01-01  0.000000  0.000000 -0.692458  0.847508  5  1\n",
       "2013-01-02  0.000000  0.000000  1.439366 -0.198127  5  1\n",
       "2013-01-03 -0.265093  2.834907 -1.288796 -0.850259  5  1\n",
       "2013-01-04 -0.006461 -0.253736 -0.287093 -0.038670  5  5"
      ]
     },
     "execution_count": 95,
     "metadata": {},
     "output_type": "execute_result"
    }
   ],
   "source": [
    "df1.fillna(value = 5) ## filling missing value with a scalar value"
   ]
  },
  {
   "cell_type": "code",
   "execution_count": 99,
   "metadata": {},
   "outputs": [
    {
     "data": {
      "text/html": [
       "<div>\n",
       "<table border=\"1\" class=\"dataframe\">\n",
       "  <thead>\n",
       "    <tr style=\"text-align: right;\">\n",
       "      <th></th>\n",
       "      <th>A</th>\n",
       "      <th>B</th>\n",
       "      <th>C</th>\n",
       "      <th>D</th>\n",
       "      <th>E</th>\n",
       "      <th>F</th>\n",
       "    </tr>\n",
       "  </thead>\n",
       "  <tbody>\n",
       "    <tr>\n",
       "      <th>2013-01-01</th>\n",
       "      <td>False</td>\n",
       "      <td>False</td>\n",
       "      <td>False</td>\n",
       "      <td>False</td>\n",
       "      <td>False</td>\n",
       "      <td>False</td>\n",
       "    </tr>\n",
       "    <tr>\n",
       "      <th>2013-01-02</th>\n",
       "      <td>False</td>\n",
       "      <td>False</td>\n",
       "      <td>False</td>\n",
       "      <td>False</td>\n",
       "      <td>False</td>\n",
       "      <td>False</td>\n",
       "    </tr>\n",
       "    <tr>\n",
       "      <th>2013-01-03</th>\n",
       "      <td>False</td>\n",
       "      <td>False</td>\n",
       "      <td>False</td>\n",
       "      <td>False</td>\n",
       "      <td>False</td>\n",
       "      <td>False</td>\n",
       "    </tr>\n",
       "    <tr>\n",
       "      <th>2013-01-04</th>\n",
       "      <td>False</td>\n",
       "      <td>False</td>\n",
       "      <td>False</td>\n",
       "      <td>False</td>\n",
       "      <td>False</td>\n",
       "      <td>True</td>\n",
       "    </tr>\n",
       "  </tbody>\n",
       "</table>\n",
       "</div>"
      ],
      "text/plain": [
       "                A      B      C      D      E      F\n",
       "2013-01-01  False  False  False  False  False  False\n",
       "2013-01-02  False  False  False  False  False  False\n",
       "2013-01-03  False  False  False  False  False  False\n",
       "2013-01-04  False  False  False  False  False   True"
      ]
     },
     "execution_count": 99,
     "metadata": {},
     "output_type": "execute_result"
    }
   ],
   "source": [
    "pd.isnull(df1) # boolean masking"
   ]
  },
  {
   "cell_type": "code",
   "execution_count": 105,
   "metadata": {},
   "outputs": [
    {
     "data": {
      "text/plain": [
       "0    1.666667\n",
       "1    1.666667\n",
       "2    1.666667\n",
       "3    1.666667\n",
       "dtype: float32"
      ]
     },
     "execution_count": 105,
     "metadata": {},
     "output_type": "execute_result"
    }
   ],
   "source": [
    "## Operations\n",
    "## Performing descriptive statistics\n",
    "df1.mean()\n",
    "df1.mean(1) # some opreation on the axis"
   ]
  },
  {
   "cell_type": "code",
   "execution_count": 109,
   "metadata": {},
   "outputs": [
    {
     "name": "stdout",
     "output_type": "stream",
     "text": [
      "2013-01-01   NaN\n",
      "2013-01-02   NaN\n",
      "2013-01-03     1\n",
      "2013-01-04     3\n",
      "2013-01-05     5\n",
      "2013-01-06   NaN\n",
      "Freq: D, dtype: float64\n",
      "                   A         B         C         D  E\n",
      "2013-01-01  0.000000  0.000000 -0.692458  0.847508  5\n",
      "2013-01-02  0.000000  0.000000  1.439366 -0.198127  5\n",
      "2013-01-03 -0.265093  2.834907 -1.288796 -0.850259  5\n",
      "2013-01-04 -0.006461 -0.253736 -0.287093 -0.038670  5\n",
      "2013-01-05 -0.354682  0.000000 -0.378719  0.001504  5\n",
      "2013-01-06  0.294062 -1.042555  0.021590 -0.788563  5\n"
     ]
    },
    {
     "data": {
      "text/html": [
       "<div>\n",
       "<table border=\"1\" class=\"dataframe\">\n",
       "  <thead>\n",
       "    <tr style=\"text-align: right;\">\n",
       "      <th></th>\n",
       "      <th>A</th>\n",
       "      <th>B</th>\n",
       "      <th>C</th>\n",
       "      <th>D</th>\n",
       "      <th>E</th>\n",
       "    </tr>\n",
       "  </thead>\n",
       "  <tbody>\n",
       "    <tr>\n",
       "      <th>2013-01-01</th>\n",
       "      <td>NaN</td>\n",
       "      <td>NaN</td>\n",
       "      <td>NaN</td>\n",
       "      <td>NaN</td>\n",
       "      <td>NaN</td>\n",
       "    </tr>\n",
       "    <tr>\n",
       "      <th>2013-01-02</th>\n",
       "      <td>NaN</td>\n",
       "      <td>NaN</td>\n",
       "      <td>NaN</td>\n",
       "      <td>NaN</td>\n",
       "      <td>NaN</td>\n",
       "    </tr>\n",
       "    <tr>\n",
       "      <th>2013-01-03</th>\n",
       "      <td>-1.265093</td>\n",
       "      <td>1.834907</td>\n",
       "      <td>-2.288796</td>\n",
       "      <td>-1.850259</td>\n",
       "      <td>4</td>\n",
       "    </tr>\n",
       "    <tr>\n",
       "      <th>2013-01-04</th>\n",
       "      <td>-3.006461</td>\n",
       "      <td>-3.253736</td>\n",
       "      <td>-3.287093</td>\n",
       "      <td>-3.038670</td>\n",
       "      <td>2</td>\n",
       "    </tr>\n",
       "    <tr>\n",
       "      <th>2013-01-05</th>\n",
       "      <td>-5.354682</td>\n",
       "      <td>-5.000000</td>\n",
       "      <td>-5.378719</td>\n",
       "      <td>-4.998496</td>\n",
       "      <td>0</td>\n",
       "    </tr>\n",
       "    <tr>\n",
       "      <th>2013-01-06</th>\n",
       "      <td>NaN</td>\n",
       "      <td>NaN</td>\n",
       "      <td>NaN</td>\n",
       "      <td>NaN</td>\n",
       "      <td>NaN</td>\n",
       "    </tr>\n",
       "  </tbody>\n",
       "</table>\n",
       "</div>"
      ],
      "text/plain": [
       "                   A         B         C         D   E\n",
       "2013-01-01       NaN       NaN       NaN       NaN NaN\n",
       "2013-01-02       NaN       NaN       NaN       NaN NaN\n",
       "2013-01-03 -1.265093  1.834907 -2.288796 -1.850259   4\n",
       "2013-01-04 -3.006461 -3.253736 -3.287093 -3.038670   2\n",
       "2013-01-05 -5.354682 -5.000000 -5.378719 -4.998496   0\n",
       "2013-01-06       NaN       NaN       NaN       NaN NaN"
      ]
     },
     "execution_count": 109,
     "metadata": {},
     "output_type": "execute_result"
    }
   ],
   "source": [
    "s = pd.Series([1,3,5,np.nan,6,8],index = dates).shift(2) \n",
    "print s\n",
    "print df\n",
    "df.sub(s, axis = 'index')"
   ]
  },
  {
   "cell_type": "code",
   "execution_count": 111,
   "metadata": {},
   "outputs": [
    {
     "data": {
      "text/html": [
       "<div>\n",
       "<table border=\"1\" class=\"dataframe\">\n",
       "  <thead>\n",
       "    <tr style=\"text-align: right;\">\n",
       "      <th></th>\n",
       "      <th>A</th>\n",
       "      <th>B</th>\n",
       "      <th>C</th>\n",
       "      <th>D</th>\n",
       "      <th>E</th>\n",
       "    </tr>\n",
       "  </thead>\n",
       "  <tbody>\n",
       "    <tr>\n",
       "      <th>2013-01-01</th>\n",
       "      <td>0.000000</td>\n",
       "      <td>0.000000</td>\n",
       "      <td>-0.692458</td>\n",
       "      <td>0.847508</td>\n",
       "      <td>5</td>\n",
       "    </tr>\n",
       "    <tr>\n",
       "      <th>2013-01-02</th>\n",
       "      <td>0.000000</td>\n",
       "      <td>0.000000</td>\n",
       "      <td>0.746908</td>\n",
       "      <td>0.649382</td>\n",
       "      <td>10</td>\n",
       "    </tr>\n",
       "    <tr>\n",
       "      <th>2013-01-03</th>\n",
       "      <td>-0.265093</td>\n",
       "      <td>2.834907</td>\n",
       "      <td>-0.541888</td>\n",
       "      <td>-0.200878</td>\n",
       "      <td>15</td>\n",
       "    </tr>\n",
       "    <tr>\n",
       "      <th>2013-01-04</th>\n",
       "      <td>-0.271554</td>\n",
       "      <td>2.581171</td>\n",
       "      <td>-0.828980</td>\n",
       "      <td>-0.239547</td>\n",
       "      <td>20</td>\n",
       "    </tr>\n",
       "    <tr>\n",
       "      <th>2013-01-05</th>\n",
       "      <td>-0.626236</td>\n",
       "      <td>2.581171</td>\n",
       "      <td>-1.207699</td>\n",
       "      <td>-0.238043</td>\n",
       "      <td>25</td>\n",
       "    </tr>\n",
       "    <tr>\n",
       "      <th>2013-01-06</th>\n",
       "      <td>-0.332174</td>\n",
       "      <td>1.538616</td>\n",
       "      <td>-1.186110</td>\n",
       "      <td>-1.026606</td>\n",
       "      <td>30</td>\n",
       "    </tr>\n",
       "  </tbody>\n",
       "</table>\n",
       "</div>"
      ],
      "text/plain": [
       "                   A         B         C         D   E\n",
       "2013-01-01  0.000000  0.000000 -0.692458  0.847508   5\n",
       "2013-01-02  0.000000  0.000000  0.746908  0.649382  10\n",
       "2013-01-03 -0.265093  2.834907 -0.541888 -0.200878  15\n",
       "2013-01-04 -0.271554  2.581171 -0.828980 -0.239547  20\n",
       "2013-01-05 -0.626236  2.581171 -1.207699 -0.238043  25\n",
       "2013-01-06 -0.332174  1.538616 -1.186110 -1.026606  30"
      ]
     },
     "execution_count": 111,
     "metadata": {},
     "output_type": "execute_result"
    }
   ],
   "source": [
    "## Applying functions\n",
    "df.apply(np.cumsum) ## compute cumulative sum of each column"
   ]
  },
  {
   "cell_type": "code",
   "execution_count": 113,
   "metadata": {},
   "outputs": [
    {
     "data": {
      "text/plain": [
       "A    0.648743\n",
       "B    3.877462\n",
       "C    2.728163\n",
       "D    1.697768\n",
       "E    0.000000\n",
       "dtype: float64"
      ]
     },
     "execution_count": 113,
     "metadata": {},
     "output_type": "execute_result"
    }
   ],
   "source": [
    "df.apply(lambda x: x.max() - x.min())"
   ]
  },
  {
   "cell_type": "code",
   "execution_count": 104,
   "metadata": {},
   "outputs": [
    {
     "name": "stdout",
     "output_type": "stream",
     "text": [
      "                   A         B         C         D\n",
      "2013-01-01  2.246199 -0.266124 -0.097995  1.228712\n",
      "2013-01-02 -1.784726 -0.922270  0.001491  2.177525\n",
      "2013-01-03  1.825031  0.903084 -0.599820 -0.127092\n",
      "2013-01-04  1.086530  1.389384 -0.644488  0.546462\n",
      "2013-01-05 -1.743320 -1.600939  0.551148 -0.864175\n",
      "2013-01-06 -0.998768  1.470552 -0.795765  1.083857\n"
     ]
    }
   ],
   "source": [
    "print df"
   ]
  },
  {
   "cell_type": "code",
   "execution_count": 117,
   "metadata": {},
   "outputs": [
    {
     "name": "stdout",
     "output_type": "stream",
     "text": [
      "0    1\n",
      "1    5\n",
      "2    5\n",
      "3    0\n",
      "4    8\n",
      "5    7\n",
      "6    4\n",
      "7    5\n",
      "8    1\n",
      "9    3\n",
      "dtype: int32\n"
     ]
    },
    {
     "data": {
      "text/plain": [
       "5    3\n",
       "1    2\n",
       "8    1\n",
       "7    1\n",
       "4    1\n",
       "3    1\n",
       "0    1\n",
       "dtype: int64"
      ]
     },
     "execution_count": 117,
     "metadata": {},
     "output_type": "execute_result"
    }
   ],
   "source": [
    "s = pd.Series(np.random.randint(0,10, size = 10))\n",
    "s.value_counts()"
   ]
  },
  {
   "cell_type": "code",
   "execution_count": 3,
   "metadata": {},
   "outputs": [
    {
     "data": {
      "text/plain": [
       "0       a\n",
       "1       b\n",
       "2     NaN\n",
       "3     cat\n",
       "4     dog\n",
       "5    bird\n",
       "dtype: object"
      ]
     },
     "execution_count": 3,
     "metadata": {},
     "output_type": "execute_result"
    }
   ],
   "source": [
    "# Strings\n",
    "s = pd.Series(['A','B',np.nan,'cat','dog','bird'])\n",
    "s.str.lower() ## lowercase"
   ]
  },
  {
   "cell_type": "code",
   "execution_count": 17,
   "metadata": {},
   "outputs": [
    {
     "data": {
      "text/html": [
       "<div>\n",
       "<table border=\"1\" class=\"dataframe\">\n",
       "  <thead>\n",
       "    <tr style=\"text-align: right;\">\n",
       "      <th></th>\n",
       "      <th>0</th>\n",
       "      <th>1</th>\n",
       "      <th>2</th>\n",
       "      <th>3</th>\n",
       "    </tr>\n",
       "  </thead>\n",
       "  <tbody>\n",
       "    <tr>\n",
       "      <th>0</th>\n",
       "      <td>-0.090949</td>\n",
       "      <td>-0.462182</td>\n",
       "      <td>-1.046850</td>\n",
       "      <td>0.198553</td>\n",
       "    </tr>\n",
       "    <tr>\n",
       "      <th>1</th>\n",
       "      <td>-0.373750</td>\n",
       "      <td>-0.790849</td>\n",
       "      <td>0.428978</td>\n",
       "      <td>-0.904629</td>\n",
       "    </tr>\n",
       "    <tr>\n",
       "      <th>2</th>\n",
       "      <td>0.666584</td>\n",
       "      <td>0.692398</td>\n",
       "      <td>-0.213564</td>\n",
       "      <td>1.190127</td>\n",
       "    </tr>\n",
       "    <tr>\n",
       "      <th>3</th>\n",
       "      <td>1.529615</td>\n",
       "      <td>-0.834045</td>\n",
       "      <td>1.510245</td>\n",
       "      <td>-1.420312</td>\n",
       "    </tr>\n",
       "    <tr>\n",
       "      <th>3</th>\n",
       "      <td>1.529615</td>\n",
       "      <td>-0.834045</td>\n",
       "      <td>1.510245</td>\n",
       "      <td>-1.420312</td>\n",
       "    </tr>\n",
       "    <tr>\n",
       "      <th>4</th>\n",
       "      <td>0.000919</td>\n",
       "      <td>-0.264269</td>\n",
       "      <td>-0.011715</td>\n",
       "      <td>-1.445621</td>\n",
       "    </tr>\n",
       "    <tr>\n",
       "      <th>5</th>\n",
       "      <td>1.071944</td>\n",
       "      <td>-0.275928</td>\n",
       "      <td>-0.589900</td>\n",
       "      <td>-0.927036</td>\n",
       "    </tr>\n",
       "    <tr>\n",
       "      <th>6</th>\n",
       "      <td>-0.754758</td>\n",
       "      <td>-0.610838</td>\n",
       "      <td>0.800967</td>\n",
       "      <td>1.115662</td>\n",
       "    </tr>\n",
       "    <tr>\n",
       "      <th>7</th>\n",
       "      <td>0.538574</td>\n",
       "      <td>0.270584</td>\n",
       "      <td>-1.619409</td>\n",
       "      <td>0.047158</td>\n",
       "    </tr>\n",
       "    <tr>\n",
       "      <th>8</th>\n",
       "      <td>-1.942487</td>\n",
       "      <td>0.115734</td>\n",
       "      <td>0.578005</td>\n",
       "      <td>1.007201</td>\n",
       "    </tr>\n",
       "    <tr>\n",
       "      <th>9</th>\n",
       "      <td>-0.928386</td>\n",
       "      <td>-1.531020</td>\n",
       "      <td>1.690240</td>\n",
       "      <td>-0.862712</td>\n",
       "    </tr>\n",
       "  </tbody>\n",
       "</table>\n",
       "</div>"
      ],
      "text/plain": [
       "          0         1         2         3\n",
       "0 -0.090949 -0.462182 -1.046850  0.198553\n",
       "1 -0.373750 -0.790849  0.428978 -0.904629\n",
       "2  0.666584  0.692398 -0.213564  1.190127\n",
       "3  1.529615 -0.834045  1.510245 -1.420312\n",
       "3  1.529615 -0.834045  1.510245 -1.420312\n",
       "4  0.000919 -0.264269 -0.011715 -1.445621\n",
       "5  1.071944 -0.275928 -0.589900 -0.927036\n",
       "6 -0.754758 -0.610838  0.800967  1.115662\n",
       "7  0.538574  0.270584 -1.619409  0.047158\n",
       "8 -1.942487  0.115734  0.578005  1.007201\n",
       "9 -0.928386 -1.531020  1.690240 -0.862712"
      ]
     },
     "execution_count": 17,
     "metadata": {},
     "output_type": "execute_result"
    }
   ],
   "source": [
    "# Merge\n",
    "s = pd.DataFrame(np.random.randn(10,4))\n",
    "pieces = [s[:4],s[3:7],s[7:]] # break into pieces\n",
    "pd.concat(pieces)\n"
   ]
  },
  {
   "cell_type": "code",
   "execution_count": 16,
   "metadata": {},
   "outputs": [
    {
     "name": "stdout",
     "output_type": "stream",
     "text": [
      "          0         1         2         3\n",
      "0  0.299143 -0.524569 -1.807533  1.530874\n",
      "1  0.680989  2.762937 -0.754154 -0.717727\n",
      "2  1.377191  0.166029  0.448853  0.270744\n",
      "3 -2.055034 -0.929635 -0.235692  1.248750\n",
      "4 -0.263726  0.302395 -0.060076  1.181380\n",
      "5 -0.276690 -0.935990  0.501809  0.189213\n",
      "6  0.322849  0.057567 -1.412674  1.872024\n",
      "7 -0.296239 -1.371427 -1.638166 -0.802515\n",
      "8  2.123514  0.175676 -0.644463 -0.519561\n",
      "9 -1.501482 -0.064252 -0.449667  0.969561\n",
      "[          0         1         2         3\n",
      "0  0.299143 -0.524569 -1.807533  1.530874\n",
      "1  0.680989  2.762937 -0.754154 -0.717727\n",
      "2  1.377191  0.166029  0.448853  0.270744\n",
      "3 -2.055034 -0.929635 -0.235692  1.248750,           0         1         2         3\n",
      "3 -2.055034 -0.929635 -0.235692  1.248750\n",
      "4 -0.263726  0.302395 -0.060076  1.181380\n",
      "5 -0.276690 -0.935990  0.501809  0.189213\n",
      "6  0.322849  0.057567 -1.412674  1.872024,           0         1         2         3\n",
      "7 -0.296239 -1.371427 -1.638166 -0.802515\n",
      "8  2.123514  0.175676 -0.644463 -0.519561\n",
      "9 -1.501482 -0.064252 -0.449667  0.969561]\n"
     ]
    }
   ],
   "source": [
    "print s\n",
    "print pieces"
   ]
  },
  {
   "cell_type": "code",
   "execution_count": 40,
   "metadata": {
    "collapsed": true
   },
   "outputs": [],
   "source": [
    "# Sql style merge\n",
    "df1 = pd.DataFrame({'A':range(1,5),\n",
    "                  'B': pd.Timestamp('20130102'),\n",
    "                  'C': pd.Series(1, index = list(range(4)), dtype = 'float32'),\n",
    "                  'D': np.array([3] * 4, dtype = 'int32'),\n",
    "                  'E': pd.Categorical(['train','test', 'train', 'test']),\n",
    "                  'F': 'food'})\n",
    "df_1 = df1.loc[:,['A','C','D']] ## slice by label\n",
    "df_2 = df1.loc[:,['A','B']] ## slice by label\n",
    "df1 = pd.merge(df_2, df_1, on = 'A')"
   ]
  },
  {
   "cell_type": "code",
   "execution_count": 52,
   "metadata": {},
   "outputs": [
    {
     "data": {
      "text/html": [
       "<div>\n",
       "<table border=\"1\" class=\"dataframe\">\n",
       "  <thead>\n",
       "    <tr style=\"text-align: right;\">\n",
       "      <th></th>\n",
       "      <th>A</th>\n",
       "      <th>B</th>\n",
       "      <th>C</th>\n",
       "      <th>D</th>\n",
       "    </tr>\n",
       "  </thead>\n",
       "  <tbody>\n",
       "    <tr>\n",
       "      <th>0</th>\n",
       "      <td>0.280705</td>\n",
       "      <td>0.788641</td>\n",
       "      <td>0.216127</td>\n",
       "      <td>-2.285603</td>\n",
       "    </tr>\n",
       "    <tr>\n",
       "      <th>1</th>\n",
       "      <td>0.637078</td>\n",
       "      <td>-0.532533</td>\n",
       "      <td>0.762484</td>\n",
       "      <td>0.058591</td>\n",
       "    </tr>\n",
       "    <tr>\n",
       "      <th>2</th>\n",
       "      <td>-0.627743</td>\n",
       "      <td>0.522401</td>\n",
       "      <td>-0.560099</td>\n",
       "      <td>0.780296</td>\n",
       "    </tr>\n",
       "    <tr>\n",
       "      <th>3</th>\n",
       "      <td>1.069886</td>\n",
       "      <td>0.042520</td>\n",
       "      <td>1.130050</td>\n",
       "      <td>-0.239084</td>\n",
       "    </tr>\n",
       "    <tr>\n",
       "      <th>4</th>\n",
       "      <td>1.453189</td>\n",
       "      <td>-0.596793</td>\n",
       "      <td>0.584217</td>\n",
       "      <td>1.454817</td>\n",
       "    </tr>\n",
       "    <tr>\n",
       "      <th>5</th>\n",
       "      <td>1.288747</td>\n",
       "      <td>0.615185</td>\n",
       "      <td>-0.556788</td>\n",
       "      <td>-0.522096</td>\n",
       "    </tr>\n",
       "    <tr>\n",
       "      <th>6</th>\n",
       "      <td>-0.898736</td>\n",
       "      <td>-0.727539</td>\n",
       "      <td>0.312460</td>\n",
       "      <td>2.523544</td>\n",
       "    </tr>\n",
       "    <tr>\n",
       "      <th>7</th>\n",
       "      <td>0.387384</td>\n",
       "      <td>1.669982</td>\n",
       "      <td>1.217004</td>\n",
       "      <td>0.781828</td>\n",
       "    </tr>\n",
       "    <tr>\n",
       "      <th>3</th>\n",
       "      <td>1.069886</td>\n",
       "      <td>0.042520</td>\n",
       "      <td>1.130050</td>\n",
       "      <td>-0.239084</td>\n",
       "    </tr>\n",
       "    <tr>\n",
       "      <th>4</th>\n",
       "      <td>1.453189</td>\n",
       "      <td>-0.596793</td>\n",
       "      <td>0.584217</td>\n",
       "      <td>1.454817</td>\n",
       "    </tr>\n",
       "    <tr>\n",
       "      <th>5</th>\n",
       "      <td>1.288747</td>\n",
       "      <td>0.615185</td>\n",
       "      <td>-0.556788</td>\n",
       "      <td>-0.522096</td>\n",
       "    </tr>\n",
       "    <tr>\n",
       "      <th>6</th>\n",
       "      <td>-0.898736</td>\n",
       "      <td>-0.727539</td>\n",
       "      <td>0.312460</td>\n",
       "      <td>2.523544</td>\n",
       "    </tr>\n",
       "  </tbody>\n",
       "</table>\n",
       "</div>"
      ],
      "text/plain": [
       "          A         B         C         D\n",
       "0  0.280705  0.788641  0.216127 -2.285603\n",
       "1  0.637078 -0.532533  0.762484  0.058591\n",
       "2 -0.627743  0.522401 -0.560099  0.780296\n",
       "3  1.069886  0.042520  1.130050 -0.239084\n",
       "4  1.453189 -0.596793  0.584217  1.454817\n",
       "5  1.288747  0.615185 -0.556788 -0.522096\n",
       "6 -0.898736 -0.727539  0.312460  2.523544\n",
       "7  0.387384  1.669982  1.217004  0.781828\n",
       "3  1.069886  0.042520  1.130050 -0.239084\n",
       "4  1.453189 -0.596793  0.584217  1.454817\n",
       "5  1.288747  0.615185 -0.556788 -0.522096\n",
       "6 -0.898736 -0.727539  0.312460  2.523544"
      ]
     },
     "execution_count": 52,
     "metadata": {},
     "output_type": "execute_result"
    }
   ],
   "source": [
    "# Append\n",
    "df2 = pd.DataFrame(np.random.randn(8,4), columns = ['A','B','C','D']) # a sample dataframe\n",
    "s = df2.iloc[3:7]\n",
    "df2.append(s, ignore_index = False) # If True, ignore, do not use index labels \n"
   ]
  },
  {
   "cell_type": "code",
   "execution_count": 18,
   "metadata": {},
   "outputs": [],
   "source": [
    "# Group by - A process involving split-apply-combine\n",
    "# Split - data into groups based on a criteria\n",
    "# apply - apply a function on each group independently\n",
    "# combine - the results into a dataframe\n",
    "df3 = pd.DataFrame({'A':['train','test','train','test','train','test','train','train'],\n",
    "                  'B':['one','one','two','three','two','two','one','three'],\n",
    "                  'C':np.random.randn(8),\n",
    "                  'D':np.random.randn(8)})\n",
    "# df3.groupby('A').sum() # Grouping and applying a sum function to the group\n",
    "# df3.groupby(['A','B']).sum() # Groupby multiple columns forms hierarchical index"
   ]
  },
  {
   "cell_type": "code",
   "execution_count": 19,
   "metadata": {},
   "outputs": [
    {
     "name": "stdout",
     "output_type": "stream",
     "text": [
      "       A      B         C         D\n",
      "0  train    one -0.359758 -0.371296\n",
      "1   test    one  0.329066 -0.245198\n",
      "2  train    two  0.943364 -0.988281\n",
      "3   test  three -1.710888  0.598412\n",
      "4  train    two -0.266474 -0.605405\n",
      "5   test    two  1.824048  0.578436\n",
      "6  train    one  0.800511  0.296413\n",
      "7  train  three -0.932150 -0.056979\n"
     ]
    }
   ],
   "source": [
    "print df3"
   ]
  },
  {
   "cell_type": "code",
   "execution_count": 26,
   "metadata": {},
   "outputs": [
    {
     "data": {
      "text/html": [
       "<div>\n",
       "<style>\n",
       "    .dataframe thead tr:only-child th {\n",
       "        text-align: right;\n",
       "    }\n",
       "\n",
       "    .dataframe thead th {\n",
       "        text-align: left;\n",
       "    }\n",
       "\n",
       "    .dataframe tbody tr th {\n",
       "        vertical-align: top;\n",
       "    }\n",
       "</style>\n",
       "<table border=\"1\" class=\"dataframe\">\n",
       "  <thead>\n",
       "    <tr style=\"text-align: right;\">\n",
       "      <th></th>\n",
       "      <th>A</th>\n",
       "      <th>B</th>\n",
       "      <th>C</th>\n",
       "      <th>D</th>\n",
       "    </tr>\n",
       "  </thead>\n",
       "  <tbody>\n",
       "    <tr>\n",
       "      <th>0</th>\n",
       "      <td>train</td>\n",
       "      <td>one</td>\n",
       "      <td>-0.359758</td>\n",
       "      <td>-0.371296</td>\n",
       "    </tr>\n",
       "    <tr>\n",
       "      <th>1</th>\n",
       "      <td>test</td>\n",
       "      <td>one</td>\n",
       "      <td>0.329066</td>\n",
       "      <td>-0.245198</td>\n",
       "    </tr>\n",
       "    <tr>\n",
       "      <th>2</th>\n",
       "      <td>train</td>\n",
       "      <td>two</td>\n",
       "      <td>0.943364</td>\n",
       "      <td>-0.988281</td>\n",
       "    </tr>\n",
       "    <tr>\n",
       "      <th>3</th>\n",
       "      <td>test</td>\n",
       "      <td>three</td>\n",
       "      <td>-1.71089</td>\n",
       "      <td>0.598412</td>\n",
       "    </tr>\n",
       "    <tr>\n",
       "      <th>4</th>\n",
       "      <td>train</td>\n",
       "      <td>two</td>\n",
       "      <td>-0.266474</td>\n",
       "      <td>-0.605405</td>\n",
       "    </tr>\n",
       "    <tr>\n",
       "      <th>5</th>\n",
       "      <td>test</td>\n",
       "      <td>two</td>\n",
       "      <td>1.82405</td>\n",
       "      <td>0.578436</td>\n",
       "    </tr>\n",
       "    <tr>\n",
       "      <th>6</th>\n",
       "      <td>train</td>\n",
       "      <td>one</td>\n",
       "      <td>0.800511</td>\n",
       "      <td>0.296413</td>\n",
       "    </tr>\n",
       "    <tr>\n",
       "      <th>7</th>\n",
       "      <td>train</td>\n",
       "      <td>three</td>\n",
       "      <td>-0.93215</td>\n",
       "      <td>-0.0569795</td>\n",
       "    </tr>\n",
       "  </tbody>\n",
       "</table>\n",
       "</div>"
      ],
      "text/plain": [
       "       A      B         C          D\n",
       "0  train    one -0.359758  -0.371296\n",
       "1   test    one  0.329066  -0.245198\n",
       "2  train    two  0.943364  -0.988281\n",
       "3   test  three  -1.71089   0.598412\n",
       "4  train    two -0.266474  -0.605405\n",
       "5   test    two   1.82405   0.578436\n",
       "6  train    one  0.800511   0.296413\n",
       "7  train  three  -0.93215 -0.0569795"
      ]
     },
     "execution_count": 26,
     "metadata": {},
     "output_type": "execute_result"
    }
   ],
   "source": [
    "# Reshaping \n",
    "stacked = df3.stack()\n",
    "# print stacked\n",
    "stacked.unstack(0).unstack().unstack()"
   ]
  },
  {
   "cell_type": "code",
   "execution_count": null,
   "metadata": {
    "collapsed": true
   },
   "outputs": [],
   "source": [
    "df3.stack(0)"
   ]
  },
  {
   "cell_type": "code",
   "execution_count": 17,
   "metadata": {},
   "outputs": [
    {
     "data": {
      "text/html": [
       "<div>\n",
       "<style>\n",
       "    .dataframe thead tr:only-child th {\n",
       "        text-align: right;\n",
       "    }\n",
       "\n",
       "    .dataframe thead th {\n",
       "        text-align: left;\n",
       "    }\n",
       "\n",
       "    .dataframe tbody tr th {\n",
       "        vertical-align: top;\n",
       "    }\n",
       "</style>\n",
       "<table border=\"1\" class=\"dataframe\">\n",
       "  <thead>\n",
       "    <tr>\n",
       "      <th></th>\n",
       "      <th colspan=\"3\" halign=\"left\">C</th>\n",
       "    </tr>\n",
       "    <tr>\n",
       "      <th>B</th>\n",
       "      <th>one</th>\n",
       "      <th>three</th>\n",
       "      <th>two</th>\n",
       "    </tr>\n",
       "    <tr>\n",
       "      <th>A</th>\n",
       "      <th></th>\n",
       "      <th></th>\n",
       "      <th></th>\n",
       "    </tr>\n",
       "  </thead>\n",
       "  <tbody>\n",
       "    <tr>\n",
       "      <th>test</th>\n",
       "      <td>0.466341</td>\n",
       "      <td>-0.070896</td>\n",
       "      <td>0.074574</td>\n",
       "    </tr>\n",
       "    <tr>\n",
       "      <th>train</th>\n",
       "      <td>1.184871</td>\n",
       "      <td>1.170021</td>\n",
       "      <td>0.961830</td>\n",
       "    </tr>\n",
       "  </tbody>\n",
       "</table>\n",
       "</div>"
      ],
      "text/plain": [
       "              C                    \n",
       "B           one     three       two\n",
       "A                                  \n",
       "test   0.466341 -0.070896  0.074574\n",
       "train  1.184871  1.170021  0.961830"
      ]
     },
     "execution_count": 17,
     "metadata": {},
     "output_type": "execute_result"
    }
   ],
   "source": [
    "# Pivot tables\n",
    "pd.pivot_table(df3, values = ['C'], index = 'A', columns = 'B')"
   ]
  },
  {
   "cell_type": "code",
   "execution_count": 97,
   "metadata": {},
   "outputs": [
    {
     "name": "stdout",
     "output_type": "stream",
     "text": [
      "   id raw_grade catGrade\n",
      "0   1         a        a\n",
      "1   2         b        b\n",
      "2   3         a        a\n",
      "3   4         a        a\n",
      "4   5         b        b\n",
      "5   6         b        b\n"
     ]
    }
   ],
   "source": [
    "# Categoricals\n",
    "df4 = pd.DataFrame({'id':[1,2,3,4,5,6],'raw_grade':['a','b','a','a','b','b']})\n",
    "df4['catGrade'] = df4['raw_grade'].astype('category')\n",
    "print df4"
   ]
  },
  {
   "cell_type": "code",
   "execution_count": 14,
   "metadata": {},
   "outputs": [
    {
     "data": {
      "text/plain": [
       "<matplotlib.axes._subplots.AxesSubplot at 0xaeb33c8>"
      ]
     },
     "execution_count": 14,
     "metadata": {},
     "output_type": "execute_result"
    },
    {
     "data": {
      "image/png": "[encoded data removed]",
      "text/plain": [
       "<matplotlib.figure.Figure at 0xae365f8>"
      ]
     },
     "metadata": {},
     "output_type": "display_data"
    }
   ],
   "source": [
    "# Plotting\n",
    "ts = pd.Series(np.random.randn(500), index = pd.date_range('1/1/2000', periods = 500))\n",
    "ts = ts.cumsum()\n",
    "ts.plot()"
   ]
  },
  {
   "cell_type": "code",
   "execution_count": 13,
   "metadata": {
    "collapsed": true
   },
   "outputs": [],
   "source": [
    "import pandas as pd, numpy as np\n",
    "%matplotlib inline"
   ]
  },
  {
   "cell_type": "code",
   "execution_count": 105,
   "metadata": {
    "collapsed": true
   },
   "outputs": [],
   "source": [
    "df = df.cumsum()"
   ]
  },
  {
   "cell_type": "code",
   "execution_count": 106,
   "metadata": {},
   "outputs": [
    {
     "data": {
      "text/plain": [
       "<matplotlib.axes._subplots.AxesSubplot at 0x83e74d0>"
      ]
     },
     "execution_count": 106,
     "metadata": {},
     "output_type": "execute_result"
    },
    {
     "data": {
      "image/png": "[encoded data removed]",
      "text/plain": [
       "<matplotlib.figure.Figure at 0x843cc10>"
      ]
     },
     "metadata": {},
     "output_type": "display_data"
    }
   ],
   "source": [
    "df.plot()"
   ]
  },
  {
   "cell_type": "code",
   "execution_count": 122,
   "metadata": {
    "collapsed": true
   },
   "outputs": [],
   "source": [
    "# Data in/out - read csv or excel files\n",
    "colnames = ['PassengerId', 'Survived','Pclass','Name','Sex','Age','SibSp','Parch','Ticket','Fare','Cabin','Embarked']\n",
    "#csv = pd.read_csv(\"D:\\\\Kaggle\\\\Titanic\\\\train.csv\", names = colnames, sep = \",\", na_values = \"\", nrows = 10)\n",
    "excel = pd.read_excel(\"D:\\\\temp_merge_Table_67_and_Table70_area_230_Join_1.xlsx\", 1, nrows = 10)"
   ]
  },
  {
   "cell_type": "code",
   "execution_count": 123,
   "metadata": {},
   "outputs": [
    {
     "data": {
      "text/html": [
       "<div>\n",
       "<table border=\"1\" class=\"dataframe\">\n",
       "  <thead>\n",
       "    <tr style=\"text-align: right;\">\n",
       "      <th></th>\n",
       "      <th>Table67.Column4</th>\n",
       "      <th>Table67.Column10</th>\n",
       "      <th>Table67.Column11</th>\n",
       "      <th>Table67.Column13</th>\n",
       "      <th>Table67.Column14</th>\n",
       "      <th>Table67.Column15</th>\n",
       "      <th>Table67.Column16</th>\n",
       "      <th>Table67.Column17</th>\n",
       "      <th>Table67.Column18</th>\n",
       "      <th>Table67.Column19</th>\n",
       "      <th>...</th>\n",
       "      <th>Table67.Column47</th>\n",
       "      <th>Table67.Column49</th>\n",
       "      <th>Table67.Column55</th>\n",
       "      <th>Table70.Column3</th>\n",
       "      <th>Table70.Column4</th>\n",
       "      <th>Table70.Column5</th>\n",
       "      <th>Table70.Column6</th>\n",
       "      <th>Table70.Column7</th>\n",
       "      <th>Table70.Column8</th>\n",
       "      <th>Table70.Column9</th>\n",
       "    </tr>\n",
       "  </thead>\n",
       "  <tbody>\n",
       "    <tr>\n",
       "      <th>0</th>\n",
       "      <td>7</td>\n",
       "      <td>31.57722</td>\n",
       "      <td>31.57722</td>\n",
       "      <td>91.52255</td>\n",
       "      <td>1.573660</td>\n",
       "      <td>73.06247</td>\n",
       "      <td>1.443040</td>\n",
       "      <td>0.732038</td>\n",
       "      <td>14.64335</td>\n",
       "      <td>5.559214</td>\n",
       "      <td>...</td>\n",
       "      <td>18.18312</td>\n",
       "      <td>6.396743</td>\n",
       "      <td>1644</td>\n",
       "      <td>104.2132</td>\n",
       "      <td>14.47405</td>\n",
       "      <td>90.17503</td>\n",
       "      <td>1.577003</td>\n",
       "      <td>0.732831</td>\n",
       "      <td>1.447018</td>\n",
       "      <td>72.01925</td>\n",
       "    </tr>\n",
       "    <tr>\n",
       "      <th>1</th>\n",
       "      <td>19</td>\n",
       "      <td>29.73647</td>\n",
       "      <td>29.73647</td>\n",
       "      <td>91.12682</td>\n",
       "      <td>1.616750</td>\n",
       "      <td>71.96288</td>\n",
       "      <td>1.474050</td>\n",
       "      <td>0.719999</td>\n",
       "      <td>14.73290</td>\n",
       "      <td>5.843534</td>\n",
       "      <td>...</td>\n",
       "      <td>17.35159</td>\n",
       "      <td>6.647100</td>\n",
       "      <td>1643</td>\n",
       "      <td>105.2973</td>\n",
       "      <td>14.62462</td>\n",
       "      <td>90.18884</td>\n",
       "      <td>1.620634</td>\n",
       "      <td>0.720409</td>\n",
       "      <td>1.478007</td>\n",
       "      <td>71.24275</td>\n",
       "    </tr>\n",
       "    <tr>\n",
       "      <th>2</th>\n",
       "      <td>17</td>\n",
       "      <td>28.76996</td>\n",
       "      <td>28.76996</td>\n",
       "      <td>91.00814</td>\n",
       "      <td>1.611994</td>\n",
       "      <td>72.20428</td>\n",
       "      <td>1.481676</td>\n",
       "      <td>0.729243</td>\n",
       "      <td>14.85879</td>\n",
       "      <td>5.659548</td>\n",
       "      <td>...</td>\n",
       "      <td>18.29983</td>\n",
       "      <td>6.590610</td>\n",
       "      <td>1643</td>\n",
       "      <td>106.3004</td>\n",
       "      <td>14.76395</td>\n",
       "      <td>90.20951</td>\n",
       "      <td>1.614788</td>\n",
       "      <td>0.729738</td>\n",
       "      <td>1.484560</td>\n",
       "      <td>71.60398</td>\n",
       "    </tr>\n",
       "    <tr>\n",
       "      <th>3</th>\n",
       "      <td>24</td>\n",
       "      <td>27.58611</td>\n",
       "      <td>27.58611</td>\n",
       "      <td>90.88182</td>\n",
       "      <td>1.750942</td>\n",
       "      <td>71.16459</td>\n",
       "      <td>1.596673</td>\n",
       "      <td>0.714055</td>\n",
       "      <td>15.78147</td>\n",
       "      <td>5.387973</td>\n",
       "      <td>...</td>\n",
       "      <td>16.71302</td>\n",
       "      <td>7.102412</td>\n",
       "      <td>1643</td>\n",
       "      <td>113.2507</td>\n",
       "      <td>15.72926</td>\n",
       "      <td>90.30786</td>\n",
       "      <td>1.752885</td>\n",
       "      <td>0.715421</td>\n",
       "      <td>1.600699</td>\n",
       "      <td>70.75078</td>\n",
       "    </tr>\n",
       "    <tr>\n",
       "      <th>4</th>\n",
       "      <td>8</td>\n",
       "      <td>26.92933</td>\n",
       "      <td>26.92933</td>\n",
       "      <td>91.39258</td>\n",
       "      <td>1.580951</td>\n",
       "      <td>72.59985</td>\n",
       "      <td>1.450435</td>\n",
       "      <td>0.728794</td>\n",
       "      <td>14.62519</td>\n",
       "      <td>5.829108</td>\n",
       "      <td>...</td>\n",
       "      <td>17.92666</td>\n",
       "      <td>6.099924</td>\n",
       "      <td>1643</td>\n",
       "      <td>104.9716</td>\n",
       "      <td>14.57939</td>\n",
       "      <td>91.00576</td>\n",
       "      <td>1.581942</td>\n",
       "      <td>0.729143</td>\n",
       "      <td>1.451512</td>\n",
       "      <td>72.31882</td>\n",
       "    </tr>\n",
       "  </tbody>\n",
       "</table>\n",
       "<p>5 rows × 31 columns</p>\n",
       "</div>"
      ],
      "text/plain": [
       "   Table67.Column4  Table67.Column10  Table67.Column11  Table67.Column13  \\\n",
       "0                7          31.57722          31.57722          91.52255   \n",
       "1               19          29.73647          29.73647          91.12682   \n",
       "2               17          28.76996          28.76996          91.00814   \n",
       "3               24          27.58611          27.58611          90.88182   \n",
       "4                8          26.92933          26.92933          91.39258   \n",
       "\n",
       "   Table67.Column14  Table67.Column15  Table67.Column16  Table67.Column17  \\\n",
       "0          1.573660          73.06247          1.443040          0.732038   \n",
       "1          1.616750          71.96288          1.474050          0.719999   \n",
       "2          1.611994          72.20428          1.481676          0.729243   \n",
       "3          1.750942          71.16459          1.596673          0.714055   \n",
       "4          1.580951          72.59985          1.450435          0.728794   \n",
       "\n",
       "   Table67.Column18  Table67.Column19       ...         Table67.Column47  \\\n",
       "0          14.64335          5.559214       ...                 18.18312   \n",
       "1          14.73290          5.843534       ...                 17.35159   \n",
       "2          14.85879          5.659548       ...                 18.29983   \n",
       "3          15.78147          5.387973       ...                 16.71302   \n",
       "4          14.62519          5.829108       ...                 17.92666   \n",
       "\n",
       "   Table67.Column49  Table67.Column55  Table70.Column3  Table70.Column4  \\\n",
       "0          6.396743              1644         104.2132         14.47405   \n",
       "1          6.647100              1643         105.2973         14.62462   \n",
       "2          6.590610              1643         106.3004         14.76395   \n",
       "3          7.102412              1643         113.2507         15.72926   \n",
       "4          6.099924              1643         104.9716         14.57939   \n",
       "\n",
       "   Table70.Column5  Table70.Column6  Table70.Column7  Table70.Column8  \\\n",
       "0         90.17503         1.577003         0.732831         1.447018   \n",
       "1         90.18884         1.620634         0.720409         1.478007   \n",
       "2         90.20951         1.614788         0.729738         1.484560   \n",
       "3         90.30786         1.752885         0.715421         1.600699   \n",
       "4         91.00576         1.581942         0.729143         1.451512   \n",
       "\n",
       "   Table70.Column9  \n",
       "0         72.01925  \n",
       "1         71.24275  \n",
       "2         71.60398  \n",
       "3         70.75078  \n",
       "4         72.31882  \n",
       "\n",
       "[5 rows x 31 columns]"
      ]
     },
     "execution_count": 123,
     "metadata": {},
     "output_type": "execute_result"
    }
   ],
   "source": [
    "excel.head()"
   ]
  },
  {
   "cell_type": "code",
   "execution_count": 126,
   "metadata": {},
   "outputs": [
    {
     "data": {
      "text/plain": [
       "Index([u'A', u'B', u'C', u'D'], dtype='object')"
      ]
     },
     "execution_count": 126,
     "metadata": {},
     "output_type": "execute_result"
    }
   ],
   "source": []
  },
  {
   "cell_type": "code",
   "execution_count": null,
   "metadata": {
    "collapsed": true
   },
   "outputs": [],
   "source": []
  }
 ],
 "metadata": {
  "kernelspec": {
   "display_name": "Python 2",
   "language": "python",
   "name": "python2"
  },
  "language_info": {
   "codemirror_mode": {
    "name": "ipython",
    "version": 2
   },
   "file_extension": ".py",
   "mimetype": "text/x-python",
   "name": "python",
   "nbconvert_exporter": "python",
   "pygments_lexer": "ipython2",
   "version": "2.7.14"
  }
 },
 "nbformat": 4,
 "nbformat_minor": 1
}
