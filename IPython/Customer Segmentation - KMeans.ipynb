{
 "cells": [
  {
   "cell_type": "code",
   "execution_count": 1,
   "metadata": {
    "collapsed": false
   },
   "outputs": [],
   "source": [
    "# load libraries\n",
    "import pandas as pd\n",
    "import sys, os\n",
    "os.getcwd()\n",
    "os.chdir(\"D:\\Kaggle\\Kmeans\")"
   ]
  },
  {
   "cell_type": "code",
   "execution_count": 2,
   "metadata": {
    "collapsed": false
   },
   "outputs": [
    {
     "data": {
      "text/html": [
       "<div>\n",
       "<table border=\"1\" class=\"dataframe\">\n",
       "  <thead>\n",
       "    <tr style=\"text-align: right;\">\n",
       "      <th></th>\n",
       "      <th>Customer last name</th>\n",
       "      <th>Offer_id</th>\n",
       "      <th>n</th>\n",
       "    </tr>\n",
       "  </thead>\n",
       "  <tbody>\n",
       "    <tr>\n",
       "      <th>0</th>\n",
       "      <td>Smith</td>\n",
       "      <td>2</td>\n",
       "      <td>1</td>\n",
       "    </tr>\n",
       "    <tr>\n",
       "      <th>1</th>\n",
       "      <td>Smith</td>\n",
       "      <td>24</td>\n",
       "      <td>1</td>\n",
       "    </tr>\n",
       "    <tr>\n",
       "      <th>2</th>\n",
       "      <td>Johnson</td>\n",
       "      <td>17</td>\n",
       "      <td>1</td>\n",
       "    </tr>\n",
       "    <tr>\n",
       "      <th>3</th>\n",
       "      <td>Johnson</td>\n",
       "      <td>24</td>\n",
       "      <td>1</td>\n",
       "    </tr>\n",
       "    <tr>\n",
       "      <th>4</th>\n",
       "      <td>Johnson</td>\n",
       "      <td>26</td>\n",
       "      <td>1</td>\n",
       "    </tr>\n",
       "  </tbody>\n",
       "</table>\n",
       "</div>"
      ],
      "text/plain": [
       "  Customer last name  Offer_id  n\n",
       "0              Smith         2  1\n",
       "1              Smith        24  1\n",
       "2            Johnson        17  1\n",
       "3            Johnson        24  1\n",
       "4            Johnson        26  1"
      ]
     },
     "execution_count": 2,
     "metadata": {},
     "output_type": "execute_result"
    }
   ],
   "source": [
    "# read offers \n",
    "df_offers = pd.read_excel(\"WineKMC.xlsx\", sheetname =0)\n",
    "df_offers.columns = ['Offer_id','Campaign', 'Varietal','Minimum Qty', 'Discount','Origin', 'Past Peak']\n",
    "df_trans = pd.read_excel(\"WineKMC.xlsx\", sheetname = 1) # reading transactions table\n",
    "df_trans.columns = ['Customer last name', 'Offer_id']\n",
    "df_trans['n'] = 1\n",
    "df_trans.head()"
   ]
  },
  {
   "cell_type": "code",
   "execution_count": 3,
   "metadata": {
    "collapsed": false
   },
   "outputs": [],
   "source": [
    "df = pd.merge(df_offers, df_trans) # join the offers, transactions table\n",
    "matrix = df.pivot_table(index = ['Customer last name'], columns = ['Offer_id'], values = 'n')\n",
    "matrix = matrix.fillna(0).reset_index()\n",
    "x_cols = matrix.columns[1:]"
   ]
  },
  {
   "cell_type": "code",
   "execution_count": null,
   "metadata": {
    "collapsed": false
   },
   "outputs": [],
   "source": []
  },
  {
   "cell_type": "code",
   "execution_count": 4,
   "metadata": {
    "collapsed": true
   },
   "outputs": [],
   "source": [
    "# import KMeans library\n",
    "from sklearn.cluster import KMeans"
   ]
  },
  {
   "cell_type": "code",
   "execution_count": 12,
   "metadata": {
    "collapsed": false
   },
   "outputs": [
    {
     "data": {
      "text/plain": [
       "1    34\n",
       "4    21\n",
       "0    16\n",
       "3    15\n",
       "2    14\n",
       "dtype: int64"
      ]
     },
     "execution_count": 12,
     "metadata": {},
     "output_type": "execute_result"
    }
   ],
   "source": [
    "cluster = KMeans(n_clusters = 5)\n",
    "matrix['cluster'] = cluster.fit_predict(matrix[matrix.columns[2:]])\n",
    "matrix.cluster.value_counts()"
   ]
  },
  {
   "cell_type": "code",
   "execution_count": 6,
   "metadata": {
    "collapsed": true
   },
   "outputs": [],
   "source": [
    "# principal component analysis - PCA\n",
    "from sklearn.decomposition import PCA"
   ]
  },
  {
   "cell_type": "code",
   "execution_count": 7,
   "metadata": {
    "collapsed": false
   },
   "outputs": [],
   "source": [
    "pca = PCA(n_components = 2)\n",
    "matrix['X'] = pca.fit_transform(matrix[x_cols])[:,0]\n",
    "matrix['Y'] = pca.fit_transform(matrix[x_cols])[:,1]\n",
    "matrix.reset_index()\n",
    "customer_cluster = matrix[['Customer last name', 'cluster', 'X','Y']]"
   ]
  },
  {
   "cell_type": "code",
   "execution_count": 8,
   "metadata": {
    "collapsed": false
   },
   "outputs": [],
   "source": [
    "df = pd.merge(df_trans,customer_cluster)\n",
    "df = pd.merge(df_offers, df)"
   ]
  },
  {
   "cell_type": "code",
   "execution_count": 9,
   "metadata": {
    "collapsed": true
   },
   "outputs": [],
   "source": [
    "%matplotlib inline\n",
    "import matplotlib.pyplot as plt\n",
    "from ggplot import *"
   ]
  },
  {
   "cell_type": "code",
   "execution_count": 14,
   "metadata": {
    "collapsed": false
   },
   "outputs": [
    {
     "data": {
      "text/html": [
       "<div>\n",
       "<table border=\"1\" class=\"dataframe\">\n",
       "  <thead>\n",
       "    <tr style=\"text-align: right;\">\n",
       "      <th></th>\n",
       "      <th>Offer_id</th>\n",
       "      <th>Campaign</th>\n",
       "      <th>Varietal</th>\n",
       "      <th>Minimum Qty</th>\n",
       "      <th>Discount</th>\n",
       "      <th>Origin</th>\n",
       "      <th>Past Peak</th>\n",
       "      <th>Customer last name</th>\n",
       "      <th>n</th>\n",
       "      <th>cluster</th>\n",
       "      <th>X</th>\n",
       "      <th>Y</th>\n",
       "    </tr>\n",
       "  </thead>\n",
       "  <tbody>\n",
       "    <tr>\n",
       "      <th>0</th>\n",
       "      <td>1</td>\n",
       "      <td>January</td>\n",
       "      <td>Malbec</td>\n",
       "      <td>72</td>\n",
       "      <td>56</td>\n",
       "      <td>France</td>\n",
       "      <td>False</td>\n",
       "      <td>Thomas</td>\n",
       "      <td>1</td>\n",
       "      <td>4</td>\n",
       "      <td>1.041879</td>\n",
       "      <td>0.122314</td>\n",
       "    </tr>\n",
       "    <tr>\n",
       "      <th>1</th>\n",
       "      <td>1</td>\n",
       "      <td>January</td>\n",
       "      <td>Malbec</td>\n",
       "      <td>72</td>\n",
       "      <td>56</td>\n",
       "      <td>France</td>\n",
       "      <td>False</td>\n",
       "      <td>Jackson</td>\n",
       "      <td>1</td>\n",
       "      <td>4</td>\n",
       "      <td>0.839578</td>\n",
       "      <td>-0.328823</td>\n",
       "    </tr>\n",
       "    <tr>\n",
       "      <th>2</th>\n",
       "      <td>1</td>\n",
       "      <td>January</td>\n",
       "      <td>Malbec</td>\n",
       "      <td>72</td>\n",
       "      <td>56</td>\n",
       "      <td>France</td>\n",
       "      <td>False</td>\n",
       "      <td>Mitchell</td>\n",
       "      <td>1</td>\n",
       "      <td>2</td>\n",
       "      <td>0.342938</td>\n",
       "      <td>0.302186</td>\n",
       "    </tr>\n",
       "    <tr>\n",
       "      <th>3</th>\n",
       "      <td>1</td>\n",
       "      <td>January</td>\n",
       "      <td>Malbec</td>\n",
       "      <td>72</td>\n",
       "      <td>56</td>\n",
       "      <td>France</td>\n",
       "      <td>False</td>\n",
       "      <td>Peterson</td>\n",
       "      <td>1</td>\n",
       "      <td>2</td>\n",
       "      <td>0.797379</td>\n",
       "      <td>0.475995</td>\n",
       "    </tr>\n",
       "    <tr>\n",
       "      <th>4</th>\n",
       "      <td>1</td>\n",
       "      <td>January</td>\n",
       "      <td>Malbec</td>\n",
       "      <td>72</td>\n",
       "      <td>56</td>\n",
       "      <td>France</td>\n",
       "      <td>False</td>\n",
       "      <td>Wood</td>\n",
       "      <td>1</td>\n",
       "      <td>1</td>\n",
       "      <td>0.551215</td>\n",
       "      <td>-0.395670</td>\n",
       "    </tr>\n",
       "  </tbody>\n",
       "</table>\n",
       "</div>"
      ],
      "text/plain": [
       "   Offer_id Campaign Varietal  Minimum Qty  Discount  Origin Past Peak  \\\n",
       "0         1  January   Malbec           72        56  France     False   \n",
       "1         1  January   Malbec           72        56  France     False   \n",
       "2         1  January   Malbec           72        56  France     False   \n",
       "3         1  January   Malbec           72        56  France     False   \n",
       "4         1  January   Malbec           72        56  France     False   \n",
       "\n",
       "  Customer last name  n  cluster         X         Y  \n",
       "0             Thomas  1        4  1.041879  0.122314  \n",
       "1            Jackson  1        4  0.839578 -0.328823  \n",
       "2           Mitchell  1        2  0.342938  0.302186  \n",
       "3           Peterson  1        2  0.797379  0.475995  \n",
       "4               Wood  1        1  0.551215 -0.395670  "
      ]
     },
     "execution_count": 14,
     "metadata": {},
     "output_type": "execute_result"
    }
   ],
   "source": [
    "df.head()"
   ]
  },
  {
   "cell_type": "code",
   "execution_count": 10,
   "metadata": {
    "collapsed": false
   },
   "outputs": [
    {
     "data": {
      "image/png": "[encoded data removed]",
      "text/plain": [
       "<matplotlib.figure.Figure at 0x12fbd5b0>"
      ]
     },
     "metadata": {},
     "output_type": "display_data"
    },
    {
     "data": {
      "text/plain": [
       "<ggplot: (19905833)>"
      ]
     },
     "execution_count": 10,
     "metadata": {},
     "output_type": "execute_result"
    }
   ],
   "source": [
    "ggplot(df, aes(x = 'X', y = 'Y', color = 'cluster')) + geom_point(size = 75) + ggtitle(\"Customers grouped by cluster\")"
   ]
  },
  {
   "cell_type": "code",
   "execution_count": 20,
   "metadata": {
    "collapsed": false
   },
   "outputs": [
    {
     "data": {
      "text/plain": [
       "is_4                     \n",
       "False  Champagne             48\n",
       "       Pinot Noir            43\n",
       "       Espumante             36\n",
       "       Prosecco              32\n",
       "       Malbec                27\n",
       "       Cabernet Sauvignon    25\n",
       "       Merlot                18\n",
       "       Pinot Grigio          17\n",
       "       Chardonnay            12\n",
       "True   Champagne             33\n",
       "       Prosecco              11\n",
       "       Cabernet Sauvignon     7\n",
       "       Malbec                 5\n",
       "       Espumante              4\n",
       "       Chardonnay             3\n",
       "       Merlot                 2\n",
       "       Pinot Noir             1\n",
       "dtype: int64"
      ]
     },
     "execution_count": 20,
     "metadata": {},
     "output_type": "execute_result"
    }
   ],
   "source": [
    "df['is_4'] = df.cluster == 4\n",
    "df.groupby('is_4').Varietal.value_counts()"
   ]
  },
  {
   "cell_type": "code",
   "execution_count": 25,
   "metadata": {
    "collapsed": false
   },
   "outputs": [
    {
     "data": {
      "text/html": [
       "<div>\n",
       "<table border=\"1\" class=\"dataframe\">\n",
       "  <thead>\n",
       "    <tr style=\"text-align: right;\">\n",
       "      <th></th>\n",
       "      <th>Minimum Qty</th>\n",
       "      <th>Discount</th>\n",
       "    </tr>\n",
       "    <tr>\n",
       "      <th>is_4</th>\n",
       "      <th></th>\n",
       "      <th></th>\n",
       "    </tr>\n",
       "  </thead>\n",
       "  <tbody>\n",
       "    <tr>\n",
       "      <th>False</th>\n",
       "      <td>55.046512</td>\n",
       "      <td>58.027132</td>\n",
       "    </tr>\n",
       "    <tr>\n",
       "      <th>True</th>\n",
       "      <td>71.545455</td>\n",
       "      <td>65.166667</td>\n",
       "    </tr>\n",
       "  </tbody>\n",
       "</table>\n",
       "</div>"
      ],
      "text/plain": [
       "       Minimum Qty   Discount\n",
       "is_4                         \n",
       "False    55.046512  58.027132\n",
       "True     71.545455  65.166667"
      ]
     },
     "execution_count": 25,
     "metadata": {},
     "output_type": "execute_result"
    }
   ],
   "source": [
    "df.groupby('is_4')[['Minimum Qty','Discount']].mean()"
   ]
  },
  {
   "cell_type": "code",
   "execution_count": 23,
   "metadata": {
    "collapsed": false
   },
   "outputs": [
    {
     "data": {
      "text/plain": [
       "is_1                     \n",
       "False  Champagne             50\n",
       "       Pinot Noir            42\n",
       "       Prosecco              35\n",
       "       Espumante             34\n",
       "       Malbec                27\n",
       "       Cabernet Sauvignon    25\n",
       "       Pinot Grigio          17\n",
       "       Merlot                17\n",
       "       Chardonnay            13\n",
       "True   Champagne             31\n",
       "       Prosecco               8\n",
       "       Cabernet Sauvignon     7\n",
       "       Espumante              6\n",
       "       Malbec                 5\n",
       "       Merlot                 3\n",
       "       Chardonnay             2\n",
       "       Pinot Noir             2\n",
       "dtype: int64"
      ]
     },
     "execution_count": 23,
     "metadata": {},
     "output_type": "execute_result"
    }
   ],
   "source": [
    "df['is_1'] = df.cluster == 1\n",
    "df.groupby('is_1').Varietal.value_counts()"
   ]
  },
  {
   "cell_type": "code",
   "execution_count": null,
   "metadata": {
    "collapsed": true
   },
   "outputs": [],
   "source": []
  }
 ],
 "metadata": {
  "kernelspec": {
   "display_name": "Python 2",
   "language": "python",
   "name": "python2"
  },
  "language_info": {
   "codemirror_mode": {
    "name": "ipython",
    "version": 2
   },
   "file_extension": ".py",
   "mimetype": "text/x-python",
   "name": "python",
   "nbconvert_exporter": "python",
   "pygments_lexer": "ipython2",
   "version": "2.7.10"
  }
 },
 "nbformat": 4,
 "nbformat_minor": 0
}
