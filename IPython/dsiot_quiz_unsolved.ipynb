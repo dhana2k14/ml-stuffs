{
 "cells": [
  {
   "cell_type": "code",
   "execution_count": 1,
   "metadata": {
    "collapsed": true
   },
   "outputs": [],
   "source": [
    "import pandas as pd\n",
    "import os, sys"
   ]
  },
  {
   "cell_type": "code",
   "execution_count": null,
   "metadata": {},
   "outputs": [
    {
     "name": "stdout",
     "output_type": "stream",
     "text": [
      "D:\\DSIoT\\Smart Datasets-20170927T044251Z-001\\Smart Datasets\\HomeA\n"
     ]
    }
   ],
   "source": [
    "df = pd.DataFrame()\n",
    "df_yr_consol = pd.DataFrame()\n",
    "df_homewise_consol = pd.DataFrame()\n",
    "for i in ['HomeA', 'HomeB', 'HomeC', 'HomeD', 'HomeF', 'HomeG', 'HomeH']:\n",
    "    os.chdir(\"D:/DSIoT/Smart Datasets-20170927T044251Z-001/Smart Datasets/\" + i)\n",
    "    path = os.getcwd() \n",
    "    print (path)\n",
    "    files = os.listdir(path)\n",
    "    dirs = [f for f in files if f[-3:] != 'csv']\n",
    "    for f in dirs:\n",
    "        os.chdir(\"D:/DSIoT/Smart Datasets-20170927T044251Z-001/Smart Datasets/\" + i + \"/\" + f)   \n",
    "        p = os.getcwd()\n",
    "        files = os.listdir(p)\n",
    "        files_csv = [f for f in files if f[-3:] == 'csv']\n",
    "        for f in files_csv:\n",
    "            data = pd.read_csv(f, sep = \",\")\n",
    "            df = df.append(data)\n",
    "        df_yr_consol = df_yr_consol.append(df)\n",
    "        df_homewise_consol = df_homewise_consol.append(df_yr_consol)\n",
    "    df_homewise_consol.to_csv(path + '/'+ 'df_final_' + i + \".csv\", index = False)"
   ]
  },
  {
   "cell_type": "code",
   "execution_count": null,
   "metadata": {
    "collapsed": true
   },
   "outputs": [],
   "source": []
  }
 ],
 "metadata": {
  "kernelspec": {
   "display_name": "Python 2",
   "language": "python",
   "name": "python2"
  },
  "language_info": {
   "codemirror_mode": {
    "name": "ipython",
    "version": 2
   },
   "file_extension": ".py",
   "mimetype": "text/x-python",
   "name": "python",
   "nbconvert_exporter": "python",
   "pygments_lexer": "ipython2",
   "version": "2.7.14"
  }
 },
 "nbformat": 4,
 "nbformat_minor": 2
}
