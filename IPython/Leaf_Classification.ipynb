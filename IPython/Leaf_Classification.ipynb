{
 "cells": [
  {
   "cell_type": "code",
   "execution_count": 2,
   "metadata": {
    "collapsed": true
   },
   "outputs": [],
   "source": [
    "import pandas as pd, numpy as np, os, sys\n",
    "from sklearn.ensemble import GradientBoostingClassifier\n",
    "import matplotlib.pyplot as plt\n",
    "%matplotlib inline"
   ]
  },
  {
   "cell_type": "code",
   "execution_count": 3,
   "metadata": {
    "collapsed": false
   },
   "outputs": [
    {
     "name": "stdout",
     "output_type": "stream",
     "text": [
      "D:\\Kaggle\\Leaf Classification\n"
     ]
    }
   ],
   "source": [
    "# setting up a path to read datasets from\n",
    "path = 'D:\\Kaggle\\Leaf Classification'\n",
    "os.chdir(path)\n",
    "print os.getcwd() # just to verify "
   ]
  },
  {
   "cell_type": "code",
   "execution_count": null,
   "metadata": {
    "collapsed": false
   },
   "outputs": [],
   "source": [
    "train = pd.read_csv('train.csv')\n",
    "# print train.head() # display first 6 records\n",
    "print train.head(3)"
   ]
  },
  {
   "cell_type": "code",
   "execution_count": 15,
   "metadata": {
    "collapsed": true
   },
   "outputs": [],
   "source": [
    "from sklearn import preprocessing"
   ]
  },
  {
   "cell_type": "code",
   "execution_count": 17,
   "metadata": {
    "collapsed": true
   },
   "outputs": [],
   "source": [
    "le = preprocessing.LabelEncoder()"
   ]
  },
  {
   "cell_type": "code",
   "execution_count": 18,
   "metadata": {
    "collapsed": false,
    "scrolled": true
   },
   "outputs": [
    {
     "data": {
      "text/plain": [
       "LabelEncoder()"
      ]
     },
     "execution_count": 18,
     "metadata": {},
     "output_type": "execute_result"
    }
   ],
   "source": [
    "le.fit(train['species'])"
   ]
  },
  {
   "cell_type": "code",
   "execution_count": null,
   "metadata": {
    "collapsed": false
   },
   "outputs": [],
   "source": [
    "list(le.classes_)[0:10]"
   ]
  },
  {
   "cell_type": "code",
   "execution_count": 35,
   "metadata": {
    "collapsed": false
   },
   "outputs": [
    {
     "name": "stdout",
     "output_type": "stream",
     "text": [
      "[ 3 49 65 94 84 40 54 78 53 89]\n"
     ]
    }
   ],
   "source": [
    "y1 = le.transform(train['species'])\n",
    "print y1[0:10]"
   ]
  },
  {
   "cell_type": "code",
   "execution_count": 43,
   "metadata": {
    "collapsed": false
   },
   "outputs": [],
   "source": [
    "X = train.loc[:,'margin1':'texture64']"
   ]
  },
  {
   "cell_type": "code",
   "execution_count": 36,
   "metadata": {
    "collapsed": true
   },
   "outputs": [],
   "source": [
    "est = GradientBoostingClassifier(n_estimators = 100, max_depth = 3)"
   ]
  },
  {
   "cell_type": "code",
   "execution_count": 45,
   "metadata": {
    "collapsed": false
   },
   "outputs": [
    {
     "data": {
      "text/plain": [
       "GradientBoostingClassifier(init=None, learning_rate=0.1, loss='deviance',\n",
       "              max_depth=3, max_features=None, max_leaf_nodes=None,\n",
       "              min_samples_leaf=1, min_samples_split=2,\n",
       "              min_weight_fraction_leaf=0.0, n_estimators=100,\n",
       "              presort='auto', random_state=None, subsample=1.0, verbose=0,\n",
       "              warm_start=False)"
      ]
     },
     "execution_count": 45,
     "metadata": {},
     "output_type": "execute_result"
    }
   ],
   "source": [
    "est.fit(X,y1)"
   ]
  },
  {
   "cell_type": "code",
   "execution_count": 126,
   "metadata": {
    "collapsed": false
   },
   "outputs": [],
   "source": [
    "pred = est.staged_predict(X)"
   ]
  },
  {
   "cell_type": "code",
   "execution_count": 179,
   "metadata": {
    "collapsed": false
   },
   "outputs": [
    {
     "name": "stdout",
     "output_type": "stream",
     "text": [
      "(594, 193)\n"
     ]
    }
   ],
   "source": [
    "# reading in test datasets and preprocessing for predicition \n",
    "test = pd.read_csv('test.csv')\n",
    "print test.shape"
   ]
  },
  {
   "cell_type": "code",
   "execution_count": 180,
   "metadata": {
    "collapsed": false
   },
   "outputs": [],
   "source": [
    "test_pred  = est.predict_proba(test.loc[:,'margin1':'texture64'])"
   ]
  },
  {
   "cell_type": "code",
   "execution_count": 97,
   "metadata": {
    "collapsed": false
   },
   "outputs": [
    {
     "data": {
      "text/plain": [
       "99"
      ]
     },
     "execution_count": 97,
     "metadata": {},
     "output_type": "execute_result"
    }
   ],
   "source": [
    "len(list(le.classes_))"
   ]
  },
  {
   "cell_type": "code",
   "execution_count": 157,
   "metadata": {
    "collapsed": false
   },
   "outputs": [],
   "source": [
    "# reading submission file \n",
    "sub_file = pd.read_csv('sample_submission.csv')"
   ]
  },
  {
   "cell_type": "code",
   "execution_count": 175,
   "metadata": {
    "collapsed": false
   },
   "outputs": [
    {
     "data": {
      "text/plain": [
       "array([  1.05206016e-05,   6.73968731e-05,   1.05717676e-05,\n",
       "         1.16269492e-05,   1.22471512e-05,   1.82038361e-05,\n",
       "         9.73997870e-06,   1.10686594e-05,   1.45691701e-05,\n",
       "         1.21189169e-05,   1.35889016e-05,   2.69631318e-05,\n",
       "         1.35696418e-05,   1.59914456e-05,   1.42012355e-05,\n",
       "         9.98508956e-01,   1.06398806e-05,   1.67030646e-05,\n",
       "         1.18292667e-05,   1.50036234e-05,   1.21002565e-05,\n",
       "         1.17363376e-05,   2.35890521e-05,   1.48843814e-05,\n",
       "         1.22023913e-05,   1.01900829e-05,   1.50221743e-05,\n",
       "         2.10698526e-05,   1.30001687e-04,   1.23796692e-05,\n",
       "         1.41352018e-05,   1.70635268e-05,   9.48718039e-06,\n",
       "         1.22175868e-05,   1.60859021e-05,   1.52110393e-05,\n",
       "         1.62533084e-05,   1.27757417e-05,   8.49475844e-06,\n",
       "         2.00796315e-05,   1.27894001e-05,   1.13618299e-05,\n",
       "         1.13543329e-05,   1.35533775e-05,   1.44445204e-05,\n",
       "         1.22166581e-05,   1.14445914e-05,   9.15844430e-06,\n",
       "         1.15265077e-05,   9.06722743e-06,   2.07729351e-05,\n",
       "         1.16359519e-05,   1.20602420e-05,   1.24954805e-05,\n",
       "         1.67838408e-05,   1.58565376e-05,   1.43421589e-05,\n",
       "         1.01135695e-05,   1.72756812e-05,   6.60348909e-06,\n",
       "         1.48358226e-05,   1.18741745e-05,   1.57480821e-05,\n",
       "         1.10561146e-05,   1.23441240e-05,   1.11270652e-05,\n",
       "         1.21358014e-05,   1.20098230e-05,   1.40195178e-05,\n",
       "         1.20755740e-05,   1.58998875e-05,   1.12529972e-05,\n",
       "         1.52414710e-05,   1.48191294e-05,   1.16345708e-05,\n",
       "         1.50933098e-05,   1.46983763e-05,   1.33462680e-05,\n",
       "         1.26162249e-05,   1.17102142e-05,   1.26659819e-05,\n",
       "         2.05170244e-05,   1.34929258e-05,   5.24185873e-06,\n",
       "         1.24768288e-05,   1.41526475e-05,   1.30740155e-05,\n",
       "         1.26715007e-05,   1.37408737e-05,   1.20919930e-05,\n",
       "         1.32589566e-05,   1.42584385e-05,   7.20764896e-06,\n",
       "         1.33516682e-05,   1.53384179e-05,   1.58607232e-05,\n",
       "         1.28001331e-05,   1.44065626e-05,   1.45067716e-05])"
      ]
     },
     "execution_count": 175,
     "metadata": {},
     "output_type": "execute_result"
    }
   ],
   "source": [
    "test_pred[-1]"
   ]
  },
  {
   "cell_type": "code",
   "execution_count": 181,
   "metadata": {
    "collapsed": false
   },
   "outputs": [],
   "source": [
    "keys = sub_file.columns\n",
    "pred_dict = dict(zip(keys, test_pred))"
   ]
  },
  {
   "cell_type": "code",
   "execution_count": 182,
   "metadata": {
    "collapsed": false
   },
   "outputs": [],
   "source": [
    "pred_df = pd.DataFrame(pred_dict)"
   ]
  },
  {
   "cell_type": "code",
   "execution_count": 183,
   "metadata": {
    "collapsed": false
   },
   "outputs": [
    {
     "data": {
      "text/html": [
       "<div>\n",
       "<table border=\"1\" class=\"dataframe\">\n",
       "  <thead>\n",
       "    <tr style=\"text-align: right;\">\n",
       "      <th></th>\n",
       "      <th>Acer_Capillipes</th>\n",
       "      <th>Acer_Circinatum</th>\n",
       "      <th>Acer_Mono</th>\n",
       "      <th>Acer_Opalus</th>\n",
       "      <th>Acer_Palmatum</th>\n",
       "      <th>Acer_Pictum</th>\n",
       "      <th>Acer_Platanoids</th>\n",
       "      <th>Acer_Rubrum</th>\n",
       "      <th>Acer_Rufinerve</th>\n",
       "      <th>Acer_Saccharinum</th>\n",
       "      <th>...</th>\n",
       "      <th>Salix_Intergra</th>\n",
       "      <th>Sorbus_Aria</th>\n",
       "      <th>Tilia_Oliveri</th>\n",
       "      <th>Tilia_Platyphyllos</th>\n",
       "      <th>Tilia_Tomentosa</th>\n",
       "      <th>Ulmus_Bergmanniana</th>\n",
       "      <th>Viburnum_Tinus</th>\n",
       "      <th>Viburnum_x_Rhytidophylloides</th>\n",
       "      <th>Zelkova_Serrata</th>\n",
       "      <th>id</th>\n",
       "    </tr>\n",
       "  </thead>\n",
       "  <tbody>\n",
       "    <tr>\n",
       "      <th>94</th>\n",
       "      <td>0.000019</td>\n",
       "      <td>0.000096</td>\n",
       "      <td>0.005259</td>\n",
       "      <td>0.000020</td>\n",
       "      <td>0.010691</td>\n",
       "      <td>0.000190</td>\n",
       "      <td>0.007305</td>\n",
       "      <td>0.000014</td>\n",
       "      <td>0.000008</td>\n",
       "      <td>0.011306</td>\n",
       "      <td>...</td>\n",
       "      <td>0.000012</td>\n",
       "      <td>0.000030</td>\n",
       "      <td>2.341308e-04</td>\n",
       "      <td>0.001037</td>\n",
       "      <td>0.000056</td>\n",
       "      <td>0.000004</td>\n",
       "      <td>0.000018</td>\n",
       "      <td>0.010878</td>\n",
       "      <td>0.000009</td>\n",
       "      <td>0.010787</td>\n",
       "    </tr>\n",
       "    <tr>\n",
       "      <th>95</th>\n",
       "      <td>0.000020</td>\n",
       "      <td>0.000099</td>\n",
       "      <td>0.005438</td>\n",
       "      <td>0.000020</td>\n",
       "      <td>0.011055</td>\n",
       "      <td>0.000195</td>\n",
       "      <td>0.007467</td>\n",
       "      <td>0.000015</td>\n",
       "      <td>0.000009</td>\n",
       "      <td>0.011693</td>\n",
       "      <td>...</td>\n",
       "      <td>0.000013</td>\n",
       "      <td>0.000031</td>\n",
       "      <td>1.453080e-08</td>\n",
       "      <td>0.001072</td>\n",
       "      <td>0.000057</td>\n",
       "      <td>0.000004</td>\n",
       "      <td>0.998344</td>\n",
       "      <td>0.011601</td>\n",
       "      <td>0.000009</td>\n",
       "      <td>0.011033</td>\n",
       "    </tr>\n",
       "    <tr>\n",
       "      <th>96</th>\n",
       "      <td>0.000017</td>\n",
       "      <td>0.000080</td>\n",
       "      <td>0.004389</td>\n",
       "      <td>0.000016</td>\n",
       "      <td>0.008922</td>\n",
       "      <td>0.000168</td>\n",
       "      <td>0.006435</td>\n",
       "      <td>0.000012</td>\n",
       "      <td>0.000007</td>\n",
       "      <td>0.009435</td>\n",
       "      <td>...</td>\n",
       "      <td>0.000012</td>\n",
       "      <td>0.000025</td>\n",
       "      <td>1.172614e-08</td>\n",
       "      <td>0.001291</td>\n",
       "      <td>0.000049</td>\n",
       "      <td>0.000004</td>\n",
       "      <td>0.000015</td>\n",
       "      <td>0.009362</td>\n",
       "      <td>0.000008</td>\n",
       "      <td>0.009502</td>\n",
       "    </tr>\n",
       "    <tr>\n",
       "      <th>97</th>\n",
       "      <td>0.000019</td>\n",
       "      <td>0.000090</td>\n",
       "      <td>0.004940</td>\n",
       "      <td>0.000018</td>\n",
       "      <td>0.010042</td>\n",
       "      <td>0.000185</td>\n",
       "      <td>0.007091</td>\n",
       "      <td>0.000014</td>\n",
       "      <td>0.000008</td>\n",
       "      <td>0.010619</td>\n",
       "      <td>...</td>\n",
       "      <td>0.000012</td>\n",
       "      <td>0.000028</td>\n",
       "      <td>1.311440e-08</td>\n",
       "      <td>0.000974</td>\n",
       "      <td>0.000054</td>\n",
       "      <td>0.000004</td>\n",
       "      <td>0.000017</td>\n",
       "      <td>0.010537</td>\n",
       "      <td>0.000008</td>\n",
       "      <td>0.010473</td>\n",
       "    </tr>\n",
       "    <tr>\n",
       "      <th>98</th>\n",
       "      <td>0.000019</td>\n",
       "      <td>0.000091</td>\n",
       "      <td>0.004974</td>\n",
       "      <td>0.000018</td>\n",
       "      <td>0.010111</td>\n",
       "      <td>0.000192</td>\n",
       "      <td>0.006917</td>\n",
       "      <td>0.000014</td>\n",
       "      <td>0.000008</td>\n",
       "      <td>0.010693</td>\n",
       "      <td>...</td>\n",
       "      <td>0.000013</td>\n",
       "      <td>0.000029</td>\n",
       "      <td>1.320549e-08</td>\n",
       "      <td>0.000980</td>\n",
       "      <td>0.000056</td>\n",
       "      <td>0.000004</td>\n",
       "      <td>0.000016</td>\n",
       "      <td>0.010065</td>\n",
       "      <td>0.000008</td>\n",
       "      <td>0.010864</td>\n",
       "    </tr>\n",
       "  </tbody>\n",
       "</table>\n",
       "<p>5 rows × 100 columns</p>\n",
       "</div>"
      ],
      "text/plain": [
       "    Acer_Capillipes  Acer_Circinatum  Acer_Mono  Acer_Opalus  Acer_Palmatum  \\\n",
       "94         0.000019         0.000096   0.005259     0.000020       0.010691   \n",
       "95         0.000020         0.000099   0.005438     0.000020       0.011055   \n",
       "96         0.000017         0.000080   0.004389     0.000016       0.008922   \n",
       "97         0.000019         0.000090   0.004940     0.000018       0.010042   \n",
       "98         0.000019         0.000091   0.004974     0.000018       0.010111   \n",
       "\n",
       "    Acer_Pictum  Acer_Platanoids  Acer_Rubrum  Acer_Rufinerve  \\\n",
       "94     0.000190         0.007305     0.000014        0.000008   \n",
       "95     0.000195         0.007467     0.000015        0.000009   \n",
       "96     0.000168         0.006435     0.000012        0.000007   \n",
       "97     0.000185         0.007091     0.000014        0.000008   \n",
       "98     0.000192         0.006917     0.000014        0.000008   \n",
       "\n",
       "    Acer_Saccharinum    ...     Salix_Intergra  Sorbus_Aria  Tilia_Oliveri  \\\n",
       "94          0.011306    ...           0.000012     0.000030   2.341308e-04   \n",
       "95          0.011693    ...           0.000013     0.000031   1.453080e-08   \n",
       "96          0.009435    ...           0.000012     0.000025   1.172614e-08   \n",
       "97          0.010619    ...           0.000012     0.000028   1.311440e-08   \n",
       "98          0.010693    ...           0.000013     0.000029   1.320549e-08   \n",
       "\n",
       "    Tilia_Platyphyllos  Tilia_Tomentosa  Ulmus_Bergmanniana  Viburnum_Tinus  \\\n",
       "94            0.001037         0.000056            0.000004        0.000018   \n",
       "95            0.001072         0.000057            0.000004        0.998344   \n",
       "96            0.001291         0.000049            0.000004        0.000015   \n",
       "97            0.000974         0.000054            0.000004        0.000017   \n",
       "98            0.000980         0.000056            0.000004        0.000016   \n",
       "\n",
       "    Viburnum_x_Rhytidophylloides  Zelkova_Serrata        id  \n",
       "94                      0.010878         0.000009  0.010787  \n",
       "95                      0.011601         0.000009  0.011033  \n",
       "96                      0.009362         0.000008  0.009502  \n",
       "97                      0.010537         0.000008  0.010473  \n",
       "98                      0.010065         0.000008  0.010864  \n",
       "\n",
       "[5 rows x 100 columns]"
      ]
     },
     "execution_count": 183,
     "metadata": {},
     "output_type": "execute_result"
    }
   ],
   "source": [
    "pred_df.tail()"
   ]
  },
  {
   "cell_type": "code",
   "execution_count": null,
   "metadata": {
    "collapsed": true
   },
   "outputs": [],
   "source": []
  }
 ],
 "metadata": {
  "kernelspec": {
   "display_name": "Python 2",
   "language": "python",
   "name": "python2"
  },
  "language_info": {
   "codemirror_mode": {
    "name": "ipython",
    "version": 2
   },
   "file_extension": ".py",
   "mimetype": "text/x-python",
   "name": "python",
   "nbconvert_exporter": "python",
   "pygments_lexer": "ipython2",
   "version": "2.7.12"
  }
 },
 "nbformat": 4,
 "nbformat_minor": 0
}
