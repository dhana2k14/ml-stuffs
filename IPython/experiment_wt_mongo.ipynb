{
 "cells": [
  {
   "cell_type": "code",
   "execution_count": 1,
   "metadata": {
    "collapsed": true
   },
   "outputs": [],
   "source": [
    "import pandas as pd, numpy as np\n",
    "import datetime, time, json\n",
    "import xml.etree.ElementTree as ET\n",
    "from pymongo import MongoClient\n",
    "from bson import json_util\n",
    "from pandas.io.json import json_normalize\n",
    "from bson import json_util, ObjectId"
   ]
  },
  {
   "cell_type": "code",
   "execution_count": null,
   "metadata": {
    "collapsed": true
   },
   "outputs": [],
   "source": [
    "yr = (datetime.datetime.utcnow() - datetime.timedelta(2)).year\n",
    "mo = (datetime.datetime.utcnow()- datetime.timedelta(2)).month\n",
    "dt = (datetime.datetime.utcnow()- datetime.timedelta(2)).day\n",
    "\n",
    "hr = datetime.datetime.utcnow().hour\n",
    "ms = datetime.datetime.utcnow().minute\n",
    "ss = datetime.datetime.utcnow().second\n",
    "\n",
    "yr_1 = (datetime.datetime.utcnow() - datetime.timedelta(1)).year\n",
    "mo_1 = (datetime.datetime.utcnow()- datetime.timedelta(1)).month\n",
    "dt_1 = (datetime.datetime.utcnow()- datetime.timedelta(1)).day\n",
    "\n",
    "print yr, mo, dt, yr_1, mo_1, dt_1, hr, ms, ss\n"
   ]
  },
  {
   "cell_type": "code",
   "execution_count": null,
   "metadata": {
    "collapsed": true
   },
   "outputs": [],
   "source": [
    "client = MongoClient(\"mongodb://172.25.69.155:27017\")\n",
    "db = client['KeyTelematics']\n",
    "\n",
    "tree = ET.parse('..\\common\\\\fleet-management\\\\asset.xml')\n",
    "data = pd.DataFrame()\n",
    "\n",
    "\n",
    "\n",
    "for asset in tree.findall('Asset'):\n",
    "            name = asset.get('Name')         \n",
    "            cursor = db.TelemeteryData_June2016.find(                                             \n",
    "            {             \n",
    "            \"telemeteryData.assetName\":{'$in':[name]},\n",
    "            \"customData.date\":  {'$in':\n",
    "                                 ['3/1/2017','3/2/2017','3/3/2017','3/4/2017','3/5/2017','3/6/2017','3/7/2017','3/8/2017',\n",
    "                                  '3/9/2017','3/10/2017','3/11/2017','3/12/2017','3/13/2017','3/14/2017','3/15/2017','3/16/2017',\n",
    "                                  '3/17/2017','3/18/2017','3/19/2017','3/20/2017','3/21/2017','3/22/2017','3/23/2017','3/24/2017',\n",
    "                                  '3/25/2017','3/26/2017','3/27/2017','3/28/2017','3/29/2017','3/30/2017','3/31/2017','4/1/2017',\n",
    "                                  '4/2/2017','4/3/2017','4/4/2017','4/5/2017','4/6/2017','4/7/2017','4/8/2017','4/9/2017','4/10/2017',\n",
    "                                  '4/11/2017','4/12/2017','4/13/2017','4/14/2017','4/15/2017','4/16/2017','4/17/2017','4/18/2017',\n",
    "                                  '4/19/2017','4/20/2017','4/21/2017','4/22/2017','4/23/2017','4/24/2017','4/25/2017','4/26/2017',\n",
    "                                  '4/27/2017','4/28/2017','4/29/2017','4/30/2017']\n",
    " \n",
    "                                }\n",
    "            },                                                     \n",
    "            {'telemeteryData':1, 'customData':1})          \n",
    "\n",
    "            print cursor.count(), name"
   ]
  },
  {
   "cell_type": "code",
   "execution_count": 6,
   "metadata": {},
   "outputs": [],
   "source": [
    "df = pd.read_csv('D:\\PythonTutorials\\data\\log_data.csv', index_col = 'DATETIME', parse_dates = ['DATETIME'])"
   ]
  },
  {
   "cell_type": "code",
   "execution_count": 7,
   "metadata": {},
   "outputs": [
    {
     "data": {
      "text/html": [
       "<div>\n",
       "<table border=\"1\" class=\"dataframe\">\n",
       "  <thead>\n",
       "    <tr style=\"text-align: right;\">\n",
       "      <th></th>\n",
       "      <th>ASSET ID</th>\n",
       "      <th>TEMP_OUT</th>\n",
       "      <th>TEMP_IN</th>\n",
       "      <th>HUMIDITY_PCT</th>\n",
       "      <th>BATTERY_LEVEL</th>\n",
       "      <th>DOOR_STATUS</th>\n",
       "    </tr>\n",
       "    <tr>\n",
       "      <th>DATETIME</th>\n",
       "      <th></th>\n",
       "      <th></th>\n",
       "      <th></th>\n",
       "      <th></th>\n",
       "      <th></th>\n",
       "      <th></th>\n",
       "    </tr>\n",
       "  </thead>\n",
       "  <tbody>\n",
       "    <tr>\n",
       "      <th>2017-05-15 22:10:00</th>\n",
       "      <td>CCU 1</td>\n",
       "      <td>25.00</td>\n",
       "      <td>15.5</td>\n",
       "      <td>75.80</td>\n",
       "      <td>7.33</td>\n",
       "      <td>Closed</td>\n",
       "    </tr>\n",
       "    <tr>\n",
       "      <th>2017-05-15 22:11:00</th>\n",
       "      <td>CCU 1</td>\n",
       "      <td>25.25</td>\n",
       "      <td>15.6</td>\n",
       "      <td>71.69</td>\n",
       "      <td>7.35</td>\n",
       "      <td>Closed</td>\n",
       "    </tr>\n",
       "    <tr>\n",
       "      <th>2017-05-15 22:12:00</th>\n",
       "      <td>CCU 1</td>\n",
       "      <td>25.25</td>\n",
       "      <td>15.8</td>\n",
       "      <td>69.69</td>\n",
       "      <td>7.35</td>\n",
       "      <td>Closed</td>\n",
       "    </tr>\n",
       "    <tr>\n",
       "      <th>2017-05-15 22:13:00</th>\n",
       "      <td>CCU 1</td>\n",
       "      <td>25.25</td>\n",
       "      <td>15.8</td>\n",
       "      <td>69.40</td>\n",
       "      <td>7.35</td>\n",
       "      <td>Closed</td>\n",
       "    </tr>\n",
       "    <tr>\n",
       "      <th>2017-05-15 22:14:00</th>\n",
       "      <td>CCU 1</td>\n",
       "      <td>25.25</td>\n",
       "      <td>15.9</td>\n",
       "      <td>68.90</td>\n",
       "      <td>7.35</td>\n",
       "      <td>Closed</td>\n",
       "    </tr>\n",
       "  </tbody>\n",
       "</table>\n",
       "</div>"
      ],
      "text/plain": [
       "                    ASSET ID  TEMP_OUT  TEMP_IN  HUMIDITY_PCT  BATTERY_LEVEL  \\\n",
       "DATETIME                                                                       \n",
       "2017-05-15 22:10:00    CCU 1     25.00     15.5         75.80           7.33   \n",
       "2017-05-15 22:11:00    CCU 1     25.25     15.6         71.69           7.35   \n",
       "2017-05-15 22:12:00    CCU 1     25.25     15.8         69.69           7.35   \n",
       "2017-05-15 22:13:00    CCU 1     25.25     15.8         69.40           7.35   \n",
       "2017-05-15 22:14:00    CCU 1     25.25     15.9         68.90           7.35   \n",
       "\n",
       "                    DOOR_STATUS  \n",
       "DATETIME                         \n",
       "2017-05-15 22:10:00      Closed  \n",
       "2017-05-15 22:11:00      Closed  \n",
       "2017-05-15 22:12:00      Closed  \n",
       "2017-05-15 22:13:00      Closed  \n",
       "2017-05-15 22:14:00      Closed  "
      ]
     },
     "execution_count": 7,
     "metadata": {},
     "output_type": "execute_result"
    }
   ],
   "source": [
    "df.head()"
   ]
  },
  {
   "cell_type": "code",
   "execution_count": 3,
   "metadata": {},
   "outputs": [],
   "source": [
    "from mongotriggers import MongoTrigger"
   ]
  },
  {
   "cell_type": "code",
   "execution_count": 5,
   "metadata": {},
   "outputs": [
    {
     "ename": "NameError",
     "evalue": "name 'conn' is not defined",
     "output_type": "error",
     "traceback": [
      "\u001b[0;31m---------------------------------------------------------------------------\u001b[0m",
      "\u001b[0;31mNameError\u001b[0m                                 Traceback (most recent call last)",
      "\u001b[0;32m<ipython-input-5-ba0388d78ef6>\u001b[0m in \u001b[0;36m<module>\u001b[0;34m()\u001b[0m\n\u001b[0;32m----> 1\u001b[0;31m \u001b[0mtriggers\u001b[0m \u001b[0;34m=\u001b[0m \u001b[0mMongoTrigger\u001b[0m\u001b[0;34m(\u001b[0m\u001b[0mconn\u001b[0m\u001b[0;34m)\u001b[0m\u001b[0;34m\u001b[0m\u001b[0m\n\u001b[0m",
      "\u001b[0;31mNameError\u001b[0m: name 'conn' is not defined"
     ]
    }
   ],
   "source": [
    "triggers = MongoTrigger(conn)"
   ]
  },
  {
   "cell_type": "code",
   "execution_count": 4,
   "metadata": {},
   "outputs": [
    {
     "ename": "NameError",
     "evalue": "name 'triggers' is not defined",
     "output_type": "error",
     "traceback": [
      "\u001b[0;31m---------------------------------------------------------------------------\u001b[0m",
      "\u001b[0;31mNameError\u001b[0m                                 Traceback (most recent call last)",
      "\u001b[0;32m<ipython-input-4-ce184a47c0d2>\u001b[0m in \u001b[0;36m<module>\u001b[0;34m()\u001b[0m\n\u001b[0;32m----> 1\u001b[0;31m \u001b[0mtriggers\u001b[0m\u001b[0;34m.\u001b[0m\u001b[0mregister_delete_trigger\u001b[0m\u001b[0;34m(\u001b[0m\u001b[0mnotify_manager\u001b[0m\u001b[0;34m,\u001b[0m \u001b[0;34m'my_account'\u001b[0m\u001b[0;34m,\u001b[0m \u001b[0;34m'my_transactions'\u001b[0m\u001b[0;34m)\u001b[0m\u001b[0;34m\u001b[0m\u001b[0m\n\u001b[0m",
      "\u001b[0;31mNameError\u001b[0m: name 'triggers' is not defined"
     ]
    }
   ],
   "source": [
    "triggers.register_delete_trigger(notify_manager, 'my_account', 'my_transactions')"
   ]
  },
  {
   "cell_type": "code",
   "execution_count": null,
   "metadata": {
    "collapsed": true
   },
   "outputs": [],
   "source": []
  }
 ],
 "metadata": {
  "kernelspec": {
   "display_name": "Python 2",
   "language": "python",
   "name": "python2"
  },
  "language_info": {
   "codemirror_mode": {
    "name": "ipython",
    "version": 2
   },
   "file_extension": ".py",
   "mimetype": "text/x-python",
   "name": "python",
   "nbconvert_exporter": "python",
   "pygments_lexer": "ipython2",
   "version": "2.7.14"
  }
 },
 "nbformat": 4,
 "nbformat_minor": 1
}
