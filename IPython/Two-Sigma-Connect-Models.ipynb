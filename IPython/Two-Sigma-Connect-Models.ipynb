{
 "cells": [
  {
   "cell_type": "code",
   "execution_count": null,
   "metadata": {
    "collapsed": true
   },
   "outputs": [],
   "source": [
    "import pandas as pd\n",
    "import numpy as np\n",
    "import json, os\n",
    "from pandas.io.json import json_normalize\n",
    "import missingno as msno\n",
    "import seaborn as sn\n",
    "from scipy import stats\n",
    "import datetime as dt\n",
    "import matplotlib.pyplot as plt\n",
    "from sklearn import preprocessing\n",
    "%matplotlib inline"
   ]
  },
  {
   "cell_type": "code",
   "execution_count": 11,
   "metadata": {
    "collapsed": true
   },
   "outputs": [],
   "source": [
    "from sklearn.ensemble import GradientBoostingClassifier"
   ]
  },
  {
   "cell_type": "code",
   "execution_count": null,
   "metadata": {
    "collapsed": true
   },
   "outputs": [],
   "source": [
    "os.chdir('D:/Kaggle/Two Sigma Connect')"
   ]
  },
  {
   "cell_type": "code",
   "execution_count": null,
   "metadata": {
    "collapsed": false
   },
   "outputs": [],
   "source": [
    "df = pd.read_json('train.json')\n",
    "print df.head()"
   ]
  },
  {
   "cell_type": "code",
   "execution_count": null,
   "metadata": {
    "collapsed": false
   },
   "outputs": [],
   "source": [
    "# encoding character lables in target variable\n",
    "\n",
    "le = preprocessing.LabelEncoder()\n",
    "le.fit(df.interest_level)\n",
    "df['target'] = le.transform(df.interest_level)\n",
    "print df.head()"
   ]
  },
  {
   "cell_type": "code",
   "execution_count": 13,
   "metadata": {
    "collapsed": true
   },
   "outputs": [],
   "source": [
    "X = df[['bathrooms', 'bedrooms', 'price']]\n",
    "y = df['target']"
   ]
  },
  {
   "cell_type": "code",
   "execution_count": 14,
   "metadata": {
    "collapsed": false
   },
   "outputs": [
    {
     "name": "stdout",
     "output_type": "stream",
     "text": [
      "        bathrooms  bedrooms  price\n",
      "10            1.5         3   3000\n",
      "10000         1.0         2   5465\n",
      "100004        1.0         1   2850\n",
      "100007        1.0         1   3275\n",
      "100013        1.0         4   3350\n",
      "10        2\n",
      "10000     1\n",
      "100004    0\n",
      "100007    1\n",
      "100013    1\n",
      "Name: target, dtype: int64\n"
     ]
    }
   ],
   "source": [
    "print X.head()\n",
    "print y.head()"
   ]
  },
  {
   "cell_type": "code",
   "execution_count": 12,
   "metadata": {
    "collapsed": true
   },
   "outputs": [],
   "source": [
    "est = GradientBoostingClassifier(n_estimators = 100, max_depth = 3)"
   ]
  },
  {
   "cell_type": "code",
   "execution_count": 19,
   "metadata": {
    "collapsed": false
   },
   "outputs": [
    {
     "data": {
      "text/plain": [
       "GradientBoostingClassifier(init=None, learning_rate=0.1, loss='deviance',\n",
       "              max_depth=3, max_features=None, max_leaf_nodes=None,\n",
       "              min_samples_leaf=1, min_samples_split=2,\n",
       "              min_weight_fraction_leaf=0.0, n_estimators=100,\n",
       "              presort='auto', random_state=None, subsample=1.0, verbose=0,\n",
       "              warm_start=False)"
      ]
     },
     "execution_count": 19,
     "metadata": {},
     "output_type": "execute_result"
    }
   ],
   "source": [
    "est.fit(X, y)"
   ]
  },
  {
   "cell_type": "code",
   "execution_count": 38,
   "metadata": {
    "collapsed": true
   },
   "outputs": [],
   "source": [
    "# Perform Grid Search \n",
    "\n",
    "from sklearn.grid_search import GridSearchCV"
   ]
  },
  {
   "cell_type": "code",
   "execution_count": 40,
   "metadata": {
    "collapsed": false
   },
   "outputs": [
    {
     "name": "stdout",
     "output_type": "stream",
     "text": [
      "{'learning_rate': 0.01, 'max_depth': 4}\n"
     ]
    }
   ],
   "source": [
    "param_grid = {'learning_rate':[0.05, 0.02, 0.01],\n",
    "              'max_depth':[4, 6]}\n",
    "\n",
    "est = GradientBoostingClassifier(n_estimators = 1000)\n",
    "gs_cv = GridSearchCV(est, param_grid).fit(X, y)\n",
    "print gs_cv.best_params_"
   ]
  },
  {
   "cell_type": "code",
   "execution_count": 41,
   "metadata": {
    "collapsed": false
   },
   "outputs": [
    {
     "data": {
      "text/plain": [
       "GradientBoostingClassifier(init=None, learning_rate=0.01, loss='deviance',\n",
       "              max_depth=4, max_features=None, max_leaf_nodes=None,\n",
       "              min_samples_leaf=1, min_samples_split=2,\n",
       "              min_weight_fraction_leaf=0.0, n_estimators=1000,\n",
       "              presort='auto', random_state=None, subsample=1.0, verbose=0,\n",
       "              warm_start=False)"
      ]
     },
     "execution_count": 41,
     "metadata": {},
     "output_type": "execute_result"
    }
   ],
   "source": [
    "# apply the tuned parameters to the algorithm and re-run\n",
    "\n",
    "est_cv = GradientBoostingClassifier(n_estimators = 1000, learning_rate = 0.01, max_depth = 4)\n",
    "est_cv.fit(X, y)"
   ]
  },
  {
   "cell_type": "code",
   "execution_count": 35,
   "metadata": {
    "collapsed": true
   },
   "outputs": [],
   "source": [
    "# validate models - Confustion matrix\n",
    "\n",
    "from sklearn.metrics import confusion_matrix"
   ]
  },
  {
   "cell_type": "code",
   "execution_count": 37,
   "metadata": {
    "collapsed": false
   },
   "outputs": [
    {
     "data": {
      "text/plain": [
       "array([[  515,   181,   195],\n",
       "       [ 3180, 33933, 10789],\n",
       "       [  144,   170,   245]])"
      ]
     },
     "execution_count": 37,
     "metadata": {},
     "output_type": "execute_result"
    }
   ],
   "source": [
    "# predict on to train set and compare with actual classes\n",
    "\n",
    "pred_train = est.predict(X)\n",
    "confusion_matrix(pd.DataFrame(pred_train), pd.DataFrame(y))"
   ]
  },
  {
   "cell_type": "code",
   "execution_count": 42,
   "metadata": {
    "collapsed": false
   },
   "outputs": [
    {
     "data": {
      "text/plain": [
       "array([[  537,   178,   197],\n",
       "       [ 3155, 33918, 10733],\n",
       "       [  147,   188,   299]])"
      ]
     },
     "execution_count": 42,
     "metadata": {},
     "output_type": "execute_result"
    }
   ],
   "source": [
    "# with grid search\n",
    "\n",
    "pred_train_cv = est_cv.predict(X)\n",
    "confusion_matrix(pred_train_cv, y)"
   ]
  },
  {
   "cell_type": "code",
   "execution_count": 33,
   "metadata": {
    "collapsed": false
   },
   "outputs": [
    {
     "name": "stdout",
     "output_type": "stream",
     "text": [
      "        bathrooms  bedrooms                       building_id  \\\n",
      "0             1.0         1  79780be1514f645d7e6be99a3de696c5   \n",
      "1             1.0         2                                 0   \n",
      "100           1.0         1  3dbbb69fd52e0d25131aa1cd459c87eb   \n",
      "1000          1.0         2  783d21d013a7e655bddc4ed0d461cc5e   \n",
      "100000        2.0         2  6134e7c4dd1a98d9aee36623c9872b49   \n",
      "\n",
      "                    created  \\\n",
      "0       2016-06-11 05:29:41   \n",
      "1       2016-06-24 06:36:34   \n",
      "100     2016-06-03 04:29:40   \n",
      "1000    2016-06-11 06:17:35   \n",
      "100000  2016-04-12 05:24:17   \n",
      "\n",
      "                                              description  \\\n",
      "0       Large with awesome terrace--accessible via bed...   \n",
      "1       Prime Soho - between Bleecker and Houston - Ne...   \n",
      "100             New York chic has reached a new level ...   \n",
      "1000    Step into this fantastic new Construction in t...   \n",
      "100000  ~Take a stroll in Central Park, enjoy the ente...   \n",
      "\n",
      "              display_address  \\\n",
      "0              Suffolk Street   \n",
      "1             Thompson Street   \n",
      "100      101 East 10th Street   \n",
      "1000     South Third Street\\r   \n",
      "100000  Midtown West, 8th Ave   \n",
      "\n",
      "                                                 features  latitude  \\\n",
      "0       [Elevator, Laundry in Building, Laundry in Uni...   40.7185   \n",
      "1                   [Pre-War, Dogs Allowed, Cats Allowed]   40.7278   \n",
      "100                           [Doorman, Elevator, No Fee]   40.7306   \n",
      "1000    [Roof Deck, Balcony, Elevator, Laundry in Buil...   40.7109   \n",
      "100000  [Common Outdoor Space, Cats Allowed, Dogs Allo...   40.7650   \n",
      "\n",
      "        listing_id  longitude                        manager_id  \\\n",
      "0          7142618   -73.9865  b1b1852c416d78d7765d746cb1b8921f   \n",
      "1          7210040   -74.0000  d0b5648017832b2427eeb9956d966a14   \n",
      "100        7103890   -73.9890  9ca6f3baa475c37a3b3521a394d65467   \n",
      "1000       7143442   -73.9571  0b9d5db96db8472d7aeb67c67338c4d2   \n",
      "100000     6860601   -73.9845  b5eda0eb31b042ce2124fd9e9fcfce2f   \n",
      "\n",
      "                                                   photos  price  \\\n",
      "0       [https://photos.renthop.com/2/7142618_1c45a2c8...   2950   \n",
      "1       [https://photos.renthop.com/2/7210040_d824cc71...   2850   \n",
      "100     [https://photos.renthop.com/2/7103890_85b33077...   3758   \n",
      "1000    [https://photos.renthop.com/2/7143442_0879e9e0...   3300   \n",
      "100000  [https://photos.renthop.com/2/6860601_c96164d8...   4900   \n",
      "\n",
      "                   street_address  \n",
      "0               99 Suffolk Street  \n",
      "1             176 Thompson Street  \n",
      "100          101 East 10th Street  \n",
      "1000    251  South Third Street\\r  \n",
      "100000       260 West 54th Street  \n"
     ]
    }
   ],
   "source": [
    "# load test set \n",
    "\n",
    "df_test = pd.read_json('test.json')\n",
    "test_X = df_test[['bedrooms', 'bathrooms', 'price']]\n",
    "print df_test.head()"
   ]
  },
  {
   "cell_type": "code",
   "execution_count": 43,
   "metadata": {
    "collapsed": false
   },
   "outputs": [
    {
     "name": "stdout",
     "output_type": "stream",
     "text": [
      "[[ 0.03570335  0.72566587  0.23863078]\n",
      " [ 0.03530439  0.70401665  0.26067895]\n",
      " [ 0.00962076  0.91058945  0.07978979]\n",
      " ..., \n",
      " [ 0.00789062  0.98247803  0.00963134]\n",
      " [ 0.17894666  0.48178766  0.33926568]\n",
      " [ 0.03530439  0.70401665  0.26067895]]\n"
     ]
    }
   ],
   "source": [
    "pred = est_cv.predict_proba(test_X)\n",
    "print pred"
   ]
  },
  {
   "cell_type": "code",
   "execution_count": 44,
   "metadata": {
    "collapsed": false
   },
   "outputs": [
    {
     "name": "stdout",
     "output_type": "stream",
     "text": [
      "       high    medium       low\n",
      "0  0.035703  0.725666  0.238631\n",
      "1  0.035304  0.704017  0.260679\n",
      "2  0.009621  0.910589  0.079790\n",
      "3  0.022877  0.803753  0.173370\n",
      "4  0.021396  0.847264  0.131340\n"
     ]
    }
   ],
   "source": [
    "pred_df = pd.DataFrame(pred, columns = ('high', 'medium', 'low'))\n",
    "print pred_df.head()"
   ]
  },
  {
   "cell_type": "code",
   "execution_count": 45,
   "metadata": {
    "collapsed": true
   },
   "outputs": [],
   "source": [
    "pred_df['listing_id'] = df_test.listing_id.values\n",
    "pred_df.to_csv('submission2_GS_GB.csv', index = False)"
   ]
  },
  {
   "cell_type": "code",
   "execution_count": null,
   "metadata": {
    "collapsed": true
   },
   "outputs": [],
   "source": []
  }
 ],
 "metadata": {
  "kernelspec": {
   "display_name": "Python 2",
   "language": "python",
   "name": "python2"
  },
  "language_info": {
   "codemirror_mode": {
    "name": "ipython",
    "version": 2
   },
   "file_extension": ".py",
   "mimetype": "text/x-python",
   "name": "python",
   "nbconvert_exporter": "python",
   "pygments_lexer": "ipython2",
   "version": "2.7.12"
  }
 },
 "nbformat": 4,
 "nbformat_minor": 0
}
