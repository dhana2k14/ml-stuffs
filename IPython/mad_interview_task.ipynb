{
 "cells": [
  {
   "cell_type": "code",
   "execution_count": 1,
   "metadata": {
    "collapsed": true
   },
   "outputs": [],
   "source": [
    "import pandas as pd\n",
    "import datetime"
   ]
  },
  {
   "cell_type": "code",
   "execution_count": 30,
   "metadata": {
    "collapsed": true
   },
   "outputs": [],
   "source": [
    "wb_log_0630 = pd.read_csv('19950630.23-19950801.00.tsv', delimiter = '\\t')\n",
    "wb_log_0731 = pd.read_csv('19950801.00-19950901.00.tsv', delimiter = '\\t')"
   ]
  },
  {
   "cell_type": "code",
   "execution_count": 56,
   "metadata": {
    "collapsed": true
   },
   "outputs": [],
   "source": [
    "wb_log_0731_s = wb_log_0731.sample(100)"
   ]
  },
  {
   "cell_type": "code",
   "execution_count": 55,
   "metadata": {
    "scrolled": true
   },
   "outputs": [
    {
     "data": {
      "text/html": [
       "<div>\n",
       "<style>\n",
       "    .dataframe thead tr:only-child th {\n",
       "        text-align: right;\n",
       "    }\n",
       "\n",
       "    .dataframe thead th {\n",
       "        text-align: left;\n",
       "    }\n",
       "\n",
       "    .dataframe tbody tr th {\n",
       "        vertical-align: top;\n",
       "    }\n",
       "</style>\n",
       "<table border=\"1\" class=\"dataframe\">\n",
       "  <thead>\n",
       "    <tr style=\"text-align: right;\">\n",
       "      <th></th>\n",
       "      <th>host</th>\n",
       "      <th>time</th>\n",
       "      <th>rank_host</th>\n",
       "    </tr>\n",
       "  </thead>\n",
       "  <tbody>\n",
       "    <tr>\n",
       "      <th>1</th>\n",
       "      <td>uplherc.upl.com</td>\n",
       "      <td>807249607</td>\n",
       "      <td>71942</td>\n",
       "    </tr>\n",
       "    <tr>\n",
       "      <th>2</th>\n",
       "      <td>uplherc.upl.com</td>\n",
       "      <td>807249608</td>\n",
       "      <td>71942</td>\n",
       "    </tr>\n",
       "    <tr>\n",
       "      <th>3</th>\n",
       "      <td>uplherc.upl.com</td>\n",
       "      <td>807249608</td>\n",
       "      <td>71942</td>\n",
       "    </tr>\n",
       "    <tr>\n",
       "      <th>4</th>\n",
       "      <td>uplherc.upl.com</td>\n",
       "      <td>807249608</td>\n",
       "      <td>71942</td>\n",
       "    </tr>\n",
       "    <tr>\n",
       "      <th>6</th>\n",
       "      <td>uplherc.upl.com</td>\n",
       "      <td>807249610</td>\n",
       "      <td>71942</td>\n",
       "    </tr>\n",
       "  </tbody>\n",
       "</table>\n",
       "</div>"
      ],
      "text/plain": [
       "              host       time  rank_host\n",
       "1  uplherc.upl.com  807249607      71942\n",
       "2  uplherc.upl.com  807249608      71942\n",
       "3  uplherc.upl.com  807249608      71942\n",
       "4  uplherc.upl.com  807249608      71942\n",
       "6  uplherc.upl.com  807249610      71942"
      ]
     },
     "execution_count": 55,
     "metadata": {},
     "output_type": "execute_result"
    }
   ],
   "source": [
    "# wb_log_0731['rank_host'] = wb_log_0731.groupby('host').cumcount().apply(lambda x: x)\n",
    "\n",
    "# wb_log_0731['rank_host'] = wb_log_0731.host.rank(method = 'dense').astype(int)\n",
    "\n",
    "\n",
    "wb_log_0731[['host','time','rank_host']][wb_log_0731['host']== 'uplherc.upl.com'].head()\n",
    "# wb_log_0731_s[['host','time','rank_host']][wb_log_0731_s['rank_host'] > 1].head()"
   ]
  },
  {
   "cell_type": "code",
   "execution_count": 68,
   "metadata": {
    "collapsed": true
   },
   "outputs": [],
   "source": [
    "def log_parser(log_file, delim):\n",
    "    df = pd.read_csv(log_file, delimiter = delim, nrows = 1000)\n",
    "    \n",
    "    for rownum, row in df.iterrows():\n",
    "        df['time_ddmmyy']= datetime.datetime.fromtimestamp(row['time']).strftime('%d-%m-%Y %H:%M:%S')\n",
    "    \n",
    "    df['sessionID'] = df.host.rank(method = 'dense').astype(int)\n",
    "    df.sort_values(by = 'host', ascending = True)\n",
    "    df.to_csv('.csv', index = False, columns = ['host','sessionID','time_ddmmyy','method','response'])\n",
    "\n",
    "# log_parser('19950801.00-19950901.00.tsv', '\\t')"
   ]
  },
  {
   "cell_type": "code",
   "execution_count": 67,
   "metadata": {},
   "outputs": [
    {
     "name": "stdout",
     "output_type": "stream",
     "text": [
      "['19950630.23-19950801.00.tsv', '19950801.00-19950901.00.tsv']\n"
     ]
    }
   ],
   "source": [
    "\n",
    "print files_csv"
   ]
  },
  {
   "cell_type": "code",
   "execution_count": 69,
   "metadata": {},
   "outputs": [
    {
     "name": "stdout",
     "output_type": "stream",
     "text": [
      "19950630.23-19950801.00.tsv\n",
      "19950801.00-19950901.00.tsv\n"
     ]
    }
   ],
   "source": [
    "for f in files_csv:\n",
    "    print f"
   ]
  },
  {
   "cell_type": "code",
   "execution_count": 79,
   "metadata": {
    "collapsed": true
   },
   "outputs": [],
   "source": [
    "# Log Parser \n",
    "\n",
    "delim = '\\t' # delimiter can be changed here\n",
    "\n",
    "import os, sys\n",
    "import pandas as pd\n",
    "import datetime\n",
    "\n",
    "path = os.getcwd() # path can be changed here to read log files\n",
    "\n",
    "files = os.listdir(path)\n",
    "files_csv = [f for f in files if f[-3:] == 'tsv']\n",
    "\n",
    "for f in files_csv:\n",
    "    df = pd.read_csv(f, delimiter = delim, nrows = 5000)\n",
    "    \n",
    "    for rownum, row in df.iterrows():\n",
    "        df['time_ddmmyy']= datetime.datetime.fromtimestamp(row['time']).strftime('%d-%m-%Y %H:%M:%S')\n",
    "        df['date DD-MM-YYYY'] = df['time_ddmmyy'].str[1:10]\n",
    "        df['time HH:MM:SS'] = df['time_ddmmyy'].str[11:19]\n",
    "    \n",
    "    df['session ID'] = df.host.rank(method = 'dense').astype(int)\n",
    "    df.to_csv(f + '.csv', index = False, columns = ['host','session ID','date DD-MM-YYYY','time HH:MM:SS','method','response'])"
   ]
  },
  {
   "cell_type": "code",
   "execution_count": 85,
   "metadata": {},
   "outputs": [
    {
     "name": "stdout",
     "output_type": "stream",
     "text": [
      "                            host logname       time method  \\\n",
      "4995  pc19-138.trs.ntc.nokia.com       -  807273087    GET   \n",
      "4996           cygnus.execpc.com       -  807273090    GET   \n",
      "4997           cygnus.execpc.com       -  807273091    GET   \n",
      "4998           cygnus.execpc.com       -  807273097    GET   \n",
      "4999   uli.physik.tu-chemnitz.de       -  807273105    GET   \n",
      "\n",
      "                               url  response  bytes  referer  useragent  \\\n",
      "4995                     /ksc.html       200   7280      NaN        NaN   \n",
      "4996   /software/winvn/wvsmall.gif       200  13372      NaN        NaN   \n",
      "4997     /images/KSC-logosmall.gif       200   1204      NaN        NaN   \n",
      "4998  /images/MOSAIC-logosmall.gif       200    363      NaN        NaN   \n",
      "4999    /images/ksclogo-medium.gif       304      0      NaN        NaN   \n",
      "\n",
      "              time_ddmmyy date DD-MM-YYYY time HH:MM:SS  session ID  \n",
      "4995  01-08-1995 16:01:45       1-08-1995      16:01:45         309  \n",
      "4996  01-08-1995 16:01:45       1-08-1995      16:01:45         127  \n",
      "4997  01-08-1995 16:01:45       1-08-1995      16:01:45         127  \n",
      "4998  01-08-1995 16:01:45       1-08-1995      16:01:45         127  \n",
      "4999  01-08-1995 16:01:45       1-08-1995      16:01:45         416  \n"
     ]
    }
   ],
   "source": [
    "delim = '\\t' # delimiter can be changed here\n",
    "\n",
    "import os, sys\n",
    "import pandas as pd\n",
    "import datetime\n",
    "\n",
    "path = os.getcwd() # path can be changed here to read log files\n",
    "\n",
    "files = os.listdir(path)\n",
    "files_csv = [f for f in files if f[-3:] == 'tsv']\n",
    "\n",
    "for f in files_csv:\n",
    "    df = pd.read_csv(f, delimiter = delim, nrows = 5000)\n",
    "    \n",
    "    for rownum, row in df.iterrows():\n",
    "        df['time_ddmmyy']= datetime.datetime.fromtimestamp(row['time']).strftime('%d-%m-%Y %H:%M:%S')\n",
    "        df['date DD-MM-YYYY'] = df['time_ddmmyy'].str[1:10]\n",
    "        df['time HH:MM:SS'] = df['time_ddmmyy'].str[11:19]\n",
    "    \n",
    "    df['session ID'] = df.host.rank(method = 'dense').astype(int)\n",
    "    print df.tail()"
   ]
  },
  {
   "cell_type": "code",
   "execution_count": null,
   "metadata": {
    "collapsed": true
   },
   "outputs": [],
   "source": []
  }
 ],
 "metadata": {
  "kernelspec": {
   "display_name": "Python 2",
   "language": "python",
   "name": "python2"
  },
  "language_info": {
   "codemirror_mode": {
    "name": "ipython",
    "version": 2
   },
   "file_extension": ".py",
   "mimetype": "text/x-python",
   "name": "python",
   "nbconvert_exporter": "python",
   "pygments_lexer": "ipython2",
   "version": "2.7.14"
  }
 },
 "nbformat": 4,
 "nbformat_minor": 2
}
