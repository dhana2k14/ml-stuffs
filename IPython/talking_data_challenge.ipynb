{
 "cells": [
  {
   "cell_type": "code",
   "execution_count": 2,
   "metadata": {
    "collapsed": false
   },
   "outputs": [],
   "source": [
    "import pandas as pd, os, sys\n",
    "os.chdir('D:\\Kaggle\\\\TalkingData')\n",
    "path = os.getcwd()"
   ]
  },
  {
   "cell_type": "code",
   "execution_count": 18,
   "metadata": {
    "collapsed": true
   },
   "outputs": [],
   "source": [
    "app_events = pd.read_csv('app_events.csv', sep = ',')\n",
    "app_labels = pd.read_csv('app_labels.csv', sep = ',')\n",
    "label_categories = pd.read_csv('label_categories.csv', sep = ',')"
   ]
  },
  {
   "cell_type": "code",
   "execution_count": 20,
   "metadata": {
    "collapsed": false
   },
   "outputs": [
    {
     "name": "stdout",
     "output_type": "stream",
     "text": [
      "   event_id               app_id  is_installed  is_active\n",
      "0         2  5927333115845830913             1          1\n",
      "1         2 -5720078949152207372             1          0\n",
      "2         2 -1633887856876571208             1          0\n",
      "3         2  -653184325010919369             1          1\n",
      "4         2  8693964245073640147             1          1\n",
      "                app_id  label_id\n",
      "0  7324884708820027918       251\n",
      "1 -4494216993218550286       251\n",
      "2  6058196446775239644       406\n",
      "3  6058196446775239644       407\n",
      "4  8694625920731541625       406\n"
     ]
    }
   ],
   "source": [
    "print app_events.head()\n",
    "print app_labels.head()"
   ]
  },
  {
   "cell_type": "code",
   "execution_count": 13,
   "metadata": {
    "collapsed": true
   },
   "outputs": [],
   "source": [
    "# merge category to app_labels data set by label_id\n",
    "app_labels = app_labels.merge(label_categories, on = 'label_id', how = 'left')"
   ]
  },
  {
   "cell_type": "code",
   "execution_count": 14,
   "metadata": {
    "collapsed": false
   },
   "outputs": [
    {
     "name": "stderr",
     "output_type": "stream",
     "text": [
      "D:\\Anaconda\\lib\\site-packages\\ipykernel\\__main__.py:1: FutureWarning: sort(columns=....) is deprecated, use sort_values(by=.....)\n",
      "  if __name__ == '__main__':\n"
     ]
    },
    {
     "data": {
      "text/html": [
       "<div>\n",
       "<table border=\"1\" class=\"dataframe\">\n",
       "  <thead>\n",
       "    <tr style=\"text-align: right;\">\n",
       "      <th></th>\n",
       "      <th>app_id</th>\n",
       "      <th>label_id</th>\n",
       "      <th>category</th>\n",
       "    </tr>\n",
       "  </thead>\n",
       "  <tbody>\n",
       "    <tr>\n",
       "      <th>240267</th>\n",
       "      <td>-9223281467940916832</td>\n",
       "      <td>796</td>\n",
       "      <td>Cards RPG</td>\n",
       "    </tr>\n",
       "    <tr>\n",
       "      <th>287989</th>\n",
       "      <td>-9223281467940916832</td>\n",
       "      <td>795</td>\n",
       "      <td>game</td>\n",
       "    </tr>\n",
       "    <tr>\n",
       "      <th>383426</th>\n",
       "      <td>-9223281467940916832</td>\n",
       "      <td>405</td>\n",
       "      <td>Custom label</td>\n",
       "    </tr>\n",
       "    <tr>\n",
       "      <th>335711</th>\n",
       "      <td>-9223281467940916832</td>\n",
       "      <td>794</td>\n",
       "      <td>Tencent</td>\n",
       "    </tr>\n",
       "    <tr>\n",
       "      <th>432150</th>\n",
       "      <td>-9222877069545393219</td>\n",
       "      <td>135</td>\n",
       "      <td>education outside class</td>\n",
       "    </tr>\n",
       "  </tbody>\n",
       "</table>\n",
       "</div>"
      ],
      "text/plain": [
       "                     app_id  label_id                 category\n",
       "240267 -9223281467940916832       796                Cards RPG\n",
       "287989 -9223281467940916832       795                     game\n",
       "383426 -9223281467940916832       405             Custom label\n",
       "335711 -9223281467940916832       794                  Tencent\n",
       "432150 -9222877069545393219       135  education outside class"
      ]
     },
     "execution_count": 14,
     "metadata": {},
     "output_type": "execute_result"
    }
   ],
   "source": [
    "app_labels.sort('app_id', ascending = [1]).head()"
   ]
  },
  {
   "cell_type": "code",
   "execution_count": 19,
   "metadata": {
    "collapsed": false
   },
   "outputs": [
    {
     "data": {
      "text/plain": [
       "Index([u'app_id', u'label_id'], dtype='object')"
      ]
     },
     "execution_count": 19,
     "metadata": {},
     "output_type": "execute_result"
    }
   ],
   "source": [
    "app_labels.columns"
   ]
  },
  {
   "cell_type": "code",
   "execution_count": null,
   "metadata": {
    "collapsed": true
   },
   "outputs": [],
   "source": []
  }
 ],
 "metadata": {
  "kernelspec": {
   "display_name": "Python 2",
   "language": "python",
   "name": "python2"
  },
  "language_info": {
   "codemirror_mode": {
    "name": "ipython",
    "version": 2
   },
   "file_extension": ".py",
   "mimetype": "text/x-python",
   "name": "python",
   "nbconvert_exporter": "python",
   "pygments_lexer": "ipython2",
   "version": "2.7.12"
  }
 },
 "nbformat": 4,
 "nbformat_minor": 0
}
