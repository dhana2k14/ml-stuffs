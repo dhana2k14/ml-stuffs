{
 "cells": [
  {
   "cell_type": "code",
   "execution_count": 1,
   "metadata": {
    "collapsed": true
   },
   "outputs": [],
   "source": [
    "import zipfile\n",
    "import urllib2\n",
    "import os"
   ]
  },
  {
   "cell_type": "code",
   "execution_count": 4,
   "metadata": {
    "collapsed": true
   },
   "outputs": [],
   "source": [
    "s_url = 'ftp://ftp.nhtsa.dot.gov/GES/GES12/GES12_Flatfile.zip'\n",
    "zip_name = 'GES12_Flatfile.zip'\n",
    "cwd = os.getcwd()\n",
    "dir_path = os.path.join(cwd, 'GES12')\n",
    "zip_path = os.path.join(dir_path, zip_name)"
   ]
  },
  {
   "cell_type": "code",
   "execution_count": 7,
   "metadata": {
    "collapsed": true
   },
   "outputs": [],
   "source": [
    "if not os.path.exists(dir_path):\n",
    "    os.makedirs(dir_path)"
   ]
  },
  {
   "cell_type": "code",
   "execution_count": null,
   "metadata": {
    "collapsed": false
   },
   "outputs": [],
   "source": [
    "if not os.path.exists(zip_path):\n",
    "    response = urllib2.urlopen(s_url)\n",
    "    with open(zip_path,'wb') as f:\n",
    "        x = response.read()\n",
    "        f.write(x)    "
   ]
  },
  {
   "cell_type": "code",
   "execution_count": 10,
   "metadata": {
    "collapsed": true
   },
   "outputs": [],
   "source": [
    "with zipfile.ZipFile(os.path.join(dir_path, zip_path),'r') as z:\n",
    "    z.extractall(dir_path)"
   ]
  },
  {
   "cell_type": "code",
   "execution_count": 12,
   "metadata": {
    "collapsed": true
   },
   "outputs": [],
   "source": [
    "import pandas as pd\n",
    "import numpy as np\n",
    "import sklearn"
   ]
  },
  {
   "cell_type": "code",
   "execution_count": 13,
   "metadata": {
    "collapsed": true
   },
   "outputs": [],
   "source": [
    "input_file_path = os.path.join(dir_path, 'PERSON.txt')"
   ]
  },
  {
   "cell_type": "code",
   "execution_count": 23,
   "metadata": {
    "collapsed": true
   },
   "outputs": [],
   "source": [
    "input_data = pd.read_csv(input_file_path, delimiter = '\\t')"
   ]
  },
  {
   "cell_type": "code",
   "execution_count": 31,
   "metadata": {
    "collapsed": false
   },
   "outputs": [
    {
     "data": {
      "text/html": [
       "<div>\n",
       "<table border=\"1\" class=\"dataframe\">\n",
       "  <thead>\n",
       "    <tr style=\"text-align: right;\">\n",
       "      <th></th>\n",
       "      <th>CASENUM</th>\n",
       "      <th>VEH_NO</th>\n",
       "      <th>PER_NO</th>\n",
       "      <th>SEX_IM</th>\n",
       "      <th>INJSEV_IM</th>\n",
       "      <th>EJECT_IM</th>\n",
       "      <th>PERALCH_IM</th>\n",
       "      <th>SEAT_IM</th>\n",
       "      <th>AGE_IM</th>\n",
       "      <th>VE_FORMS</th>\n",
       "      <th>WEIGHT</th>\n",
       "      <th>REGION</th>\n",
       "      <th>STRATUM</th>\n",
       "      <th>PJ</th>\n",
       "      <th>PSU</th>\n",
       "      <th>PSUSTRAT</th>\n",
       "      <th>STR_VEH</th>\n",
       "      <th>MONTH</th>\n",
       "      <th>HOUR</th>\n",
       "      <th>MINUTE</th>\n",
       "      <th>HARM_EV</th>\n",
       "      <th>MAN_COLL</th>\n",
       "      <th>SCH_BUS</th>\n",
       "      <th>MAKE</th>\n",
       "      <th>BODY_TYP</th>\n",
       "      <th>MOD_YEAR</th>\n",
       "      <th>TOW_VEH</th>\n",
       "      <th>SPEC_USE</th>\n",
       "      <th>EMER_USE</th>\n",
       "      <th>ROLLOVER</th>\n",
       "      <th>IMPACT1</th>\n",
       "      <th>FIRE_EXP</th>\n",
       "      <th>AGE</th>\n",
       "      <th>SEX</th>\n",
       "      <th>PER_TYP</th>\n",
       "      <th>INJ_SEV</th>\n",
       "      <th>SEAT_POS</th>\n",
       "      <th>REST_USE</th>\n",
       "      <th>REST_MIS</th>\n",
       "      <th>AIR_BAG</th>\n",
       "      <th>EJECTION</th>\n",
       "      <th>DRINKING</th>\n",
       "      <th>ALC_STATUS</th>\n",
       "      <th>ATST_TYP</th>\n",
       "      <th>ALC_RES</th>\n",
       "      <th>DRUGS</th>\n",
       "      <th>DSTATUS</th>\n",
       "      <th>DRUGTST1</th>\n",
       "      <th>DRUGTST2</th>\n",
       "      <th>DRUGTST3</th>\n",
       "      <th>DRUGRES1</th>\n",
       "      <th>DRUGRES2</th>\n",
       "      <th>DRUGRES3</th>\n",
       "      <th>HOSPITAL</th>\n",
       "      <th>P_SF1</th>\n",
       "      <th>P_SF2</th>\n",
       "      <th>P_SF3</th>\n",
       "      <th>LOCATION</th>\n",
       "    </tr>\n",
       "  </thead>\n",
       "  <tbody>\n",
       "    <tr>\n",
       "      <th>0</th>\n",
       "      <td>201210432623</td>\n",
       "      <td>1</td>\n",
       "      <td>1</td>\n",
       "      <td>1</td>\n",
       "      <td>0</td>\n",
       "      <td>0</td>\n",
       "      <td>0</td>\n",
       "      <td>11</td>\n",
       "      <td>43</td>\n",
       "      <td>2</td>\n",
       "      <td>27.146</td>\n",
       "      <td>1</td>\n",
       "      <td>2</td>\n",
       "      <td>3</td>\n",
       "      <td>2</td>\n",
       "      <td>3</td>\n",
       "      <td>0</td>\n",
       "      <td>1</td>\n",
       "      <td>14</td>\n",
       "      <td>7</td>\n",
       "      <td>12</td>\n",
       "      <td>6</td>\n",
       "      <td>0</td>\n",
       "      <td>23.0</td>\n",
       "      <td>64.0</td>\n",
       "      <td>2007.0</td>\n",
       "      <td>0.0</td>\n",
       "      <td>0.0</td>\n",
       "      <td>0.0</td>\n",
       "      <td>0.0</td>\n",
       "      <td>12.0</td>\n",
       "      <td>0.0</td>\n",
       "      <td>43</td>\n",
       "      <td>1</td>\n",
       "      <td>1</td>\n",
       "      <td>0</td>\n",
       "      <td>11</td>\n",
       "      <td>3</td>\n",
       "      <td>0</td>\n",
       "      <td>98</td>\n",
       "      <td>0</td>\n",
       "      <td>0</td>\n",
       "      <td>8</td>\n",
       "      <td>95</td>\n",
       "      <td>95</td>\n",
       "      <td>0</td>\n",
       "      <td>8</td>\n",
       "      <td>6</td>\n",
       "      <td>0</td>\n",
       "      <td>0</td>\n",
       "      <td>95</td>\n",
       "      <td>0</td>\n",
       "      <td>0</td>\n",
       "      <td>0</td>\n",
       "      <td>0</td>\n",
       "      <td>0</td>\n",
       "      <td>0</td>\n",
       "      <td>0</td>\n",
       "    </tr>\n",
       "    <tr>\n",
       "      <th>1</th>\n",
       "      <td>201210432623</td>\n",
       "      <td>2</td>\n",
       "      <td>1</td>\n",
       "      <td>2</td>\n",
       "      <td>0</td>\n",
       "      <td>0</td>\n",
       "      <td>0</td>\n",
       "      <td>11</td>\n",
       "      <td>68</td>\n",
       "      <td>2</td>\n",
       "      <td>27.146</td>\n",
       "      <td>1</td>\n",
       "      <td>2</td>\n",
       "      <td>3</td>\n",
       "      <td>2</td>\n",
       "      <td>3</td>\n",
       "      <td>0</td>\n",
       "      <td>1</td>\n",
       "      <td>14</td>\n",
       "      <td>7</td>\n",
       "      <td>12</td>\n",
       "      <td>6</td>\n",
       "      <td>0</td>\n",
       "      <td>6.0</td>\n",
       "      <td>29.0</td>\n",
       "      <td>2006.0</td>\n",
       "      <td>0.0</td>\n",
       "      <td>0.0</td>\n",
       "      <td>0.0</td>\n",
       "      <td>0.0</td>\n",
       "      <td>62.0</td>\n",
       "      <td>0.0</td>\n",
       "      <td>68</td>\n",
       "      <td>2</td>\n",
       "      <td>1</td>\n",
       "      <td>0</td>\n",
       "      <td>11</td>\n",
       "      <td>3</td>\n",
       "      <td>0</td>\n",
       "      <td>98</td>\n",
       "      <td>0</td>\n",
       "      <td>0</td>\n",
       "      <td>8</td>\n",
       "      <td>95</td>\n",
       "      <td>95</td>\n",
       "      <td>0</td>\n",
       "      <td>8</td>\n",
       "      <td>6</td>\n",
       "      <td>0</td>\n",
       "      <td>0</td>\n",
       "      <td>95</td>\n",
       "      <td>0</td>\n",
       "      <td>0</td>\n",
       "      <td>0</td>\n",
       "      <td>0</td>\n",
       "      <td>0</td>\n",
       "      <td>0</td>\n",
       "      <td>0</td>\n",
       "    </tr>\n",
       "    <tr>\n",
       "      <th>2</th>\n",
       "      <td>201210432628</td>\n",
       "      <td>1</td>\n",
       "      <td>1</td>\n",
       "      <td>1</td>\n",
       "      <td>1</td>\n",
       "      <td>0</td>\n",
       "      <td>0</td>\n",
       "      <td>11</td>\n",
       "      <td>67</td>\n",
       "      <td>2</td>\n",
       "      <td>54.292</td>\n",
       "      <td>1</td>\n",
       "      <td>5</td>\n",
       "      <td>3</td>\n",
       "      <td>2</td>\n",
       "      <td>3</td>\n",
       "      <td>0</td>\n",
       "      <td>1</td>\n",
       "      <td>13</td>\n",
       "      <td>41</td>\n",
       "      <td>12</td>\n",
       "      <td>1</td>\n",
       "      <td>0</td>\n",
       "      <td>20.0</td>\n",
       "      <td>49.0</td>\n",
       "      <td>2005.0</td>\n",
       "      <td>0.0</td>\n",
       "      <td>0.0</td>\n",
       "      <td>0.0</td>\n",
       "      <td>0.0</td>\n",
       "      <td>6.0</td>\n",
       "      <td>0.0</td>\n",
       "      <td>67</td>\n",
       "      <td>1</td>\n",
       "      <td>1</td>\n",
       "      <td>1</td>\n",
       "      <td>11</td>\n",
       "      <td>3</td>\n",
       "      <td>0</td>\n",
       "      <td>98</td>\n",
       "      <td>0</td>\n",
       "      <td>0</td>\n",
       "      <td>8</td>\n",
       "      <td>95</td>\n",
       "      <td>95</td>\n",
       "      <td>0</td>\n",
       "      <td>8</td>\n",
       "      <td>6</td>\n",
       "      <td>0</td>\n",
       "      <td>0</td>\n",
       "      <td>95</td>\n",
       "      <td>0</td>\n",
       "      <td>0</td>\n",
       "      <td>5</td>\n",
       "      <td>0</td>\n",
       "      <td>0</td>\n",
       "      <td>0</td>\n",
       "      <td>0</td>\n",
       "    </tr>\n",
       "    <tr>\n",
       "      <th>3</th>\n",
       "      <td>201210432628</td>\n",
       "      <td>1</td>\n",
       "      <td>2</td>\n",
       "      <td>2</td>\n",
       "      <td>1</td>\n",
       "      <td>0</td>\n",
       "      <td>0</td>\n",
       "      <td>13</td>\n",
       "      <td>69</td>\n",
       "      <td>2</td>\n",
       "      <td>54.292</td>\n",
       "      <td>1</td>\n",
       "      <td>5</td>\n",
       "      <td>3</td>\n",
       "      <td>2</td>\n",
       "      <td>3</td>\n",
       "      <td>0</td>\n",
       "      <td>1</td>\n",
       "      <td>13</td>\n",
       "      <td>41</td>\n",
       "      <td>12</td>\n",
       "      <td>1</td>\n",
       "      <td>0</td>\n",
       "      <td>20.0</td>\n",
       "      <td>49.0</td>\n",
       "      <td>2005.0</td>\n",
       "      <td>0.0</td>\n",
       "      <td>0.0</td>\n",
       "      <td>0.0</td>\n",
       "      <td>0.0</td>\n",
       "      <td>6.0</td>\n",
       "      <td>0.0</td>\n",
       "      <td>69</td>\n",
       "      <td>2</td>\n",
       "      <td>2</td>\n",
       "      <td>1</td>\n",
       "      <td>13</td>\n",
       "      <td>3</td>\n",
       "      <td>0</td>\n",
       "      <td>98</td>\n",
       "      <td>0</td>\n",
       "      <td>8</td>\n",
       "      <td>0</td>\n",
       "      <td>0</td>\n",
       "      <td>96</td>\n",
       "      <td>8</td>\n",
       "      <td>0</td>\n",
       "      <td>0</td>\n",
       "      <td>0</td>\n",
       "      <td>0</td>\n",
       "      <td>0</td>\n",
       "      <td>0</td>\n",
       "      <td>0</td>\n",
       "      <td>5</td>\n",
       "      <td>0</td>\n",
       "      <td>0</td>\n",
       "      <td>0</td>\n",
       "      <td>0</td>\n",
       "    </tr>\n",
       "    <tr>\n",
       "      <th>4</th>\n",
       "      <td>201210432628</td>\n",
       "      <td>2</td>\n",
       "      <td>1</td>\n",
       "      <td>2</td>\n",
       "      <td>0</td>\n",
       "      <td>0</td>\n",
       "      <td>0</td>\n",
       "      <td>11</td>\n",
       "      <td>36</td>\n",
       "      <td>2</td>\n",
       "      <td>54.292</td>\n",
       "      <td>1</td>\n",
       "      <td>5</td>\n",
       "      <td>3</td>\n",
       "      <td>2</td>\n",
       "      <td>3</td>\n",
       "      <td>0</td>\n",
       "      <td>1</td>\n",
       "      <td>13</td>\n",
       "      <td>41</td>\n",
       "      <td>12</td>\n",
       "      <td>1</td>\n",
       "      <td>0</td>\n",
       "      <td>12.0</td>\n",
       "      <td>39.0</td>\n",
       "      <td>2000.0</td>\n",
       "      <td>0.0</td>\n",
       "      <td>0.0</td>\n",
       "      <td>0.0</td>\n",
       "      <td>0.0</td>\n",
       "      <td>12.0</td>\n",
       "      <td>0.0</td>\n",
       "      <td>36</td>\n",
       "      <td>2</td>\n",
       "      <td>1</td>\n",
       "      <td>0</td>\n",
       "      <td>11</td>\n",
       "      <td>3</td>\n",
       "      <td>0</td>\n",
       "      <td>98</td>\n",
       "      <td>0</td>\n",
       "      <td>0</td>\n",
       "      <td>8</td>\n",
       "      <td>95</td>\n",
       "      <td>95</td>\n",
       "      <td>0</td>\n",
       "      <td>8</td>\n",
       "      <td>6</td>\n",
       "      <td>0</td>\n",
       "      <td>0</td>\n",
       "      <td>95</td>\n",
       "      <td>0</td>\n",
       "      <td>0</td>\n",
       "      <td>0</td>\n",
       "      <td>0</td>\n",
       "      <td>0</td>\n",
       "      <td>0</td>\n",
       "      <td>0</td>\n",
       "    </tr>\n",
       "  </tbody>\n",
       "</table>\n",
       "</div>"
      ],
      "text/plain": [
       "        CASENUM  VEH_NO  PER_NO  SEX_IM  INJSEV_IM  EJECT_IM  PERALCH_IM  \\\n",
       "0  201210432623       1       1       1          0         0           0   \n",
       "1  201210432623       2       1       2          0         0           0   \n",
       "2  201210432628       1       1       1          1         0           0   \n",
       "3  201210432628       1       2       2          1         0           0   \n",
       "4  201210432628       2       1       2          0         0           0   \n",
       "\n",
       "   SEAT_IM  AGE_IM  VE_FORMS  WEIGHT  REGION  STRATUM  PJ  PSU  PSUSTRAT  \\\n",
       "0       11      43         2  27.146       1        2   3    2         3   \n",
       "1       11      68         2  27.146       1        2   3    2         3   \n",
       "2       11      67         2  54.292       1        5   3    2         3   \n",
       "3       13      69         2  54.292       1        5   3    2         3   \n",
       "4       11      36         2  54.292       1        5   3    2         3   \n",
       "\n",
       "   STR_VEH  MONTH  HOUR  MINUTE  HARM_EV  MAN_COLL  SCH_BUS  MAKE  BODY_TYP  \\\n",
       "0        0      1    14       7       12         6        0  23.0      64.0   \n",
       "1        0      1    14       7       12         6        0   6.0      29.0   \n",
       "2        0      1    13      41       12         1        0  20.0      49.0   \n",
       "3        0      1    13      41       12         1        0  20.0      49.0   \n",
       "4        0      1    13      41       12         1        0  12.0      39.0   \n",
       "\n",
       "   MOD_YEAR  TOW_VEH  SPEC_USE  EMER_USE  ROLLOVER  IMPACT1  FIRE_EXP  AGE  \\\n",
       "0    2007.0      0.0       0.0       0.0       0.0     12.0       0.0   43   \n",
       "1    2006.0      0.0       0.0       0.0       0.0     62.0       0.0   68   \n",
       "2    2005.0      0.0       0.0       0.0       0.0      6.0       0.0   67   \n",
       "3    2005.0      0.0       0.0       0.0       0.0      6.0       0.0   69   \n",
       "4    2000.0      0.0       0.0       0.0       0.0     12.0       0.0   36   \n",
       "\n",
       "   SEX  PER_TYP  INJ_SEV  SEAT_POS  REST_USE  REST_MIS  AIR_BAG  EJECTION  \\\n",
       "0    1        1        0        11         3         0       98         0   \n",
       "1    2        1        0        11         3         0       98         0   \n",
       "2    1        1        1        11         3         0       98         0   \n",
       "3    2        2        1        13         3         0       98         0   \n",
       "4    2        1        0        11         3         0       98         0   \n",
       "\n",
       "   DRINKING  ALC_STATUS  ATST_TYP  ALC_RES  DRUGS  DSTATUS  DRUGTST1  \\\n",
       "0         0           8        95       95      0        8         6   \n",
       "1         0           8        95       95      0        8         6   \n",
       "2         0           8        95       95      0        8         6   \n",
       "3         8           0         0       96      8        0         0   \n",
       "4         0           8        95       95      0        8         6   \n",
       "\n",
       "   DRUGTST2  DRUGTST3  DRUGRES1  DRUGRES2  DRUGRES3  HOSPITAL  P_SF1  P_SF2  \\\n",
       "0         0         0        95         0         0         0      0      0   \n",
       "1         0         0        95         0         0         0      0      0   \n",
       "2         0         0        95         0         0         5      0      0   \n",
       "3         0         0         0         0         0         5      0      0   \n",
       "4         0         0        95         0         0         0      0      0   \n",
       "\n",
       "   P_SF3  LOCATION  \n",
       "0      0         0  \n",
       "1      0         0  \n",
       "2      0         0  \n",
       "3      0         0  \n",
       "4      0         0  "
      ]
     },
     "execution_count": 31,
     "metadata": {},
     "output_type": "execute_result"
    }
   ],
   "source": [
    "input_data.head()"
   ]
  },
  {
   "cell_type": "code",
   "execution_count": 24,
   "metadata": {
    "collapsed": false
   },
   "outputs": [
    {
     "data": {
      "text/plain": [
       "0    100840\n",
       "2     20758\n",
       "1     19380\n",
       "3      9738\n",
       "5      1179\n",
       "4      1178\n",
       "6         4\n",
       "Name: INJSEV_IM, dtype: int64"
      ]
     },
     "execution_count": 24,
     "metadata": {},
     "output_type": "execute_result"
    }
   ],
   "source": [
    "input_data['INJSEV_IM'].value_counts()"
   ]
  },
  {
   "cell_type": "code",
   "execution_count": 25,
   "metadata": {
    "collapsed": false
   },
   "outputs": [],
   "source": [
    "input_data = input_data[input_data.INJSEV_IM != 6]"
   ]
  },
  {
   "cell_type": "code",
   "execution_count": 27,
   "metadata": {
    "collapsed": false
   },
   "outputs": [
    {
     "name": "stdout",
     "output_type": "stream",
     "text": [
      "MAKE 5162\n",
      "BODY_TYP 5162\n",
      "MOD_YEAR 5162\n",
      "TOW_VEH 5162\n",
      "SPEC_USE 5162\n",
      "EMER_USE 5162\n",
      "ROLLOVER 5162\n",
      "IMPACT1 5162\n",
      "FIRE_EXP 5162\n"
     ]
    }
   ],
   "source": [
    "for cols in input_data.columns:\n",
    "    n_nan = input_data[cols].isnull().sum()\n",
    "    if n_nan > 0:\n",
    "        print cols, n_nan"
   ]
  },
  {
   "cell_type": "code",
   "execution_count": 30,
   "metadata": {
    "collapsed": false
   },
   "outputs": [],
   "source": [
    "pd.set_option('display.max.columns',100)"
   ]
  },
  {
   "cell_type": "code",
   "execution_count": 32,
   "metadata": {
    "collapsed": false
   },
   "outputs": [
    {
     "name": "stdout",
     "output_type": "stream",
     "text": [
      "(153073, 58)\n"
     ]
    }
   ],
   "source": [
    "print input_data.shape"
   ]
  },
  {
   "cell_type": "code",
   "execution_count": 33,
   "metadata": {
    "collapsed": true
   },
   "outputs": [],
   "source": [
    "data = input_data[~input_data.MAKE.isnull()]"
   ]
  },
  {
   "cell_type": "code",
   "execution_count": 35,
   "metadata": {
    "collapsed": false
   },
   "outputs": [],
   "source": [
    "discarded = data.pop('INJ_SEV')"
   ]
  },
  {
   "cell_type": "code",
   "execution_count": 36,
   "metadata": {
    "collapsed": true
   },
   "outputs": [],
   "source": [
    "target = data.pop('INJSEV_IM')"
   ]
  },
  {
   "cell_type": "code",
   "execution_count": 37,
   "metadata": {
    "collapsed": false
   },
   "outputs": [
    {
     "name": "stdout",
     "output_type": "stream",
     "text": [
      "(147911, 56)\n"
     ]
    }
   ],
   "source": [
    "print data.shape"
   ]
  },
  {
   "cell_type": "code",
   "execution_count": 43,
   "metadata": {
    "collapsed": false
   },
   "outputs": [
    {
     "data": {
      "text/plain": [
       "0    0.0\n",
       "1    0.0\n",
       "2    0.0\n",
       "3    0.0\n",
       "4    0.0\n",
       "Name: INJSEV_IM, dtype: float64"
      ]
     },
     "execution_count": 43,
     "metadata": {},
     "output_type": "execute_result"
    }
   ],
   "source": [
    "target.head()"
   ]
  },
  {
   "cell_type": "code",
   "execution_count": 42,
   "metadata": {
    "collapsed": true
   },
   "outputs": [],
   "source": [
    "target = (target == 4).astype('float')"
   ]
  },
  {
   "cell_type": "code",
   "execution_count": 60,
   "metadata": {
    "collapsed": true
   },
   "outputs": [],
   "source": [
    "from sklearn.linear_model import LinearRegression\n",
    "from sklearn.metrics import roc_auc_score\n",
    "from sklearn.grid_search import GridSearchCV"
   ]
  },
  {
   "cell_type": "code",
   "execution_count": 53,
   "metadata": {
    "collapsed": true
   },
   "outputs": [],
   "source": [
    "xtrain, xtest, ytrain, ytest = sklearn.cross_validation.train_test_split(data, target, train_size = 0.5)"
   ]
  },
  {
   "cell_type": "code",
   "execution_count": 61,
   "metadata": {
    "collapsed": false
   },
   "outputs": [
    {
     "data": {
      "text/plain": [
       "LinearRegression(copy_X=True, fit_intercept=True, n_jobs=1, normalize=False)"
      ]
     },
     "execution_count": 61,
     "metadata": {},
     "output_type": "execute_result"
    }
   ],
   "source": [
    "linreg = LinearRegression()\n",
    "linreg.fit(xtrain, ytrain)"
   ]
  },
  {
   "cell_type": "code",
   "execution_count": 62,
   "metadata": {
    "collapsed": false
   },
   "outputs": [
    {
     "name": "stdout",
     "output_type": "stream",
     "text": [
      "OLS: Area Under the ROC Curve = 0.936801085828\n"
     ]
    }
   ],
   "source": [
    "lr_preds = linreg.predict(xtest)\n",
    "lr_perf = roc_auc_score(ytest, lr_preds)\n",
    "print 'OLS: Area Under the ROC Curve = {}'.format(lr_perf)"
   ]
  },
  {
   "cell_type": "code",
   "execution_count": 63,
   "metadata": {
    "collapsed": true
   },
   "outputs": [],
   "source": [
    "from sklearn.linear_model import Ridge"
   ]
  },
  {
   "cell_type": "code",
   "execution_count": 64,
   "metadata": {
    "collapsed": false
   },
   "outputs": [
    {
     "name": "stdout",
     "output_type": "stream",
     "text": [
      "Ridge : Area Under the ROC Curve = 0.93680132195\n"
     ]
    }
   ],
   "source": [
    "ridge = GridSearchCV(Ridge(), {'alpha':np.logspace(-10,10,10)})\n",
    "ridge_model = ridge.fit(xtrain, ytrain)\n",
    "ri_preds = ridge_model.predict(xtest)\n",
    "ri_perf = roc_auc_score(ytest, ri_preds)\n",
    "print 'Ridge : Area Under the ROC Curve = {}'.format(ri_perf)"
   ]
  },
  {
   "cell_type": "code",
   "execution_count": 66,
   "metadata": {
    "collapsed": true
   },
   "outputs": [],
   "source": [
    "from sklearn.linear_model import Lasso"
   ]
  },
  {
   "cell_type": "code",
   "execution_count": 70,
   "metadata": {
    "collapsed": false
   },
   "outputs": [
    {
     "name": "stdout",
     "output_type": "stream",
     "text": [
      "Lasso : Area Under the ROC Curve = 0.936801474735\n"
     ]
    }
   ],
   "source": [
    "lasso = GridSearchCV(Lasso(max_iter = 1500), {'alpha':np.logspace(-10,-8,5)})\n",
    "lasso_model = lasso.fit(xtrain, ytrain)\n",
    "la_preds = lasso_model.predict(xtest)\n",
    "la_perf = roc_auc_score(ytest, la_preds)\n",
    "print 'Lasso : Area Under the ROC Curve = {}'.format(la_perf)"
   ]
  },
  {
   "cell_type": "code",
   "execution_count": 71,
   "metadata": {
    "collapsed": true
   },
   "outputs": [],
   "source": [
    "from sklearn.ensemble import GradientBoostingClassifier"
   ]
  },
  {
   "cell_type": "code",
   "execution_count": 76,
   "metadata": {
    "collapsed": true
   },
   "outputs": [],
   "source": [
    "gbm = GradientBoostingClassifier(n_estimators = 500)"
   ]
  },
  {
   "cell_type": "code",
   "execution_count": 77,
   "metadata": {
    "collapsed": false
   },
   "outputs": [
    {
     "name": "stdout",
     "output_type": "stream",
     "text": [
      "GBM : Area Under the ROC Curve = 0.975948696523\n"
     ]
    }
   ],
   "source": [
    "gbm.fit(xtrain, ytrain)\n",
    "gbm_preds = gbm.predict_proba(xtest)[:,1]\n",
    "gbm_perf = roc_auc_score(ytest, gbm_preds)\n",
    "print 'GBM : Area Under the ROC Curve = {}'.format(gbm_perf)"
   ]
  },
  {
   "cell_type": "code",
   "execution_count": 81,
   "metadata": {
    "collapsed": false
   },
   "outputs": [],
   "source": [
    "from sklearn.tree import DecisionTreeClassifier"
   ]
  },
  {
   "cell_type": "code",
   "execution_count": 84,
   "metadata": {
    "collapsed": false
   },
   "outputs": [
    {
     "name": "stdout",
     "output_type": "stream",
     "text": [
      "Decision Tree: Area Under the ROC Curve = 0.906524814755\n"
     ]
    }
   ],
   "source": [
    "tree = GridSearchCV(DecisionTreeClassifier(), {'max_depth':np.arange(3,10)})\n",
    "tree.fit(xtrain, ytrain)\n",
    "tree_preds = tree.predict_proba(xtest)[:,1]\n",
    "tree_perf = roc_auc_score(ytest, tree_preds)\n",
    "print 'Decision Tree: Area Under the ROC Curve = {}'.format(tree_perf)"
   ]
  },
  {
   "cell_type": "code",
   "execution_count": 91,
   "metadata": {
    "collapsed": false
   },
   "outputs": [
    {
     "name": "stdout",
     "output_type": "stream",
     "text": [
      "STRATUM     0.093225\n",
      "WEIGHT      0.063758\n",
      "EJECT_IM    0.054859\n",
      "HARM_EV     0.045015\n",
      "MOD_YEAR    0.044824\n",
      "HOSPITAL    0.043615\n",
      "DRINKING    0.043468\n",
      "MINUTE      0.041991\n",
      "AGE_IM      0.041362\n",
      "HOUR        0.039497\n",
      "dtype: float64\n"
     ]
    },
    {
     "name": "stderr",
     "output_type": "stream",
     "text": [
      "d:\\anaconda\\lib\\site-packages\\ipykernel\\__main__.py:2: FutureWarning: order is deprecated, use sort_values(...)\n",
      "  from ipykernel import kernelapp as app\n"
     ]
    }
   ],
   "source": [
    "importances = pd.Series(gbm.feature_importances_, index = data.columns)\n",
    "print importances.order(ascending = False)[:10]"
   ]
  },
  {
   "cell_type": "code",
   "execution_count": null,
   "metadata": {
    "collapsed": true
   },
   "outputs": [],
   "source": []
  }
 ],
 "metadata": {
  "kernelspec": {
   "display_name": "Python 2",
   "language": "python",
   "name": "python2"
  },
  "language_info": {
   "codemirror_mode": {
    "name": "ipython",
    "version": 2
   },
   "file_extension": ".py",
   "mimetype": "text/x-python",
   "name": "python",
   "nbconvert_exporter": "python",
   "pygments_lexer": "ipython2",
   "version": "2.7.12"
  }
 },
 "nbformat": 4,
 "nbformat_minor": 0
}
