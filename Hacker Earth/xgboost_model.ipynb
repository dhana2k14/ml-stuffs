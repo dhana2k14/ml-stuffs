{
 "cells": [
  {
   "cell_type": "code",
   "execution_count": 1,
   "metadata": {},
   "outputs": [
    {
     "name": "stderr",
     "output_type": "stream",
     "text": [
      "C:\\Users\\33093\\AppData\\Local\\Continuum\\Anaconda2\\lib\\site-packages\\sklearn\\cross_validation.py:44: DeprecationWarning: This module was deprecated in version 0.18 in favor of the model_selection module into which all the refactored classes and functions are moved. Also note that the interface of the new CV iterators are different from that of this module. This module will be removed in 0.20.\n",
      "  \"This module will be removed in 0.20.\", DeprecationWarning)\n"
     ]
    }
   ],
   "source": [
    "from pandas.core.categorical import Categorical\n",
    "from scipy.sparse import csr_matrix\n",
    "import numpy as np\n",
    "import pandas as pd\n",
    "from xgboost import XGBClassifier"
   ]
  },
  {
   "cell_type": "code",
   "execution_count": 3,
   "metadata": {
    "collapsed": true
   },
   "outputs": [],
   "source": [
    "train_data = pd.read_csv('train_data.csv')\n",
    "test_data = pd.read_csv('test_data.csv')"
   ]
  },
  {
   "cell_type": "code",
   "execution_count": 3,
   "metadata": {},
   "outputs": [
    {
     "name": "stdout",
     "output_type": "stream",
     "text": [
      "Index([u'connection_id', u'cont_1', u'cont_2', u'cont_3', u'cont_4', u'cont_5',\n",
      "       u'cont_6', u'cont_7', u'cont_8', u'cont_9', u'cont_10', u'cont_11',\n",
      "       u'cont_12', u'cont_13', u'cont_14', u'cont_15', u'cont_16', u'cont_17',\n",
      "       u'cont_18', u'cat_1', u'cat_2', u'cat_3', u'cat_4', u'cat_5', u'cat_6',\n",
      "       u'cat_7', u'cat_8', u'cat_9', u'cat_10', u'cat_11', u'cat_12',\n",
      "       u'cat_13', u'cat_14', u'cat_15', u'cat_16', u'cat_17', u'cat_18',\n",
      "       u'cat_19', u'cat_20', u'cat_21', u'cat_22', u'cat_23', u'target'],\n",
      "      dtype='object')\n"
     ]
    }
   ],
   "source": [
    "print train_data.columns"
   ]
  },
  {
   "cell_type": "code",
   "execution_count": 4,
   "metadata": {
    "collapsed": true
   },
   "outputs": [],
   "source": [
    "def sparse_dummies(categorical_values):\n",
    "    categories = Categorical(categorical_values)\n",
    "    N = len(categorical_values)\n",
    "    row_numbers = np.arange(N, dtype = np.int)\n",
    "    ones = np.ones((N,))\n",
    "    return csr_matrix((ones, (row_numbers, categories.codes)))"
   ]
  },
  {
   "cell_type": "code",
   "execution_count": 5,
   "metadata": {},
   "outputs": [
    {
     "data": {
      "text/plain": [
       "<169307x3 sparse matrix of type '<type 'numpy.float64'>'\n",
       "\twith 169307 stored elements in Compressed Sparse Row format>"
      ]
     },
     "execution_count": 5,
     "metadata": {},
     "output_type": "execute_result"
    }
   ],
   "source": [
    "sparse_dummies(train_data['target'])"
   ]
  },
  {
   "cell_type": "markdown",
   "metadata": {},
   "source": [
    "# One Hot Encode Categorical Data"
   ]
  },
  {
   "cell_type": "code",
   "execution_count": 4,
   "metadata": {
    "collapsed": true
   },
   "outputs": [],
   "source": [
    "from sklearn import preprocessing\n",
    "from sklearn.preprocessing import OneHotEncoder"
   ]
  },
  {
   "cell_type": "code",
   "execution_count": 5,
   "metadata": {
    "collapsed": true
   },
   "outputs": [],
   "source": [
    "X = train_data.values[:,1:19]\n",
    "Y = train_data.values[:,42]\n",
    "X_Cat = train_data.values[:,19:42]"
   ]
  },
  {
   "cell_type": "code",
   "execution_count": 6,
   "metadata": {},
   "outputs": [
    {
     "name": "stdout",
     "output_type": "stream",
     "text": [
      "(169307L, 23L) (169307L, 18L) (169307L,)\n"
     ]
    }
   ],
   "source": [
    "print X_Cat.shape, X.shape, Y.shape"
   ]
  },
  {
   "cell_type": "code",
   "execution_count": 7,
   "metadata": {
    "collapsed": true
   },
   "outputs": [],
   "source": [
    "encoded_x = None\n",
    "for i in range(0, X_Cat.shape[1]):\n",
    "    le = preprocessing.LabelEncoder()\n",
    "    le_fit = le.fit(X_Cat[:,i])\n",
    "    feature = le_fit.transform(X_Cat[:,i])\n",
    "    feature = feature.reshape(X_Cat.shape[0], 1)\n",
    "    onehot_en = OneHotEncoder(sparse = False)\n",
    "    feature = onehot_en.fit_transform(feature) \n",
    "    if encoded_x is None:\n",
    "        encoded_x = feature\n",
    "    else:\n",
    "        encoded_x = np.concatenate((encoded_x, feature), axis = 1)"
   ]
  },
  {
   "cell_type": "code",
   "execution_count": 8,
   "metadata": {},
   "outputs": [
    {
     "name": "stdout",
     "output_type": "stream",
     "text": [
      "('X_Cat Shape : ', (169307L, 1501L))\n",
      "('X Shape: ', (169307L, 18L))\n",
      "<type 'numpy.ndarray'>\n"
     ]
    }
   ],
   "source": [
    "print (\"X_Cat Shape : \", encoded_x.shape)\n",
    "print (\"X Shape: \", X.shape)\n",
    "print type(encoded_x)"
   ]
  },
  {
   "cell_type": "code",
   "execution_count": null,
   "metadata": {
    "collapsed": true
   },
   "outputs": [],
   "source": [
    "x_train = np.concatenate((X, encoded_x), axis = 1)"
   ]
  },
  {
   "cell_type": "code",
   "execution_count": 11,
   "metadata": {
    "collapsed": true
   },
   "outputs": [],
   "source": [
    "le_y = preprocessing.LabelEncoder()\n",
    "y = le_y.fit(Y)\n",
    "y = le_y.transform(Y)"
   ]
  },
  {
   "cell_type": "code",
   "execution_count": 12,
   "metadata": {},
   "outputs": [
    {
     "data": {
      "text/plain": [
       "XGBClassifier(base_score=0.5, colsample_bylevel=1, colsample_bytree=1,\n",
       "       gamma=0, learning_rate=0.1, max_delta_step=0, max_depth=3,\n",
       "       min_child_weight=1, missing=None, n_estimators=100, nthread=-1,\n",
       "       objective='binary:logistic', reg_alpha=0, reg_lambda=1,\n",
       "       scale_pos_weight=1, seed=0, silent=True, subsample=1)"
      ]
     },
     "execution_count": 12,
     "metadata": {},
     "output_type": "execute_result"
    }
   ],
   "source": [
    "model = XGBClassifier()\n",
    "model.fit(x_train, y)"
   ]
  },
  {
   "cell_type": "code",
   "execution_count": null,
   "metadata": {
    "collapsed": true
   },
   "outputs": [],
   "source": []
  }
 ],
 "metadata": {
  "kernelspec": {
   "display_name": "Python 2",
   "language": "python",
   "name": "python2"
  },
  "language_info": {
   "codemirror_mode": {
    "name": "ipython",
    "version": 2
   },
   "file_extension": ".py",
   "mimetype": "text/x-python",
   "name": "python",
   "nbconvert_exporter": "python",
   "pygments_lexer": "ipython2",
   "version": "2.7.13"
  }
 },
 "nbformat": 4,
 "nbformat_minor": 2
}
