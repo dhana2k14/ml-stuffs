{
 "cells": [
  {
   "cell_type": "code",
   "execution_count": 2,
   "metadata": {
    "collapsed": true
   },
   "outputs": [],
   "source": [
    "from pandas.core.categorical import Categorical\n",
    "from scipy.sparse import csr_matrix\n",
    "import numpy as np\n",
    "import pandas as pd"
   ]
  },
  {
   "cell_type": "code",
   "execution_count": 3,
   "metadata": {
    "collapsed": true
   },
   "outputs": [],
   "source": [
    "train_data = pd.read_csv('train_data.csv')\n",
    "test_data = pd.read_csv('test_data.csv')"
   ]
  },
  {
   "cell_type": "code",
   "execution_count": 84,
   "metadata": {},
   "outputs": [
    {
     "name": "stdout",
     "output_type": "stream",
     "text": [
      "1     129734\n",
      "8      28955\n",
      "6      10059\n",
      "9        283\n",
      "7        209\n",
      "11        33\n",
      "3         11\n",
      "4          9\n",
      "10         7\n",
      "2          6\n",
      "5          1\n",
      "Name: cat_3, dtype: int64\n"
     ]
    }
   ],
   "source": [
    "print train_data['cat_3'].value_counts()"
   ]
  },
  {
   "cell_type": "code",
   "execution_count": 21,
   "metadata": {
    "collapsed": true
   },
   "outputs": [],
   "source": [
    "def sparse_dummies(categorical_values):\n",
    "    categories = Categorical(categorical_values)\n",
    "    N = len(categorical_values)\n",
    "    row_numbers = np.arange(N, dtype = np.int)\n",
    "    ones = np.ones((N,))\n",
    "    return csr_matrix((ones, (row_numbers, categories.codes)))"
   ]
  },
  {
   "cell_type": "code",
   "execution_count": 22,
   "metadata": {},
   "outputs": [
    {
     "data": {
      "text/plain": [
       "<169307x3 sparse matrix of type '<type 'numpy.float64'>'\n",
       "\twith 169307 stored elements in Compressed Sparse Row format>"
      ]
     },
     "execution_count": 22,
     "metadata": {},
     "output_type": "execute_result"
    }
   ],
   "source": [
    "sparse_dummies(train_data['target'])"
   ]
  },
  {
   "cell_type": "markdown",
   "metadata": {},
   "source": [
    "# One Hot Encode Categorical Data"
   ]
  },
  {
   "cell_type": "code",
   "execution_count": 55,
   "metadata": {},
   "outputs": [],
   "source": [
    "from sklearn import preprocessing\n",
    "from sklearn.preprocessing import OneHotEncoder"
   ]
  },
  {
   "cell_type": "code",
   "execution_count": null,
   "metadata": {},
   "outputs": [],
   "source": [
    "X = train_data.values[:,1:42]\n",
    "Y = train_data.values[:,42]\n",
    "X_Cat = train_data.values[:,19:42]"
   ]
  },
  {
   "cell_type": "code",
   "execution_count": 67,
   "metadata": {},
   "outputs": [
    {
     "name": "stdout",
     "output_type": "stream",
     "text": [
      "(169307L, 23L)\n"
     ]
    }
   ],
   "source": [
    "print X_Cat.shape"
   ]
  },
  {
   "cell_type": "code",
   "execution_count": 87,
   "metadata": {},
   "outputs": [],
   "source": [
    "encoded_x = None\n",
    "for i in range(0, X_Cat.shape[1]):\n",
    "    le = preprocessing.LabelEncoder()\n",
    "    le_fit = le.fit(X_Cat[:,i])\n",
    "    feature = le_fit.transform(X_Cat[:,i])\n",
    "    feature = feature.reshape(X_Cat.shape[0], 1)\n",
    "    onehot_en = OneHotEncoder(sparse = False)\n",
    "    feature = onehot_en.fit_transform(feature) \n",
    "#     print feature.shape\n",
    "#     print feature[1]\n",
    "    if encoded_x is None:\n",
    "        encoded_x = feature\n",
    "    else:\n",
    "        encoded_x = np.concatenate((encoded_x, feature), axis = 1)"
   ]
  },
  {
   "cell_type": "code",
   "execution_count": 89,
   "metadata": {},
   "outputs": [
    {
     "name": "stdout",
     "output_type": "stream",
     "text": [
      "[[ 0.  0.  1. ...,  0.  0.  1.]\n",
      " [ 0.  0.  1. ...,  0.  0.  1.]\n",
      " [ 0.  0.  1. ...,  0.  0.  1.]\n",
      " ..., \n",
      " [ 1.  0.  0. ...,  0.  0.  1.]\n",
      " [ 0.  0.  1. ...,  0.  0.  1.]\n",
      " [ 1.  0.  0. ...,  0.  0.  1.]]\n"
     ]
    }
   ],
   "source": [
    "print encoded_x"
   ]
  },
  {
   "cell_type": "code",
   "execution_count": 72,
   "metadata": {},
   "outputs": [
    {
     "name": "stdout",
     "output_type": "stream",
     "text": [
      "('X_Cat Shape : ', (169307L, 1501L))\n",
      "('X Shape: ', (169307L, 41L))\n",
      "<type 'numpy.ndarray'>\n"
     ]
    }
   ],
   "source": [
    "print (\"X_Cat Shape : \", encoded_x.shape)\n",
    "print (\"X Shape: \", X.shape)\n",
    "print type(encoded_x)"
   ]
  },
  {
   "cell_type": "code",
   "execution_count": null,
   "metadata": {
    "collapsed": true
   },
   "outputs": [],
   "source": []
  }
 ],
 "metadata": {
  "kernelspec": {
   "display_name": "Python 2",
   "language": "python",
   "name": "python2"
  },
  "language_info": {
   "codemirror_mode": {
    "name": "ipython",
    "version": 2
   },
   "file_extension": ".py",
   "mimetype": "text/x-python",
   "name": "python",
   "nbconvert_exporter": "python",
   "pygments_lexer": "ipython2",
   "version": "2.7.13"
  }
 },
 "nbformat": 4,
 "nbformat_minor": 2
}
