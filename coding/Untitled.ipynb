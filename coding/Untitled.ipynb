{
 "cells": [
  {
   "cell_type": "code",
   "execution_count": 3,
   "metadata": {
    "collapsed": false
   },
   "outputs": [
    {
     "name": "stdout",
     "output_type": "stream",
     "text": [
      "0    [{u'models': [{u'years': [{u'id': 3407, u'year...\n",
      "Name: makes, dtype: object\n"
     ]
    }
   ],
   "source": [
    "import urllib2\n",
    "import json\n",
    "import pandas as pd\n",
    "from pandas.io.json import json_normalize\n",
    "\n",
    "url = 'https://api.edmunds.com/api/vehicle/v2/makes?fmt=json&api_key=bh5n4r5yxvkqycjh4vr4jsg4'\n",
    "response = urllib2.urlopen(url)\n",
    "json_data = json.loads(response.read())\n",
    "json_df = json_normalize(json_data)\n",
    "\n",
    "print json_df['makes'].head()"
   ]
  },
  {
   "cell_type": "code",
   "execution_count": null,
   "metadata": {
    "collapsed": true
   },
   "outputs": [],
   "source": []
  }
 ],
 "metadata": {
  "kernelspec": {
   "display_name": "Python 2",
   "language": "python",
   "name": "python2"
  },
  "language_info": {
   "codemirror_mode": {
    "name": "ipython",
    "version": 2
   },
   "file_extension": ".py",
   "mimetype": "text/x-python",
   "name": "python",
   "nbconvert_exporter": "python",
   "pygments_lexer": "ipython2",
   "version": "2.7.12"
  }
 },
 "nbformat": 4,
 "nbformat_minor": 0
}
